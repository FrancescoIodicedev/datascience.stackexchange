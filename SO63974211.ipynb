{
  "nbformat": 4,
  "nbformat_minor": 0,
  "metadata": {
    "colab": {
      "name": "SO63974211.ipynb",
      "provenance": [],
      "authorship_tag": "ABX9TyO7HySXf29Hdnxf0TYyMknX",
      "include_colab_link": true
    },
    "kernelspec": {
      "name": "python3",
      "display_name": "Python 3"
    }
  },
  "cells": [
    {
      "cell_type": "markdown",
      "metadata": {
        "id": "view-in-github",
        "colab_type": "text"
      },
      "source": [
        "<a href=\"https://colab.research.google.com/github/bmreiniger/datascience.stackexchange/blob/master/SO63974211.ipynb\" target=\"_parent\"><img src=\"https://colab.research.google.com/assets/colab-badge.svg\" alt=\"Open In Colab\"/></a>"
      ]
    },
    {
      "cell_type": "code",
      "metadata": {
        "id": "-ghgISOTytvM",
        "colab_type": "code",
        "colab": {
          "base_uri": "https://localhost:8080/",
          "height": 109
        },
        "outputId": "fd58c38c-b911-4966-e9e4-6519f5afc961"
      },
      "source": [
        "!pip install scikit-learn==0.23"
      ],
      "execution_count": 1,
      "outputs": [
        {
          "output_type": "stream",
          "text": [
            "Requirement already satisfied: scikit-learn==0.23 in /usr/local/lib/python3.6/dist-packages (0.23.0)\n",
            "Requirement already satisfied: threadpoolctl>=2.0.0 in /usr/local/lib/python3.6/dist-packages (from scikit-learn==0.23) (2.1.0)\n",
            "Requirement already satisfied: scipy>=0.19.1 in /usr/local/lib/python3.6/dist-packages (from scikit-learn==0.23) (1.4.1)\n",
            "Requirement already satisfied: joblib>=0.11 in /usr/local/lib/python3.6/dist-packages (from scikit-learn==0.23) (0.16.0)\n",
            "Requirement already satisfied: numpy>=1.13.3 in /usr/local/lib/python3.6/dist-packages (from scikit-learn==0.23) (1.18.5)\n"
          ],
          "name": "stdout"
        }
      ]
    },
    {
      "cell_type": "code",
      "metadata": {
        "id": "-t-_JqP-wUYh",
        "colab_type": "code",
        "colab": {}
      },
      "source": [
        "from sklearn import config_context\n",
        "from sklearn.ensemble import StackingClassifier\n",
        "from sklearn.compose import ColumnTransformer\n",
        "from sklearn.datasets import load_breast_cancer\n",
        "from sklearn.linear_model import LogisticRegression\n",
        "from sklearn.tree import DecisionTreeClassifier\n",
        "from sklearn.neighbors import KNeighborsClassifier\n",
        "from sklearn.utils._estimator_html_repr import estimator_html_repr\n"
      ],
      "execution_count": 2,
      "outputs": []
    },
    {
      "cell_type": "code",
      "metadata": {
        "id": "4MIbYjOaw6j6",
        "colab_type": "code",
        "colab": {}
      },
      "source": [
        "X, y = load_breast_cancer(return_X_y=True, as_frame=True)"
      ],
      "execution_count": 3,
      "outputs": []
    },
    {
      "cell_type": "code",
      "metadata": {
        "id": "MOXl1oZPy4YR",
        "colab_type": "code",
        "colab": {
          "base_uri": "https://localhost:8080/",
          "height": 280
        },
        "outputId": "5e92c110-897f-4c5a-9bfc-a6fe8c3f14cc"
      },
      "source": [
        "print(X.shape)\n",
        "X.head()"
      ],
      "execution_count": 4,
      "outputs": [
        {
          "output_type": "stream",
          "text": [
            "(569, 30)\n"
          ],
          "name": "stdout"
        },
        {
          "output_type": "execute_result",
          "data": {
            "text/html": [
              "<div>\n",
              "<style scoped>\n",
              "    .dataframe tbody tr th:only-of-type {\n",
              "        vertical-align: middle;\n",
              "    }\n",
              "\n",
              "    .dataframe tbody tr th {\n",
              "        vertical-align: top;\n",
              "    }\n",
              "\n",
              "    .dataframe thead th {\n",
              "        text-align: right;\n",
              "    }\n",
              "</style>\n",
              "<table border=\"1\" class=\"dataframe\">\n",
              "  <thead>\n",
              "    <tr style=\"text-align: right;\">\n",
              "      <th></th>\n",
              "      <th>mean radius</th>\n",
              "      <th>mean texture</th>\n",
              "      <th>mean perimeter</th>\n",
              "      <th>mean area</th>\n",
              "      <th>mean smoothness</th>\n",
              "      <th>mean compactness</th>\n",
              "      <th>mean concavity</th>\n",
              "      <th>mean concave points</th>\n",
              "      <th>mean symmetry</th>\n",
              "      <th>mean fractal dimension</th>\n",
              "      <th>radius error</th>\n",
              "      <th>texture error</th>\n",
              "      <th>perimeter error</th>\n",
              "      <th>area error</th>\n",
              "      <th>smoothness error</th>\n",
              "      <th>compactness error</th>\n",
              "      <th>concavity error</th>\n",
              "      <th>concave points error</th>\n",
              "      <th>symmetry error</th>\n",
              "      <th>fractal dimension error</th>\n",
              "      <th>worst radius</th>\n",
              "      <th>worst texture</th>\n",
              "      <th>worst perimeter</th>\n",
              "      <th>worst area</th>\n",
              "      <th>worst smoothness</th>\n",
              "      <th>worst compactness</th>\n",
              "      <th>worst concavity</th>\n",
              "      <th>worst concave points</th>\n",
              "      <th>worst symmetry</th>\n",
              "      <th>worst fractal dimension</th>\n",
              "    </tr>\n",
              "  </thead>\n",
              "  <tbody>\n",
              "    <tr>\n",
              "      <th>0</th>\n",
              "      <td>17.99</td>\n",
              "      <td>10.38</td>\n",
              "      <td>122.80</td>\n",
              "      <td>1001.0</td>\n",
              "      <td>0.11840</td>\n",
              "      <td>0.27760</td>\n",
              "      <td>0.3001</td>\n",
              "      <td>0.14710</td>\n",
              "      <td>0.2419</td>\n",
              "      <td>0.07871</td>\n",
              "      <td>1.0950</td>\n",
              "      <td>0.9053</td>\n",
              "      <td>8.589</td>\n",
              "      <td>153.40</td>\n",
              "      <td>0.006399</td>\n",
              "      <td>0.04904</td>\n",
              "      <td>0.05373</td>\n",
              "      <td>0.01587</td>\n",
              "      <td>0.03003</td>\n",
              "      <td>0.006193</td>\n",
              "      <td>25.38</td>\n",
              "      <td>17.33</td>\n",
              "      <td>184.60</td>\n",
              "      <td>2019.0</td>\n",
              "      <td>0.1622</td>\n",
              "      <td>0.6656</td>\n",
              "      <td>0.7119</td>\n",
              "      <td>0.2654</td>\n",
              "      <td>0.4601</td>\n",
              "      <td>0.11890</td>\n",
              "    </tr>\n",
              "    <tr>\n",
              "      <th>1</th>\n",
              "      <td>20.57</td>\n",
              "      <td>17.77</td>\n",
              "      <td>132.90</td>\n",
              "      <td>1326.0</td>\n",
              "      <td>0.08474</td>\n",
              "      <td>0.07864</td>\n",
              "      <td>0.0869</td>\n",
              "      <td>0.07017</td>\n",
              "      <td>0.1812</td>\n",
              "      <td>0.05667</td>\n",
              "      <td>0.5435</td>\n",
              "      <td>0.7339</td>\n",
              "      <td>3.398</td>\n",
              "      <td>74.08</td>\n",
              "      <td>0.005225</td>\n",
              "      <td>0.01308</td>\n",
              "      <td>0.01860</td>\n",
              "      <td>0.01340</td>\n",
              "      <td>0.01389</td>\n",
              "      <td>0.003532</td>\n",
              "      <td>24.99</td>\n",
              "      <td>23.41</td>\n",
              "      <td>158.80</td>\n",
              "      <td>1956.0</td>\n",
              "      <td>0.1238</td>\n",
              "      <td>0.1866</td>\n",
              "      <td>0.2416</td>\n",
              "      <td>0.1860</td>\n",
              "      <td>0.2750</td>\n",
              "      <td>0.08902</td>\n",
              "    </tr>\n",
              "    <tr>\n",
              "      <th>2</th>\n",
              "      <td>19.69</td>\n",
              "      <td>21.25</td>\n",
              "      <td>130.00</td>\n",
              "      <td>1203.0</td>\n",
              "      <td>0.10960</td>\n",
              "      <td>0.15990</td>\n",
              "      <td>0.1974</td>\n",
              "      <td>0.12790</td>\n",
              "      <td>0.2069</td>\n",
              "      <td>0.05999</td>\n",
              "      <td>0.7456</td>\n",
              "      <td>0.7869</td>\n",
              "      <td>4.585</td>\n",
              "      <td>94.03</td>\n",
              "      <td>0.006150</td>\n",
              "      <td>0.04006</td>\n",
              "      <td>0.03832</td>\n",
              "      <td>0.02058</td>\n",
              "      <td>0.02250</td>\n",
              "      <td>0.004571</td>\n",
              "      <td>23.57</td>\n",
              "      <td>25.53</td>\n",
              "      <td>152.50</td>\n",
              "      <td>1709.0</td>\n",
              "      <td>0.1444</td>\n",
              "      <td>0.4245</td>\n",
              "      <td>0.4504</td>\n",
              "      <td>0.2430</td>\n",
              "      <td>0.3613</td>\n",
              "      <td>0.08758</td>\n",
              "    </tr>\n",
              "    <tr>\n",
              "      <th>3</th>\n",
              "      <td>11.42</td>\n",
              "      <td>20.38</td>\n",
              "      <td>77.58</td>\n",
              "      <td>386.1</td>\n",
              "      <td>0.14250</td>\n",
              "      <td>0.28390</td>\n",
              "      <td>0.2414</td>\n",
              "      <td>0.10520</td>\n",
              "      <td>0.2597</td>\n",
              "      <td>0.09744</td>\n",
              "      <td>0.4956</td>\n",
              "      <td>1.1560</td>\n",
              "      <td>3.445</td>\n",
              "      <td>27.23</td>\n",
              "      <td>0.009110</td>\n",
              "      <td>0.07458</td>\n",
              "      <td>0.05661</td>\n",
              "      <td>0.01867</td>\n",
              "      <td>0.05963</td>\n",
              "      <td>0.009208</td>\n",
              "      <td>14.91</td>\n",
              "      <td>26.50</td>\n",
              "      <td>98.87</td>\n",
              "      <td>567.7</td>\n",
              "      <td>0.2098</td>\n",
              "      <td>0.8663</td>\n",
              "      <td>0.6869</td>\n",
              "      <td>0.2575</td>\n",
              "      <td>0.6638</td>\n",
              "      <td>0.17300</td>\n",
              "    </tr>\n",
              "    <tr>\n",
              "      <th>4</th>\n",
              "      <td>20.29</td>\n",
              "      <td>14.34</td>\n",
              "      <td>135.10</td>\n",
              "      <td>1297.0</td>\n",
              "      <td>0.10030</td>\n",
              "      <td>0.13280</td>\n",
              "      <td>0.1980</td>\n",
              "      <td>0.10430</td>\n",
              "      <td>0.1809</td>\n",
              "      <td>0.05883</td>\n",
              "      <td>0.7572</td>\n",
              "      <td>0.7813</td>\n",
              "      <td>5.438</td>\n",
              "      <td>94.44</td>\n",
              "      <td>0.011490</td>\n",
              "      <td>0.02461</td>\n",
              "      <td>0.05688</td>\n",
              "      <td>0.01885</td>\n",
              "      <td>0.01756</td>\n",
              "      <td>0.005115</td>\n",
              "      <td>22.54</td>\n",
              "      <td>16.67</td>\n",
              "      <td>152.20</td>\n",
              "      <td>1575.0</td>\n",
              "      <td>0.1374</td>\n",
              "      <td>0.2050</td>\n",
              "      <td>0.4000</td>\n",
              "      <td>0.1625</td>\n",
              "      <td>0.2364</td>\n",
              "      <td>0.07678</td>\n",
              "    </tr>\n",
              "  </tbody>\n",
              "</table>\n",
              "</div>"
            ],
            "text/plain": [
              "   mean radius  mean texture  ...  worst symmetry  worst fractal dimension\n",
              "0        17.99         10.38  ...          0.4601                  0.11890\n",
              "1        20.57         17.77  ...          0.2750                  0.08902\n",
              "2        19.69         21.25  ...          0.3613                  0.08758\n",
              "3        11.42         20.38  ...          0.6638                  0.17300\n",
              "4        20.29         14.34  ...          0.2364                  0.07678\n",
              "\n",
              "[5 rows x 30 columns]"
            ]
          },
          "metadata": {
            "tags": []
          },
          "execution_count": 4
        }
      ]
    },
    {
      "cell_type": "markdown",
      "metadata": {
        "id": "H3Lle2xRrxuu",
        "colab_type": "text"
      },
      "source": [
        "# Pass the extra features off as predictions"
      ]
    },
    {
      "cell_type": "code",
      "metadata": {
        "id": "g9gBGea5y5Ox",
        "colab_type": "code",
        "colab": {
          "base_uri": "https://localhost:8080/",
          "height": 572
        },
        "outputId": "8e5a6379-5135-421c-c9ae-d8a223d66bee"
      },
      "source": [
        "from sklearn.base import ClassifierMixin, TransformerMixin\n",
        "from sklearn.pipeline import Pipeline\n",
        "class IdentityPassthrough(ClassifierMixin):\n",
        "    def __init__(self):\n",
        "        pass\n",
        "    def fit(self, X, y):\n",
        "        return self\n",
        "    def predict(self, X):\n",
        "        return X\n",
        "\n",
        "partial_passthrough = Pipeline([\n",
        "    ('pass', ColumnTransformer([('pass', 'passthrough', ['mean perimeter', 'mean area'])])),\n",
        "    ('ident', IdentityPassthrough()),\n",
        "])\n",
        "base_features = ColumnTransformer([('pass', 'passthrough', ['mean radius', 'mean texture'])])\n",
        "\n",
        "model = StackingClassifier(estimators=[\n",
        "        ('pass', partial_passthrough),\n",
        "        ('tree', Pipeline([('select', base_features), ('tree', DecisionTreeClassifier(random_state=42))])),\n",
        "        ('knn', Pipeline([('select', base_features), ('knn', KNeighborsClassifier())])),\n",
        "    ])\n",
        "\n",
        "model.fit(X, y)"
      ],
      "execution_count": 5,
      "outputs": [
        {
          "output_type": "execute_result",
          "data": {
            "text/plain": [
              "StackingClassifier(estimators=[('pass',\n",
              "                                Pipeline(steps=[('pass',\n",
              "                                                 ColumnTransformer(transformers=[('pass',\n",
              "                                                                                  'passthrough',\n",
              "                                                                                  ['mean '\n",
              "                                                                                   'perimeter',\n",
              "                                                                                   'mean '\n",
              "                                                                                   'area'])])),\n",
              "                                                ('ident',\n",
              "                                                 <__main__.IdentityPassthrough object at 0x7faf357e3438>)])),\n",
              "                               ('tree',\n",
              "                                Pipeline(steps=[('select',\n",
              "                                                 ColumnTransformer(transformers=[('pass',\n",
              "                                                                                  'passthrough',\n",
              "                                                                                  ['mean '\n",
              "                                                                                   'radius',\n",
              "                                                                                   'mean '\n",
              "                                                                                   'texture'])])),\n",
              "                                                ('tree',\n",
              "                                                 DecisionTreeClassifier(random_state=42))])),\n",
              "                               ('knn',\n",
              "                                Pipeline(steps=[('select',\n",
              "                                                 ColumnTransformer(transformers=[('pass',\n",
              "                                                                                  'passthrough',\n",
              "                                                                                  ['mean '\n",
              "                                                                                   'radius',\n",
              "                                                                                   'mean '\n",
              "                                                                                   'texture'])])),\n",
              "                                                ('knn',\n",
              "                                                 KNeighborsClassifier())]))])"
            ]
          },
          "metadata": {
            "tags": []
          },
          "execution_count": 5
        }
      ]
    },
    {
      "cell_type": "code",
      "metadata": {
        "id": "iYCIIuK8k5z7",
        "colab_type": "code",
        "colab": {
          "base_uri": "https://localhost:8080/",
          "height": 220
        },
        "outputId": "b737f85f-9e3b-4d19-f116-e87af85232fa"
      },
      "source": [
        "with config_context(display='diagram'):\n",
        "    display(model)"
      ],
      "execution_count": 6,
      "outputs": [
        {
          "output_type": "display_data",
          "data": {
            "text/html": [
              "<style>div.sk-top-container {color: black;background-color: white;}div.sk-toggleable {background-color: white;}label.sk-toggleable__label {cursor: pointer;display: block;width: 100%;margin-bottom: 0;padding: 0.2em 0.3em;box-sizing: border-box;text-align: center;}div.sk-toggleable__content {max-height: 0;max-width: 0;overflow: hidden;text-align: left;background-color: #f0f8ff;}div.sk-toggleable__content pre {margin: 0.2em;color: black;border-radius: 0.25em;background-color: #f0f8ff;}input.sk-toggleable__control:checked~div.sk-toggleable__content {max-height: 200px;max-width: 100%;overflow: auto;}div.sk-estimator input.sk-toggleable__control:checked~label.sk-toggleable__label {background-color: #d4ebff;}div.sk-label input.sk-toggleable__control:checked~label.sk-toggleable__label {background-color: #d4ebff;}input.sk-hidden--visually {border: 0;clip: rect(1px 1px 1px 1px);clip: rect(1px, 1px, 1px, 1px);height: 1px;margin: -1px;overflow: hidden;padding: 0;position: absolute;width: 1px;}div.sk-estimator {font-family: monospace;background-color: #f0f8ff;margin: 0.25em 0.25em;border: 1px dotted black;border-radius: 0.25em;box-sizing: border-box;}div.sk-estimator:hover {background-color: #d4ebff;}div.sk-parallel-item::after {content: \"\";width: 100%;border-bottom: 1px solid gray;flex-grow: 1;}div.sk-label:hover label.sk-toggleable__label {background-color: #d4ebff;}div.sk-serial::before {content: \"\";position: absolute;border-left: 1px solid gray;box-sizing: border-box;top: 2em;bottom: 0;left: 50%;}div.sk-serial {display: flex;flex-direction: column;align-items: center;background-color: white;}div.sk-item {z-index: 1;}div.sk-parallel {display: flex;align-items: stretch;justify-content: center;background-color: white;}div.sk-parallel-item {display: flex;flex-direction: column;position: relative;background-color: white;}div.sk-parallel-item:first-child::after {align-self: flex-end;width: 50%;}div.sk-parallel-item:last-child::after {align-self: flex-start;width: 50%;}div.sk-parallel-item:only-child::after {width: 0;}div.sk-dashed-wrapped {border: 1px dashed gray;margin: 0.2em;box-sizing: border-box;padding-bottom: 0.1em;background-color: white;position: relative;}div.sk-label label {font-family: monospace;font-weight: bold;background-color: white;display: inline-block;line-height: 1.2em;}div.sk-label-container {position: relative;z-index: 2;text-align: center;}div.sk-container {display: inline-block;position: relative;}</style><div class=\"sk-top-container\"><div class=\"sk-container\"><div class=\"sk-item sk-dashed-wrapped\"><div class=\"sk-label-container\"><div class=\"sk-label sk-toggleable\"><input class=\"sk-toggleable__control sk-hidden--visually\" id=\"43a27a89-16a8-4483-b448-245ed1ac54cc\" type=\"checkbox\" ><label class=\"sk-toggleable__label\" for=\"43a27a89-16a8-4483-b448-245ed1ac54cc\">StackingClassifier</label><div class=\"sk-toggleable__content\"><pre>StackingClassifier(estimators=[('pass',\n",
              "                                Pipeline(steps=[('pass',\n",
              "                                                 ColumnTransformer(transformers=[('pass',\n",
              "                                                                                  'passthrough',\n",
              "                                                                                  ['mean '\n",
              "                                                                                   'perimeter',\n",
              "                                                                                   'mean '\n",
              "                                                                                   'area'])])),\n",
              "                                                ('ident',\n",
              "                                                 <__main__.IdentityPassthrough object at 0x7faf357e3438>)])),\n",
              "                               ('tree',\n",
              "                                Pipeline(steps=[('select',\n",
              "                                                 ColumnTransformer(transformers=[('pass',\n",
              "                                                                                  'passthrough',\n",
              "                                                                                  ['mean '\n",
              "                                                                                   'radius',\n",
              "                                                                                   'mean '\n",
              "                                                                                   'texture'])])),\n",
              "                                                ('tree',\n",
              "                                                 DecisionTreeClassifier(random_state=42))])),\n",
              "                               ('knn',\n",
              "                                Pipeline(steps=[('select',\n",
              "                                                 ColumnTransformer(transformers=[('pass',\n",
              "                                                                                  'passthrough',\n",
              "                                                                                  ['mean '\n",
              "                                                                                   'radius',\n",
              "                                                                                   'mean '\n",
              "                                                                                   'texture'])])),\n",
              "                                                ('knn',\n",
              "                                                 KNeighborsClassifier())]))])</pre></div></div></div><div class=\"sk-serial\"><div class=\"sk-item\"><div class=\"sk-serial\"><div class=\"sk-item\"><div class=\"sk-parallel\"><div class=\"sk-parallel-item\"><div class=\"sk-item\"><div class=\"sk-label-container\"><div class=\"sk-label sk-toggleable\"><label>pass</label></div></div><div class=\"sk-serial\"><div class=\"sk-item\"><div class=\"sk-serial\"><div class=\"sk-item sk-dashed-wrapped\"><div class=\"sk-label-container\"><div class=\"sk-label sk-toggleable\"><input class=\"sk-toggleable__control sk-hidden--visually\" id=\"e3688ae4-3380-42fe-a143-4afbbbe3c600\" type=\"checkbox\" ><label class=\"sk-toggleable__label\" for=\"e3688ae4-3380-42fe-a143-4afbbbe3c600\">pass: ColumnTransformer</label><div class=\"sk-toggleable__content\"><pre>ColumnTransformer(transformers=[('pass', 'passthrough',\n",
              "                                 ['mean perimeter', 'mean area'])])</pre></div></div></div><div class=\"sk-parallel\"><div class=\"sk-parallel-item\"><div class=\"sk-item\"><div class=\"sk-label-container\"><div class=\"sk-label sk-toggleable\"><input class=\"sk-toggleable__control sk-hidden--visually\" id=\"338b0330-2470-4532-a8ab-09d385edf458\" type=\"checkbox\" ><label class=\"sk-toggleable__label\" for=\"338b0330-2470-4532-a8ab-09d385edf458\">pass</label><div class=\"sk-toggleable__content\"><pre>['mean perimeter', 'mean area']</pre></div></div></div><div class=\"sk-serial\"><div class=\"sk-item\"><div class=\"sk-estimator sk-toggleable\"><input class=\"sk-toggleable__control sk-hidden--visually\" id=\"5a5f2ef8-4126-4b78-8986-c2104c60b8e6\" type=\"checkbox\" ><label class=\"sk-toggleable__label\" for=\"5a5f2ef8-4126-4b78-8986-c2104c60b8e6\">passthrough</label><div class=\"sk-toggleable__content\"><pre>passthrough</pre></div></div></div></div></div></div></div></div><div class=\"sk-item\"><div class=\"sk-estimator sk-toggleable\"><input class=\"sk-toggleable__control sk-hidden--visually\" id=\"fabc1f8b-73d6-4775-bf3f-b24783b5dbbe\" type=\"checkbox\" ><label class=\"sk-toggleable__label\" for=\"fabc1f8b-73d6-4775-bf3f-b24783b5dbbe\">IdentityPassthrough</label><div class=\"sk-toggleable__content\"><pre><__main__.IdentityPassthrough object at 0x7faf357e3438></pre></div></div></div></div></div></div></div></div><div class=\"sk-parallel-item\"><div class=\"sk-item\"><div class=\"sk-label-container\"><div class=\"sk-label sk-toggleable\"><label>tree</label></div></div><div class=\"sk-serial\"><div class=\"sk-item\"><div class=\"sk-serial\"><div class=\"sk-item sk-dashed-wrapped\"><div class=\"sk-label-container\"><div class=\"sk-label sk-toggleable\"><input class=\"sk-toggleable__control sk-hidden--visually\" id=\"adb5c5c8-9bd8-45f5-b8fc-dc529fce089e\" type=\"checkbox\" ><label class=\"sk-toggleable__label\" for=\"adb5c5c8-9bd8-45f5-b8fc-dc529fce089e\">select: ColumnTransformer</label><div class=\"sk-toggleable__content\"><pre>ColumnTransformer(transformers=[('pass', 'passthrough',\n",
              "                                 ['mean radius', 'mean texture'])])</pre></div></div></div><div class=\"sk-parallel\"><div class=\"sk-parallel-item\"><div class=\"sk-item\"><div class=\"sk-label-container\"><div class=\"sk-label sk-toggleable\"><input class=\"sk-toggleable__control sk-hidden--visually\" id=\"8240535e-7131-4d5a-a580-7f404424a279\" type=\"checkbox\" ><label class=\"sk-toggleable__label\" for=\"8240535e-7131-4d5a-a580-7f404424a279\">pass</label><div class=\"sk-toggleable__content\"><pre>['mean radius', 'mean texture']</pre></div></div></div><div class=\"sk-serial\"><div class=\"sk-item\"><div class=\"sk-estimator sk-toggleable\"><input class=\"sk-toggleable__control sk-hidden--visually\" id=\"16542f2a-fe81-49ef-bfdb-aa4797f965af\" type=\"checkbox\" ><label class=\"sk-toggleable__label\" for=\"16542f2a-fe81-49ef-bfdb-aa4797f965af\">passthrough</label><div class=\"sk-toggleable__content\"><pre>passthrough</pre></div></div></div></div></div></div></div></div><div class=\"sk-item\"><div class=\"sk-estimator sk-toggleable\"><input class=\"sk-toggleable__control sk-hidden--visually\" id=\"903214b9-6469-4552-ac72-e092ac4f6afa\" type=\"checkbox\" ><label class=\"sk-toggleable__label\" for=\"903214b9-6469-4552-ac72-e092ac4f6afa\">DecisionTreeClassifier</label><div class=\"sk-toggleable__content\"><pre>DecisionTreeClassifier(random_state=42)</pre></div></div></div></div></div></div></div></div><div class=\"sk-parallel-item\"><div class=\"sk-item\"><div class=\"sk-label-container\"><div class=\"sk-label sk-toggleable\"><label>knn</label></div></div><div class=\"sk-serial\"><div class=\"sk-item\"><div class=\"sk-serial\"><div class=\"sk-item sk-dashed-wrapped\"><div class=\"sk-label-container\"><div class=\"sk-label sk-toggleable\"><input class=\"sk-toggleable__control sk-hidden--visually\" id=\"4e64e88e-7c52-4e52-9a87-315f571bf230\" type=\"checkbox\" ><label class=\"sk-toggleable__label\" for=\"4e64e88e-7c52-4e52-9a87-315f571bf230\">select: ColumnTransformer</label><div class=\"sk-toggleable__content\"><pre>ColumnTransformer(transformers=[('pass', 'passthrough',\n",
              "                                 ['mean radius', 'mean texture'])])</pre></div></div></div><div class=\"sk-parallel\"><div class=\"sk-parallel-item\"><div class=\"sk-item\"><div class=\"sk-label-container\"><div class=\"sk-label sk-toggleable\"><input class=\"sk-toggleable__control sk-hidden--visually\" id=\"88259eb5-59b9-4952-8c14-d2f712c26cac\" type=\"checkbox\" ><label class=\"sk-toggleable__label\" for=\"88259eb5-59b9-4952-8c14-d2f712c26cac\">pass</label><div class=\"sk-toggleable__content\"><pre>['mean radius', 'mean texture']</pre></div></div></div><div class=\"sk-serial\"><div class=\"sk-item\"><div class=\"sk-estimator sk-toggleable\"><input class=\"sk-toggleable__control sk-hidden--visually\" id=\"746c67b1-1638-4327-855e-41a5efda37ef\" type=\"checkbox\" ><label class=\"sk-toggleable__label\" for=\"746c67b1-1638-4327-855e-41a5efda37ef\">passthrough</label><div class=\"sk-toggleable__content\"><pre>passthrough</pre></div></div></div></div></div></div></div></div><div class=\"sk-item\"><div class=\"sk-estimator sk-toggleable\"><input class=\"sk-toggleable__control sk-hidden--visually\" id=\"84cb3592-f6ba-48ee-bff3-455fff16973e\" type=\"checkbox\" ><label class=\"sk-toggleable__label\" for=\"84cb3592-f6ba-48ee-bff3-455fff16973e\">KNeighborsClassifier</label><div class=\"sk-toggleable__content\"><pre>KNeighborsClassifier()</pre></div></div></div></div></div></div></div></div></div></div><div class=\"sk-item\"><div class=\"sk-estimator sk-toggleable\"><input class=\"sk-toggleable__control sk-hidden--visually\" id=\"1dbbd22a-4491-4801-b574-60eab36dfbda\" type=\"checkbox\" ><label class=\"sk-toggleable__label\" for=\"1dbbd22a-4491-4801-b574-60eab36dfbda\">LogisticRegression</label><div class=\"sk-toggleable__content\"><pre>LogisticRegression()</pre></div></div></div></div></div></div></div></div></div>"
            ],
            "text/plain": [
              "StackingClassifier(estimators=[('pass',\n",
              "                                Pipeline(steps=[('pass',\n",
              "                                                 ColumnTransformer(transformers=[('pass',\n",
              "                                                                                  'passthrough',\n",
              "                                                                                  ['mean '\n",
              "                                                                                   'perimeter',\n",
              "                                                                                   'mean '\n",
              "                                                                                   'area'])])),\n",
              "                                                ('ident',\n",
              "                                                 <__main__.IdentityPassthrough object at 0x7faf357e3438>)])),\n",
              "                               ('tree',\n",
              "                                Pipeline(steps=[('select',\n",
              "                                                 ColumnTransformer(transformers=[('pass',\n",
              "                                                                                  'passthrough',\n",
              "                                                                                  ['mean '\n",
              "                                                                                   'radius',\n",
              "                                                                                   'mean '\n",
              "                                                                                   'texture'])])),\n",
              "                                                ('tree',\n",
              "                                                 DecisionTreeClassifier(random_state=42))])),\n",
              "                               ('knn',\n",
              "                                Pipeline(steps=[('select',\n",
              "                                                 ColumnTransformer(transformers=[('pass',\n",
              "                                                                                  'passthrough',\n",
              "                                                                                  ['mean '\n",
              "                                                                                   'radius',\n",
              "                                                                                   'mean '\n",
              "                                                                                   'texture'])])),\n",
              "                                                ('knn',\n",
              "                                                 KNeighborsClassifier())]))])"
            ]
          },
          "metadata": {
            "tags": []
          }
        }
      ]
    },
    {
      "cell_type": "code",
      "metadata": {
        "id": "s9pa0I6Vt37E",
        "colab_type": "code",
        "colab": {
          "base_uri": "https://localhost:8080/",
          "height": 55
        },
        "outputId": "ed656b78-9398-4060-ea81-210f51b18b4d"
      },
      "source": [
        "# To paste the diagram as html:\n",
        "print(estimator_html_repr(model).replace('\\n', ' ').replace('  ', ' '))"
      ],
      "execution_count": 7,
      "outputs": [
        {
          "output_type": "stream",
          "text": [
            "<style>div.sk-top-container {color: black;background-color: white;}div.sk-toggleable {background-color: white;}label.sk-toggleable__label {cursor: pointer;display: block;width: 100%;margin-bottom: 0;padding: 0.2em 0.3em;box-sizing: border-box;text-align: center;}div.sk-toggleable__content {max-height: 0;max-width: 0;overflow: hidden;text-align: left;background-color: #f0f8ff;}div.sk-toggleable__content pre {margin: 0.2em;color: black;border-radius: 0.25em;background-color: #f0f8ff;}input.sk-toggleable__control:checked~div.sk-toggleable__content {max-height: 200px;max-width: 100%;overflow: auto;}div.sk-estimator input.sk-toggleable__control:checked~label.sk-toggleable__label {background-color: #d4ebff;}div.sk-label input.sk-toggleable__control:checked~label.sk-toggleable__label {background-color: #d4ebff;}input.sk-hidden--visually {border: 0;clip: rect(1px 1px 1px 1px);clip: rect(1px, 1px, 1px, 1px);height: 1px;margin: -1px;overflow: hidden;padding: 0;position: absolute;width: 1px;}div.sk-estimator {font-family: monospace;background-color: #f0f8ff;margin: 0.25em 0.25em;border: 1px dotted black;border-radius: 0.25em;box-sizing: border-box;}div.sk-estimator:hover {background-color: #d4ebff;}div.sk-parallel-item::after {content: \"\";width: 100%;border-bottom: 1px solid gray;flex-grow: 1;}div.sk-label:hover label.sk-toggleable__label {background-color: #d4ebff;}div.sk-serial::before {content: \"\";position: absolute;border-left: 1px solid gray;box-sizing: border-box;top: 2em;bottom: 0;left: 50%;}div.sk-serial {display: flex;flex-direction: column;align-items: center;background-color: white;}div.sk-item {z-index: 1;}div.sk-parallel {display: flex;align-items: stretch;justify-content: center;background-color: white;}div.sk-parallel-item {display: flex;flex-direction: column;position: relative;background-color: white;}div.sk-parallel-item:first-child::after {align-self: flex-end;width: 50%;}div.sk-parallel-item:last-child::after {align-self: flex-start;width: 50%;}div.sk-parallel-item:only-child::after {width: 0;}div.sk-dashed-wrapped {border: 1px dashed gray;margin: 0.2em;box-sizing: border-box;padding-bottom: 0.1em;background-color: white;position: relative;}div.sk-label label {font-family: monospace;font-weight: bold;background-color: white;display: inline-block;line-height: 1.2em;}div.sk-label-container {position: relative;z-index: 2;text-align: center;}div.sk-container {display: inline-block;position: relative;}</style><div class=\"sk-top-container\"><div class=\"sk-container\"><div class=\"sk-item sk-dashed-wrapped\"><div class=\"sk-label-container\"><div class=\"sk-label sk-toggleable\"><input class=\"sk-toggleable__control sk-hidden--visually\" id=\"9e93241c-91e9-4691-bd77-95bf84e45003\" type=\"checkbox\" ><label class=\"sk-toggleable__label\" for=\"9e93241c-91e9-4691-bd77-95bf84e45003\">StackingClassifier</label><div class=\"sk-toggleable__content\"><pre>StackingClassifier(estimators=[('pass',                 Pipeline(steps=[('pass',                         ColumnTransformer(transformers=[('pass',                                          'passthrough',                                          ['mean '                                          'perimeter',                                          'mean '                                          'area'])])),                         ('ident',                         <__main__.IdentityPassthrough object at 0x7faf357e3438>)])),                ('tree',                 Pipeline(steps=[('select',                         ColumnTransformer(transformers=[('pass',                                          'passthrough',                                          ['mean '                                          'radius',                                          'mean '                                          'texture'])])),                         ('tree',                         DecisionTreeClassifier(random_state=42))])),                ('knn',                 Pipeline(steps=[('select',                         ColumnTransformer(transformers=[('pass',                                          'passthrough',                                          ['mean '                                          'radius',                                          'mean '                                          'texture'])])),                         ('knn',                         KNeighborsClassifier())]))])</pre></div></div></div><div class=\"sk-serial\"><div class=\"sk-item\"><div class=\"sk-serial\"><div class=\"sk-item\"><div class=\"sk-parallel\"><div class=\"sk-parallel-item\"><div class=\"sk-item\"><div class=\"sk-label-container\"><div class=\"sk-label sk-toggleable\"><label>pass</label></div></div><div class=\"sk-serial\"><div class=\"sk-item\"><div class=\"sk-serial\"><div class=\"sk-item sk-dashed-wrapped\"><div class=\"sk-label-container\"><div class=\"sk-label sk-toggleable\"><input class=\"sk-toggleable__control sk-hidden--visually\" id=\"3d3aa829-dbee-408c-addd-35fa0bc10616\" type=\"checkbox\" ><label class=\"sk-toggleable__label\" for=\"3d3aa829-dbee-408c-addd-35fa0bc10616\">pass: ColumnTransformer</label><div class=\"sk-toggleable__content\"><pre>ColumnTransformer(transformers=[('pass', 'passthrough',                 ['mean perimeter', 'mean area'])])</pre></div></div></div><div class=\"sk-parallel\"><div class=\"sk-parallel-item\"><div class=\"sk-item\"><div class=\"sk-label-container\"><div class=\"sk-label sk-toggleable\"><input class=\"sk-toggleable__control sk-hidden--visually\" id=\"20520780-e3e1-4e15-aecf-16610109c9d1\" type=\"checkbox\" ><label class=\"sk-toggleable__label\" for=\"20520780-e3e1-4e15-aecf-16610109c9d1\">pass</label><div class=\"sk-toggleable__content\"><pre>['mean perimeter', 'mean area']</pre></div></div></div><div class=\"sk-serial\"><div class=\"sk-item\"><div class=\"sk-estimator sk-toggleable\"><input class=\"sk-toggleable__control sk-hidden--visually\" id=\"6220b63e-1ccd-4413-8fb1-ee3c4df3ef62\" type=\"checkbox\" ><label class=\"sk-toggleable__label\" for=\"6220b63e-1ccd-4413-8fb1-ee3c4df3ef62\">passthrough</label><div class=\"sk-toggleable__content\"><pre>passthrough</pre></div></div></div></div></div></div></div></div><div class=\"sk-item\"><div class=\"sk-estimator sk-toggleable\"><input class=\"sk-toggleable__control sk-hidden--visually\" id=\"51f6006e-4d2c-400a-8b1d-bdebb071f0c6\" type=\"checkbox\" ><label class=\"sk-toggleable__label\" for=\"51f6006e-4d2c-400a-8b1d-bdebb071f0c6\">IdentityPassthrough</label><div class=\"sk-toggleable__content\"><pre><__main__.IdentityPassthrough object at 0x7faf357e3438></pre></div></div></div></div></div></div></div></div><div class=\"sk-parallel-item\"><div class=\"sk-item\"><div class=\"sk-label-container\"><div class=\"sk-label sk-toggleable\"><label>tree</label></div></div><div class=\"sk-serial\"><div class=\"sk-item\"><div class=\"sk-serial\"><div class=\"sk-item sk-dashed-wrapped\"><div class=\"sk-label-container\"><div class=\"sk-label sk-toggleable\"><input class=\"sk-toggleable__control sk-hidden--visually\" id=\"bb4d32fc-930c-4748-a9a4-5dc5dce2540c\" type=\"checkbox\" ><label class=\"sk-toggleable__label\" for=\"bb4d32fc-930c-4748-a9a4-5dc5dce2540c\">select: ColumnTransformer</label><div class=\"sk-toggleable__content\"><pre>ColumnTransformer(transformers=[('pass', 'passthrough',                 ['mean radius', 'mean texture'])])</pre></div></div></div><div class=\"sk-parallel\"><div class=\"sk-parallel-item\"><div class=\"sk-item\"><div class=\"sk-label-container\"><div class=\"sk-label sk-toggleable\"><input class=\"sk-toggleable__control sk-hidden--visually\" id=\"adcf7a60-d8b3-4654-9907-fb12ae79cf5b\" type=\"checkbox\" ><label class=\"sk-toggleable__label\" for=\"adcf7a60-d8b3-4654-9907-fb12ae79cf5b\">pass</label><div class=\"sk-toggleable__content\"><pre>['mean radius', 'mean texture']</pre></div></div></div><div class=\"sk-serial\"><div class=\"sk-item\"><div class=\"sk-estimator sk-toggleable\"><input class=\"sk-toggleable__control sk-hidden--visually\" id=\"9b8ecda4-ada2-484d-94b7-141c5125db4f\" type=\"checkbox\" ><label class=\"sk-toggleable__label\" for=\"9b8ecda4-ada2-484d-94b7-141c5125db4f\">passthrough</label><div class=\"sk-toggleable__content\"><pre>passthrough</pre></div></div></div></div></div></div></div></div><div class=\"sk-item\"><div class=\"sk-estimator sk-toggleable\"><input class=\"sk-toggleable__control sk-hidden--visually\" id=\"78dfb776-623b-4463-a599-23513978bea6\" type=\"checkbox\" ><label class=\"sk-toggleable__label\" for=\"78dfb776-623b-4463-a599-23513978bea6\">DecisionTreeClassifier</label><div class=\"sk-toggleable__content\"><pre>DecisionTreeClassifier(random_state=42)</pre></div></div></div></div></div></div></div></div><div class=\"sk-parallel-item\"><div class=\"sk-item\"><div class=\"sk-label-container\"><div class=\"sk-label sk-toggleable\"><label>knn</label></div></div><div class=\"sk-serial\"><div class=\"sk-item\"><div class=\"sk-serial\"><div class=\"sk-item sk-dashed-wrapped\"><div class=\"sk-label-container\"><div class=\"sk-label sk-toggleable\"><input class=\"sk-toggleable__control sk-hidden--visually\" id=\"c147147e-0261-4052-b630-366abdc48799\" type=\"checkbox\" ><label class=\"sk-toggleable__label\" for=\"c147147e-0261-4052-b630-366abdc48799\">select: ColumnTransformer</label><div class=\"sk-toggleable__content\"><pre>ColumnTransformer(transformers=[('pass', 'passthrough',                 ['mean radius', 'mean texture'])])</pre></div></div></div><div class=\"sk-parallel\"><div class=\"sk-parallel-item\"><div class=\"sk-item\"><div class=\"sk-label-container\"><div class=\"sk-label sk-toggleable\"><input class=\"sk-toggleable__control sk-hidden--visually\" id=\"258e95a2-df0d-4b67-9ad3-d1f405886010\" type=\"checkbox\" ><label class=\"sk-toggleable__label\" for=\"258e95a2-df0d-4b67-9ad3-d1f405886010\">pass</label><div class=\"sk-toggleable__content\"><pre>['mean radius', 'mean texture']</pre></div></div></div><div class=\"sk-serial\"><div class=\"sk-item\"><div class=\"sk-estimator sk-toggleable\"><input class=\"sk-toggleable__control sk-hidden--visually\" id=\"0b252ad0-4bd1-4a78-8779-054810a46803\" type=\"checkbox\" ><label class=\"sk-toggleable__label\" for=\"0b252ad0-4bd1-4a78-8779-054810a46803\">passthrough</label><div class=\"sk-toggleable__content\"><pre>passthrough</pre></div></div></div></div></div></div></div></div><div class=\"sk-item\"><div class=\"sk-estimator sk-toggleable\"><input class=\"sk-toggleable__control sk-hidden--visually\" id=\"a03814c8-2465-4186-80ef-697c2876373a\" type=\"checkbox\" ><label class=\"sk-toggleable__label\" for=\"a03814c8-2465-4186-80ef-697c2876373a\">KNeighborsClassifier</label><div class=\"sk-toggleable__content\"><pre>KNeighborsClassifier()</pre></div></div></div></div></div></div></div></div></div></div><div class=\"sk-item\"><div class=\"sk-estimator sk-toggleable\"><input class=\"sk-toggleable__control sk-hidden--visually\" id=\"11667729-75ce-4ffb-9457-ee3131822ccb\" type=\"checkbox\" ><label class=\"sk-toggleable__label\" for=\"11667729-75ce-4ffb-9457-ee3131822ccb\">LogisticRegression</label><div class=\"sk-toggleable__content\"><pre>LogisticRegression()</pre></div></div></div></div></div></div></div></div></div>\n"
          ],
          "name": "stdout"
        }
      ]
    },
    {
      "cell_type": "code",
      "metadata": {
        "id": "_Z1YySfLpILo",
        "colab_type": "code",
        "colab": {
          "base_uri": "https://localhost:8080/",
          "height": 35
        },
        "outputId": "0b6002a2-e772-456d-e135-0bc4b96b952f"
      },
      "source": [
        "# Check that this model matches the next one\n",
        "model.score(X, y)"
      ],
      "execution_count": 8,
      "outputs": [
        {
          "output_type": "execute_result",
          "data": {
            "text/plain": [
              "0.9156414762741653"
            ]
          },
          "metadata": {
            "tags": []
          },
          "execution_count": 8
        }
      ]
    },
    {
      "cell_type": "markdown",
      "metadata": {
        "id": "pTBsmFSomsFQ",
        "colab_type": "text"
      },
      "source": [
        "# Selection at the meta-estimator"
      ]
    },
    {
      "cell_type": "markdown",
      "metadata": {
        "id": "xuCZjIcjvKnD",
        "colab_type": "text"
      },
      "source": [
        "This approach is finicky because you have to get the indexing right.  The final estimator's select takes columns 0 and 1, which are the base models' predictions (but if this weren't binary classification or some base estimator wasn't calling predict_proba, these would be different), and then features 4 and 5 are the desired additional features, shifted to the right two because of the base models' predictions."
      ]
    },
    {
      "cell_type": "code",
      "metadata": {
        "id": "UfgphucUklEF",
        "colab_type": "code",
        "colab": {
          "base_uri": "https://localhost:8080/",
          "height": 572
        },
        "outputId": "4a9a472d-aa98-4d39-dd96-b628baed408d"
      },
      "source": [
        "from sklearn.base import ClassifierMixin, TransformerMixin\n",
        "from sklearn.pipeline import Pipeline\n",
        "\n",
        "base_features = ColumnTransformer([('pass', 'passthrough', ['mean radius', 'mean texture'])])\n",
        "\n",
        "model = StackingClassifier(\n",
        "    estimators=[\n",
        "        ('tree', Pipeline([('select', base_features), ('tree', DecisionTreeClassifier(random_state=42))])),\n",
        "        ('knn', Pipeline([('select', base_features), ('knn', KNeighborsClassifier())])),\n",
        "    ],\n",
        "    final_estimator=Pipeline([\n",
        "        ('select', ColumnTransformer([('select', 'passthrough', [0, 1, 4, 5])])),\n",
        "        ('model', LogisticRegression())\n",
        "    ]),\n",
        "    passthrough=True,\n",
        ")\n",
        "\n",
        "model.fit(X, y)"
      ],
      "execution_count": 9,
      "outputs": [
        {
          "output_type": "execute_result",
          "data": {
            "text/plain": [
              "StackingClassifier(estimators=[('tree',\n",
              "                                Pipeline(steps=[('select',\n",
              "                                                 ColumnTransformer(transformers=[('pass',\n",
              "                                                                                  'passthrough',\n",
              "                                                                                  ['mean '\n",
              "                                                                                   'radius',\n",
              "                                                                                   'mean '\n",
              "                                                                                   'texture'])])),\n",
              "                                                ('tree',\n",
              "                                                 DecisionTreeClassifier(random_state=42))])),\n",
              "                               ('knn',\n",
              "                                Pipeline(steps=[('select',\n",
              "                                                 ColumnTransformer(transformers=[('pass',\n",
              "                                                                                  'passthrough',\n",
              "                                                                                  ['mean '\n",
              "                                                                                   'radius',\n",
              "                                                                                   'mean '\n",
              "                                                                                   'texture'])])),\n",
              "                                                ('knn',\n",
              "                                                 KNeighborsClassifier())]))],\n",
              "                   final_estimator=Pipeline(steps=[('select',\n",
              "                                                    ColumnTransformer(transformers=[('select',\n",
              "                                                                                     'passthrough',\n",
              "                                                                                     [0,\n",
              "                                                                                      1,\n",
              "                                                                                      4,\n",
              "                                                                                      5])])),\n",
              "                                                   ('model',\n",
              "                                                    LogisticRegression())]),\n",
              "                   passthrough=True)"
            ]
          },
          "metadata": {
            "tags": []
          },
          "execution_count": 9
        }
      ]
    },
    {
      "cell_type": "code",
      "metadata": {
        "id": "fnNf0XCcnuB8",
        "colab_type": "code",
        "colab": {
          "base_uri": "https://localhost:8080/",
          "height": 307
        },
        "outputId": "3b4550a8-26f4-4779-b3ca-03dd9712e70e"
      },
      "source": [
        "with config_context(display='diagram'):\n",
        "    display(model)"
      ],
      "execution_count": 10,
      "outputs": [
        {
          "output_type": "display_data",
          "data": {
            "text/html": [
              "<style>div.sk-top-container {color: black;background-color: white;}div.sk-toggleable {background-color: white;}label.sk-toggleable__label {cursor: pointer;display: block;width: 100%;margin-bottom: 0;padding: 0.2em 0.3em;box-sizing: border-box;text-align: center;}div.sk-toggleable__content {max-height: 0;max-width: 0;overflow: hidden;text-align: left;background-color: #f0f8ff;}div.sk-toggleable__content pre {margin: 0.2em;color: black;border-radius: 0.25em;background-color: #f0f8ff;}input.sk-toggleable__control:checked~div.sk-toggleable__content {max-height: 200px;max-width: 100%;overflow: auto;}div.sk-estimator input.sk-toggleable__control:checked~label.sk-toggleable__label {background-color: #d4ebff;}div.sk-label input.sk-toggleable__control:checked~label.sk-toggleable__label {background-color: #d4ebff;}input.sk-hidden--visually {border: 0;clip: rect(1px 1px 1px 1px);clip: rect(1px, 1px, 1px, 1px);height: 1px;margin: -1px;overflow: hidden;padding: 0;position: absolute;width: 1px;}div.sk-estimator {font-family: monospace;background-color: #f0f8ff;margin: 0.25em 0.25em;border: 1px dotted black;border-radius: 0.25em;box-sizing: border-box;}div.sk-estimator:hover {background-color: #d4ebff;}div.sk-parallel-item::after {content: \"\";width: 100%;border-bottom: 1px solid gray;flex-grow: 1;}div.sk-label:hover label.sk-toggleable__label {background-color: #d4ebff;}div.sk-serial::before {content: \"\";position: absolute;border-left: 1px solid gray;box-sizing: border-box;top: 2em;bottom: 0;left: 50%;}div.sk-serial {display: flex;flex-direction: column;align-items: center;background-color: white;}div.sk-item {z-index: 1;}div.sk-parallel {display: flex;align-items: stretch;justify-content: center;background-color: white;}div.sk-parallel-item {display: flex;flex-direction: column;position: relative;background-color: white;}div.sk-parallel-item:first-child::after {align-self: flex-end;width: 50%;}div.sk-parallel-item:last-child::after {align-self: flex-start;width: 50%;}div.sk-parallel-item:only-child::after {width: 0;}div.sk-dashed-wrapped {border: 1px dashed gray;margin: 0.2em;box-sizing: border-box;padding-bottom: 0.1em;background-color: white;position: relative;}div.sk-label label {font-family: monospace;font-weight: bold;background-color: white;display: inline-block;line-height: 1.2em;}div.sk-label-container {position: relative;z-index: 2;text-align: center;}div.sk-container {display: inline-block;position: relative;}</style><div class=\"sk-top-container\"><div class=\"sk-container\"><div class=\"sk-item sk-dashed-wrapped\"><div class=\"sk-label-container\"><div class=\"sk-label sk-toggleable\"><input class=\"sk-toggleable__control sk-hidden--visually\" id=\"9d7463e5-55fa-477c-a372-898f8c2bbada\" type=\"checkbox\" ><label class=\"sk-toggleable__label\" for=\"9d7463e5-55fa-477c-a372-898f8c2bbada\">StackingClassifier</label><div class=\"sk-toggleable__content\"><pre>StackingClassifier(estimators=[('tree',\n",
              "                                Pipeline(steps=[('select',\n",
              "                                                 ColumnTransformer(transformers=[('pass',\n",
              "                                                                                  'passthrough',\n",
              "                                                                                  ['mean '\n",
              "                                                                                   'radius',\n",
              "                                                                                   'mean '\n",
              "                                                                                   'texture'])])),\n",
              "                                                ('tree',\n",
              "                                                 DecisionTreeClassifier(random_state=42))])),\n",
              "                               ('knn',\n",
              "                                Pipeline(steps=[('select',\n",
              "                                                 ColumnTransformer(transformers=[('pass',\n",
              "                                                                                  'passthrough',\n",
              "                                                                                  ['mean '\n",
              "                                                                                   'radius',\n",
              "                                                                                   'mean '\n",
              "                                                                                   'texture'])])),\n",
              "                                                ('knn',\n",
              "                                                 KNeighborsClassifier())]))],\n",
              "                   final_estimator=Pipeline(steps=[('select',\n",
              "                                                    ColumnTransformer(transformers=[('select',\n",
              "                                                                                     'passthrough',\n",
              "                                                                                     [0,\n",
              "                                                                                      1,\n",
              "                                                                                      4,\n",
              "                                                                                      5])])),\n",
              "                                                   ('model',\n",
              "                                                    LogisticRegression())]),\n",
              "                   passthrough=True)</pre></div></div></div><div class=\"sk-serial\"><div class=\"sk-item\"><div class=\"sk-serial\"><div class=\"sk-item\"><div class=\"sk-parallel\"><div class=\"sk-parallel-item\"><div class=\"sk-item\"><div class=\"sk-label-container\"><div class=\"sk-label sk-toggleable\"><label>tree</label></div></div><div class=\"sk-serial\"><div class=\"sk-item\"><div class=\"sk-serial\"><div class=\"sk-item sk-dashed-wrapped\"><div class=\"sk-label-container\"><div class=\"sk-label sk-toggleable\"><input class=\"sk-toggleable__control sk-hidden--visually\" id=\"481ba378-eb18-43a1-ba5d-359cac69f3af\" type=\"checkbox\" ><label class=\"sk-toggleable__label\" for=\"481ba378-eb18-43a1-ba5d-359cac69f3af\">select: ColumnTransformer</label><div class=\"sk-toggleable__content\"><pre>ColumnTransformer(transformers=[('pass', 'passthrough',\n",
              "                                 ['mean radius', 'mean texture'])])</pre></div></div></div><div class=\"sk-parallel\"><div class=\"sk-parallel-item\"><div class=\"sk-item\"><div class=\"sk-label-container\"><div class=\"sk-label sk-toggleable\"><input class=\"sk-toggleable__control sk-hidden--visually\" id=\"9ffeebb9-f447-484c-905a-fb266c221097\" type=\"checkbox\" ><label class=\"sk-toggleable__label\" for=\"9ffeebb9-f447-484c-905a-fb266c221097\">pass</label><div class=\"sk-toggleable__content\"><pre>['mean radius', 'mean texture']</pre></div></div></div><div class=\"sk-serial\"><div class=\"sk-item\"><div class=\"sk-estimator sk-toggleable\"><input class=\"sk-toggleable__control sk-hidden--visually\" id=\"3c997e12-f2ed-4047-a612-3ab509beb70f\" type=\"checkbox\" ><label class=\"sk-toggleable__label\" for=\"3c997e12-f2ed-4047-a612-3ab509beb70f\">passthrough</label><div class=\"sk-toggleable__content\"><pre>passthrough</pre></div></div></div></div></div></div></div></div><div class=\"sk-item\"><div class=\"sk-estimator sk-toggleable\"><input class=\"sk-toggleable__control sk-hidden--visually\" id=\"fdd3f96c-d044-47c4-aed6-1a4dbb932617\" type=\"checkbox\" ><label class=\"sk-toggleable__label\" for=\"fdd3f96c-d044-47c4-aed6-1a4dbb932617\">DecisionTreeClassifier</label><div class=\"sk-toggleable__content\"><pre>DecisionTreeClassifier(random_state=42)</pre></div></div></div></div></div></div></div></div><div class=\"sk-parallel-item\"><div class=\"sk-item\"><div class=\"sk-label-container\"><div class=\"sk-label sk-toggleable\"><label>knn</label></div></div><div class=\"sk-serial\"><div class=\"sk-item\"><div class=\"sk-serial\"><div class=\"sk-item sk-dashed-wrapped\"><div class=\"sk-label-container\"><div class=\"sk-label sk-toggleable\"><input class=\"sk-toggleable__control sk-hidden--visually\" id=\"e11029d9-e1e8-4ebf-be16-7a79bcaf4b67\" type=\"checkbox\" ><label class=\"sk-toggleable__label\" for=\"e11029d9-e1e8-4ebf-be16-7a79bcaf4b67\">select: ColumnTransformer</label><div class=\"sk-toggleable__content\"><pre>ColumnTransformer(transformers=[('pass', 'passthrough',\n",
              "                                 ['mean radius', 'mean texture'])])</pre></div></div></div><div class=\"sk-parallel\"><div class=\"sk-parallel-item\"><div class=\"sk-item\"><div class=\"sk-label-container\"><div class=\"sk-label sk-toggleable\"><input class=\"sk-toggleable__control sk-hidden--visually\" id=\"114d0055-66bc-424a-850c-d05e26107f74\" type=\"checkbox\" ><label class=\"sk-toggleable__label\" for=\"114d0055-66bc-424a-850c-d05e26107f74\">pass</label><div class=\"sk-toggleable__content\"><pre>['mean radius', 'mean texture']</pre></div></div></div><div class=\"sk-serial\"><div class=\"sk-item\"><div class=\"sk-estimator sk-toggleable\"><input class=\"sk-toggleable__control sk-hidden--visually\" id=\"f88cd7b1-ae3a-414b-af23-f582bf338da0\" type=\"checkbox\" ><label class=\"sk-toggleable__label\" for=\"f88cd7b1-ae3a-414b-af23-f582bf338da0\">passthrough</label><div class=\"sk-toggleable__content\"><pre>passthrough</pre></div></div></div></div></div></div></div></div><div class=\"sk-item\"><div class=\"sk-estimator sk-toggleable\"><input class=\"sk-toggleable__control sk-hidden--visually\" id=\"41a9d401-cfb0-45f6-86d7-0a596671f89d\" type=\"checkbox\" ><label class=\"sk-toggleable__label\" for=\"41a9d401-cfb0-45f6-86d7-0a596671f89d\">KNeighborsClassifier</label><div class=\"sk-toggleable__content\"><pre>KNeighborsClassifier()</pre></div></div></div></div></div></div></div></div></div></div><div class=\"sk-item\"><div class=\"sk-serial\"><div class=\"sk-item sk-dashed-wrapped\"><div class=\"sk-label-container\"><div class=\"sk-label sk-toggleable\"><input class=\"sk-toggleable__control sk-hidden--visually\" id=\"7079f549-654b-4433-9468-0c361ed00ed7\" type=\"checkbox\" ><label class=\"sk-toggleable__label\" for=\"7079f549-654b-4433-9468-0c361ed00ed7\">select: ColumnTransformer</label><div class=\"sk-toggleable__content\"><pre>ColumnTransformer(transformers=[('select', 'passthrough', [0, 1, 4, 5])])</pre></div></div></div><div class=\"sk-parallel\"><div class=\"sk-parallel-item\"><div class=\"sk-item\"><div class=\"sk-label-container\"><div class=\"sk-label sk-toggleable\"><input class=\"sk-toggleable__control sk-hidden--visually\" id=\"23e3de31-b4ee-4e2c-b23f-36da3753abf5\" type=\"checkbox\" ><label class=\"sk-toggleable__label\" for=\"23e3de31-b4ee-4e2c-b23f-36da3753abf5\">select</label><div class=\"sk-toggleable__content\"><pre>[0, 1, 4, 5]</pre></div></div></div><div class=\"sk-serial\"><div class=\"sk-item\"><div class=\"sk-estimator sk-toggleable\"><input class=\"sk-toggleable__control sk-hidden--visually\" id=\"224918f9-320c-4331-adf0-539012a720dc\" type=\"checkbox\" ><label class=\"sk-toggleable__label\" for=\"224918f9-320c-4331-adf0-539012a720dc\">passthrough</label><div class=\"sk-toggleable__content\"><pre>passthrough</pre></div></div></div></div></div></div></div></div><div class=\"sk-item\"><div class=\"sk-estimator sk-toggleable\"><input class=\"sk-toggleable__control sk-hidden--visually\" id=\"ed4be030-8b83-4232-aef9-8676fd68f726\" type=\"checkbox\" ><label class=\"sk-toggleable__label\" for=\"ed4be030-8b83-4232-aef9-8676fd68f726\">LogisticRegression</label><div class=\"sk-toggleable__content\"><pre>LogisticRegression()</pre></div></div></div></div></div></div></div></div></div></div></div>"
            ],
            "text/plain": [
              "StackingClassifier(estimators=[('tree',\n",
              "                                Pipeline(steps=[('select',\n",
              "                                                 ColumnTransformer(transformers=[('pass',\n",
              "                                                                                  'passthrough',\n",
              "                                                                                  ['mean '\n",
              "                                                                                   'radius',\n",
              "                                                                                   'mean '\n",
              "                                                                                   'texture'])])),\n",
              "                                                ('tree',\n",
              "                                                 DecisionTreeClassifier(random_state=42))])),\n",
              "                               ('knn',\n",
              "                                Pipeline(steps=[('select',\n",
              "                                                 ColumnTransformer(transformers=[('pass',\n",
              "                                                                                  'passthrough',\n",
              "                                                                                  ['mean '\n",
              "                                                                                   'radius',\n",
              "                                                                                   'mean '\n",
              "                                                                                   'texture'])])),\n",
              "                                                ('knn',\n",
              "                                                 KNeighborsClassifier())]))],\n",
              "                   final_estimator=Pipeline(steps=[('select',\n",
              "                                                    ColumnTransformer(transformers=[('select',\n",
              "                                                                                     'passthrough',\n",
              "                                                                                     [0,\n",
              "                                                                                      1,\n",
              "                                                                                      4,\n",
              "                                                                                      5])])),\n",
              "                                                   ('model',\n",
              "                                                    LogisticRegression())]),\n",
              "                   passthrough=True)"
            ]
          },
          "metadata": {
            "tags": []
          }
        }
      ]
    },
    {
      "cell_type": "code",
      "metadata": {
        "id": "SsaWzT0_tK3E",
        "colab_type": "code",
        "colab": {
          "base_uri": "https://localhost:8080/",
          "height": 55
        },
        "outputId": "37d208fd-9d86-44b6-b886-c938c0a2eb6c"
      },
      "source": [
        "print(estimator_html_repr(model).replace('\\n', ' ').replace('  ', ' '))"
      ],
      "execution_count": 11,
      "outputs": [
        {
          "output_type": "stream",
          "text": [
            "<style>div.sk-top-container {color: black;background-color: white;}div.sk-toggleable {background-color: white;}label.sk-toggleable__label {cursor: pointer;display: block;width: 100%;margin-bottom: 0;padding: 0.2em 0.3em;box-sizing: border-box;text-align: center;}div.sk-toggleable__content {max-height: 0;max-width: 0;overflow: hidden;text-align: left;background-color: #f0f8ff;}div.sk-toggleable__content pre {margin: 0.2em;color: black;border-radius: 0.25em;background-color: #f0f8ff;}input.sk-toggleable__control:checked~div.sk-toggleable__content {max-height: 200px;max-width: 100%;overflow: auto;}div.sk-estimator input.sk-toggleable__control:checked~label.sk-toggleable__label {background-color: #d4ebff;}div.sk-label input.sk-toggleable__control:checked~label.sk-toggleable__label {background-color: #d4ebff;}input.sk-hidden--visually {border: 0;clip: rect(1px 1px 1px 1px);clip: rect(1px, 1px, 1px, 1px);height: 1px;margin: -1px;overflow: hidden;padding: 0;position: absolute;width: 1px;}div.sk-estimator {font-family: monospace;background-color: #f0f8ff;margin: 0.25em 0.25em;border: 1px dotted black;border-radius: 0.25em;box-sizing: border-box;}div.sk-estimator:hover {background-color: #d4ebff;}div.sk-parallel-item::after {content: \"\";width: 100%;border-bottom: 1px solid gray;flex-grow: 1;}div.sk-label:hover label.sk-toggleable__label {background-color: #d4ebff;}div.sk-serial::before {content: \"\";position: absolute;border-left: 1px solid gray;box-sizing: border-box;top: 2em;bottom: 0;left: 50%;}div.sk-serial {display: flex;flex-direction: column;align-items: center;background-color: white;}div.sk-item {z-index: 1;}div.sk-parallel {display: flex;align-items: stretch;justify-content: center;background-color: white;}div.sk-parallel-item {display: flex;flex-direction: column;position: relative;background-color: white;}div.sk-parallel-item:first-child::after {align-self: flex-end;width: 50%;}div.sk-parallel-item:last-child::after {align-self: flex-start;width: 50%;}div.sk-parallel-item:only-child::after {width: 0;}div.sk-dashed-wrapped {border: 1px dashed gray;margin: 0.2em;box-sizing: border-box;padding-bottom: 0.1em;background-color: white;position: relative;}div.sk-label label {font-family: monospace;font-weight: bold;background-color: white;display: inline-block;line-height: 1.2em;}div.sk-label-container {position: relative;z-index: 2;text-align: center;}div.sk-container {display: inline-block;position: relative;}</style><div class=\"sk-top-container\"><div class=\"sk-container\"><div class=\"sk-item sk-dashed-wrapped\"><div class=\"sk-label-container\"><div class=\"sk-label sk-toggleable\"><input class=\"sk-toggleable__control sk-hidden--visually\" id=\"727f7a50-0ddb-4c4b-99a9-51e5cd57c1d2\" type=\"checkbox\" ><label class=\"sk-toggleable__label\" for=\"727f7a50-0ddb-4c4b-99a9-51e5cd57c1d2\">StackingClassifier</label><div class=\"sk-toggleable__content\"><pre>StackingClassifier(estimators=[('tree',                 Pipeline(steps=[('select',                         ColumnTransformer(transformers=[('pass',                                          'passthrough',                                          ['mean '                                          'radius',                                          'mean '                                          'texture'])])),                         ('tree',                         DecisionTreeClassifier(random_state=42))])),                ('knn',                 Pipeline(steps=[('select',                         ColumnTransformer(transformers=[('pass',                                          'passthrough',                                          ['mean '                                          'radius',                                          'mean '                                          'texture'])])),                         ('knn',                         KNeighborsClassifier())]))],          final_estimator=Pipeline(steps=[('select',                           ColumnTransformer(transformers=[('select',                                           'passthrough',                                           [0,                                            1,                                            4,                                            5])])),                          ('model',                           LogisticRegression())]),          passthrough=True)</pre></div></div></div><div class=\"sk-serial\"><div class=\"sk-item\"><div class=\"sk-serial\"><div class=\"sk-item\"><div class=\"sk-parallel\"><div class=\"sk-parallel-item\"><div class=\"sk-item\"><div class=\"sk-label-container\"><div class=\"sk-label sk-toggleable\"><label>tree</label></div></div><div class=\"sk-serial\"><div class=\"sk-item\"><div class=\"sk-serial\"><div class=\"sk-item sk-dashed-wrapped\"><div class=\"sk-label-container\"><div class=\"sk-label sk-toggleable\"><input class=\"sk-toggleable__control sk-hidden--visually\" id=\"b3c09d3c-0e4e-42d3-ba05-799f158817a5\" type=\"checkbox\" ><label class=\"sk-toggleable__label\" for=\"b3c09d3c-0e4e-42d3-ba05-799f158817a5\">select: ColumnTransformer</label><div class=\"sk-toggleable__content\"><pre>ColumnTransformer(transformers=[('pass', 'passthrough',                 ['mean radius', 'mean texture'])])</pre></div></div></div><div class=\"sk-parallel\"><div class=\"sk-parallel-item\"><div class=\"sk-item\"><div class=\"sk-label-container\"><div class=\"sk-label sk-toggleable\"><input class=\"sk-toggleable__control sk-hidden--visually\" id=\"12404fd1-055e-4361-9fa7-3d2c4afd6e74\" type=\"checkbox\" ><label class=\"sk-toggleable__label\" for=\"12404fd1-055e-4361-9fa7-3d2c4afd6e74\">pass</label><div class=\"sk-toggleable__content\"><pre>['mean radius', 'mean texture']</pre></div></div></div><div class=\"sk-serial\"><div class=\"sk-item\"><div class=\"sk-estimator sk-toggleable\"><input class=\"sk-toggleable__control sk-hidden--visually\" id=\"842a2773-4fac-4c39-8d81-5eb4ad6aa54e\" type=\"checkbox\" ><label class=\"sk-toggleable__label\" for=\"842a2773-4fac-4c39-8d81-5eb4ad6aa54e\">passthrough</label><div class=\"sk-toggleable__content\"><pre>passthrough</pre></div></div></div></div></div></div></div></div><div class=\"sk-item\"><div class=\"sk-estimator sk-toggleable\"><input class=\"sk-toggleable__control sk-hidden--visually\" id=\"b75fd47b-5e78-4141-a7bc-3bd744bad5bf\" type=\"checkbox\" ><label class=\"sk-toggleable__label\" for=\"b75fd47b-5e78-4141-a7bc-3bd744bad5bf\">DecisionTreeClassifier</label><div class=\"sk-toggleable__content\"><pre>DecisionTreeClassifier(random_state=42)</pre></div></div></div></div></div></div></div></div><div class=\"sk-parallel-item\"><div class=\"sk-item\"><div class=\"sk-label-container\"><div class=\"sk-label sk-toggleable\"><label>knn</label></div></div><div class=\"sk-serial\"><div class=\"sk-item\"><div class=\"sk-serial\"><div class=\"sk-item sk-dashed-wrapped\"><div class=\"sk-label-container\"><div class=\"sk-label sk-toggleable\"><input class=\"sk-toggleable__control sk-hidden--visually\" id=\"b3fadcd2-079f-4846-b93a-081d79af725b\" type=\"checkbox\" ><label class=\"sk-toggleable__label\" for=\"b3fadcd2-079f-4846-b93a-081d79af725b\">select: ColumnTransformer</label><div class=\"sk-toggleable__content\"><pre>ColumnTransformer(transformers=[('pass', 'passthrough',                 ['mean radius', 'mean texture'])])</pre></div></div></div><div class=\"sk-parallel\"><div class=\"sk-parallel-item\"><div class=\"sk-item\"><div class=\"sk-label-container\"><div class=\"sk-label sk-toggleable\"><input class=\"sk-toggleable__control sk-hidden--visually\" id=\"f8ff49ee-56c7-46cb-a7bb-c80c4b2226bd\" type=\"checkbox\" ><label class=\"sk-toggleable__label\" for=\"f8ff49ee-56c7-46cb-a7bb-c80c4b2226bd\">pass</label><div class=\"sk-toggleable__content\"><pre>['mean radius', 'mean texture']</pre></div></div></div><div class=\"sk-serial\"><div class=\"sk-item\"><div class=\"sk-estimator sk-toggleable\"><input class=\"sk-toggleable__control sk-hidden--visually\" id=\"a14cd75e-9c23-4fe7-be2f-48e42253830b\" type=\"checkbox\" ><label class=\"sk-toggleable__label\" for=\"a14cd75e-9c23-4fe7-be2f-48e42253830b\">passthrough</label><div class=\"sk-toggleable__content\"><pre>passthrough</pre></div></div></div></div></div></div></div></div><div class=\"sk-item\"><div class=\"sk-estimator sk-toggleable\"><input class=\"sk-toggleable__control sk-hidden--visually\" id=\"a5f29d68-a1ba-428d-af30-6fdfa7967f57\" type=\"checkbox\" ><label class=\"sk-toggleable__label\" for=\"a5f29d68-a1ba-428d-af30-6fdfa7967f57\">KNeighborsClassifier</label><div class=\"sk-toggleable__content\"><pre>KNeighborsClassifier()</pre></div></div></div></div></div></div></div></div></div></div><div class=\"sk-item\"><div class=\"sk-serial\"><div class=\"sk-item sk-dashed-wrapped\"><div class=\"sk-label-container\"><div class=\"sk-label sk-toggleable\"><input class=\"sk-toggleable__control sk-hidden--visually\" id=\"3bd3dede-4bb8-447f-b9fb-813da107a4c1\" type=\"checkbox\" ><label class=\"sk-toggleable__label\" for=\"3bd3dede-4bb8-447f-b9fb-813da107a4c1\">select: ColumnTransformer</label><div class=\"sk-toggleable__content\"><pre>ColumnTransformer(transformers=[('select', 'passthrough', [0, 1, 4, 5])])</pre></div></div></div><div class=\"sk-parallel\"><div class=\"sk-parallel-item\"><div class=\"sk-item\"><div class=\"sk-label-container\"><div class=\"sk-label sk-toggleable\"><input class=\"sk-toggleable__control sk-hidden--visually\" id=\"5496bec6-66f0-491e-88aa-489936371efa\" type=\"checkbox\" ><label class=\"sk-toggleable__label\" for=\"5496bec6-66f0-491e-88aa-489936371efa\">select</label><div class=\"sk-toggleable__content\"><pre>[0, 1, 4, 5]</pre></div></div></div><div class=\"sk-serial\"><div class=\"sk-item\"><div class=\"sk-estimator sk-toggleable\"><input class=\"sk-toggleable__control sk-hidden--visually\" id=\"85e40a9e-6fae-440b-8b75-29304c557cf2\" type=\"checkbox\" ><label class=\"sk-toggleable__label\" for=\"85e40a9e-6fae-440b-8b75-29304c557cf2\">passthrough</label><div class=\"sk-toggleable__content\"><pre>passthrough</pre></div></div></div></div></div></div></div></div><div class=\"sk-item\"><div class=\"sk-estimator sk-toggleable\"><input class=\"sk-toggleable__control sk-hidden--visually\" id=\"50870516-1ac0-4209-bb39-b5cb8823f4ab\" type=\"checkbox\" ><label class=\"sk-toggleable__label\" for=\"50870516-1ac0-4209-bb39-b5cb8823f4ab\">LogisticRegression</label><div class=\"sk-toggleable__content\"><pre>LogisticRegression()</pre></div></div></div></div></div></div></div></div></div></div></div>\n"
          ],
          "name": "stdout"
        }
      ]
    },
    {
      "cell_type": "code",
      "metadata": {
        "id": "sy3g2Qiio4Vf",
        "colab_type": "code",
        "colab": {
          "base_uri": "https://localhost:8080/",
          "height": 35
        },
        "outputId": "9918ac40-78d6-4f06-ef6b-d802b9bc700b"
      },
      "source": [
        "# Check that this matches the previous score\n",
        "model.score(X, y)"
      ],
      "execution_count": 12,
      "outputs": [
        {
          "output_type": "execute_result",
          "data": {
            "text/plain": [
              "0.9156414762741653"
            ]
          },
          "metadata": {
            "tags": []
          },
          "execution_count": 12
        }
      ]
    },
    {
      "cell_type": "code",
      "metadata": {
        "id": "S3hZbx4qrgIK",
        "colab_type": "code",
        "colab": {
          "base_uri": "https://localhost:8080/",
          "height": 35
        },
        "outputId": "5443b903-46f7-4229-ef5a-fc35b246b9ea"
      },
      "source": [
        "base_out = model.transform(X)\n",
        "base_out.shape"
      ],
      "execution_count": 13,
      "outputs": [
        {
          "output_type": "execute_result",
          "data": {
            "text/plain": [
              "(569, 32)"
            ]
          },
          "metadata": {
            "tags": []
          },
          "execution_count": 13
        }
      ]
    },
    {
      "cell_type": "code",
      "metadata": {
        "id": "Y6EGJnyhsopF",
        "colab_type": "code",
        "colab": {}
      },
      "source": [
        ""
      ],
      "execution_count": 13,
      "outputs": []
    }
  ]
}