{
  "nbformat": 4,
  "nbformat_minor": 0,
  "metadata": {
    "colab": {
      "name": "54450.ipynb",
      "version": "0.3.2",
      "provenance": [],
      "collapsed_sections": [],
      "include_colab_link": true
    },
    "kernelspec": {
      "name": "python3",
      "display_name": "Python 3"
    }
  },
  "cells": [
    {
      "cell_type": "markdown",
      "metadata": {
        "id": "view-in-github",
        "colab_type": "text"
      },
      "source": [
        "<a href=\"https://colab.research.google.com/github/bmreiniger/datascience.stackexchange/blob/master/54450.ipynb\" target=\"_parent\"><img src=\"https://colab.research.google.com/assets/colab-badge.svg\" alt=\"Open In Colab\"/></a>"
      ]
    },
    {
      "cell_type": "code",
      "metadata": {
        "id": "XoKOZlVHT0CX",
        "colab_type": "code",
        "colab": {
          "base_uri": "https://localhost:8080/",
          "height": 34
        },
        "outputId": "fdc5b4bf-4e5a-4807-ed5c-74a19f2dd909"
      },
      "source": [
        "import numpy as np\n",
        "import cvxpy\n",
        "\n",
        "L = np.array([[2,3,0,3,0,8,4],\n",
        "              [3,0,2,0,0,0,4],\n",
        "              [0,2,5,1,3,0,2]])\n",
        "nc, n = L.shape\n",
        "\n",
        "train_mins = np.array([12,6,8])\n",
        "valid_mins = np.array([7,3,4])\n",
        "\n",
        "x = cvxpy.Variable(n, boolean=True)\n",
        "lr = cvxpy.Variable(nc, nonneg=True)\n",
        "ur = cvxpy.Variable(nc, nonneg=True)\n",
        "\n",
        "lb = (L @ x >= train_mins.T - lr)\n",
        "ub = (L @ x <= (sum(L.T)-valid_mins).T + ur)\n",
        "constraints = [lb, ub]\n",
        "\n",
        "objective = (sum(lr)+sum(ur))**2\n",
        "\n",
        "problem = cvxpy.Problem(cvxpy.Minimize(objective), constraints)\n",
        "problem.solve()"
      ],
      "execution_count": 1,
      "outputs": [
        {
          "output_type": "execute_result",
          "data": {
            "text/plain": [
              "0.9999999990635514"
            ]
          },
          "metadata": {
            "tags": []
          },
          "execution_count": 1
        }
      ]
    },
    {
      "cell_type": "code",
      "metadata": {
        "id": "3hXkNU1WUTVx",
        "colab_type": "code",
        "outputId": "7911205e-f329-45bc-8069-29e2fa17df7e",
        "colab": {
          "base_uri": "https://localhost:8080/",
          "height": 34
        }
      },
      "source": [
        "problem.status"
      ],
      "execution_count": 2,
      "outputs": [
        {
          "output_type": "execute_result",
          "data": {
            "text/plain": [
              "'optimal'"
            ]
          },
          "metadata": {
            "tags": []
          },
          "execution_count": 2
        }
      ]
    },
    {
      "cell_type": "code",
      "metadata": {
        "id": "eKPTq9ihUKaG",
        "colab_type": "code",
        "colab": {
          "base_uri": "https://localhost:8080/",
          "height": 34
        },
        "outputId": "11c27e51-642e-4f07-8e78-aef2562039e6"
      },
      "source": [
        "result = x.value\n",
        "[int(round(i)) for i in result]"
      ],
      "execution_count": 3,
      "outputs": [
        {
          "output_type": "execute_result",
          "data": {
            "text/plain": [
              "[0, 0, 1, 0, 1, 1, 1]"
            ]
          },
          "metadata": {
            "tags": []
          },
          "execution_count": 3
        }
      ]
    },
    {
      "cell_type": "code",
      "metadata": {
        "id": "BtET1s6DT5Ez",
        "colab_type": "code",
        "colab": {}
      },
      "source": [
        ""
      ],
      "execution_count": 0,
      "outputs": []
    }
  ]
}