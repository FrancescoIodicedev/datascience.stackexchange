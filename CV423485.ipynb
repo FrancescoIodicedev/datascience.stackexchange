{
  "nbformat": 4,
  "nbformat_minor": 0,
  "metadata": {
    "colab": {
      "name": "CV423485.ipynb",
      "provenance": [],
      "authorship_tag": "ABX9TyMawL0+OozLSstkW7t7JcrR",
      "include_colab_link": true
    },
    "kernelspec": {
      "name": "python3",
      "display_name": "Python 3"
    }
  },
  "cells": [
    {
      "cell_type": "markdown",
      "metadata": {
        "id": "view-in-github",
        "colab_type": "text"
      },
      "source": [
        "<a href=\"https://colab.research.google.com/github/bmreiniger/datascience.stackexchange/blob/master/CV423485.ipynb\" target=\"_parent\"><img src=\"https://colab.research.google.com/assets/colab-badge.svg\" alt=\"Open In Colab\"/></a>"
      ]
    },
    {
      "cell_type": "code",
      "metadata": {
        "id": "2j-XTxHfIhEO",
        "colab_type": "code",
        "colab": {}
      },
      "source": [
        "from sklearn.datasets import load_iris\n",
        "from sklearn.neighbors import KDTree, KNeighborsClassifier"
      ],
      "execution_count": 0,
      "outputs": []
    },
    {
      "cell_type": "code",
      "metadata": {
        "id": "rStnh-BUIneQ",
        "colab_type": "code",
        "colab": {}
      },
      "source": [
        "iris = load_iris()"
      ],
      "execution_count": 0,
      "outputs": []
    },
    {
      "cell_type": "code",
      "metadata": {
        "id": "Y9fNwgwtPBJ4",
        "colab_type": "code",
        "colab": {
          "base_uri": "https://localhost:8080/",
          "height": 187
        },
        "outputId": "985b90b4-5ce9-4e94-f468-8e769a541250"
      },
      "source": [
        "iris.data[:10,]"
      ],
      "execution_count": 32,
      "outputs": [
        {
          "output_type": "execute_result",
          "data": {
            "text/plain": [
              "array([[5.1, 3.5, 1.4, 0.2],\n",
              "       [4.9, 3. , 1.4, 0.2],\n",
              "       [4.7, 3.2, 1.3, 0.2],\n",
              "       [4.6, 3.1, 1.5, 0.2],\n",
              "       [5. , 3.6, 1.4, 0.2],\n",
              "       [5.4, 3.9, 1.7, 0.4],\n",
              "       [4.6, 3.4, 1.4, 0.3],\n",
              "       [5. , 3.4, 1.5, 0.2],\n",
              "       [4.4, 2.9, 1.4, 0.2],\n",
              "       [4.9, 3.1, 1.5, 0.1]])"
            ]
          },
          "metadata": {
            "tags": []
          },
          "execution_count": 32
        }
      ]
    },
    {
      "cell_type": "code",
      "metadata": {
        "id": "uI2XYxfsRvTT",
        "colab_type": "code",
        "colab": {
          "base_uri": "https://localhost:8080/",
          "height": 297
        },
        "outputId": "ce623422-c212-4df7-87ac-2a49815b7e1b"
      },
      "source": [
        "import pandas as pd\n",
        "pd.DataFrame(iris.data).describe()"
      ],
      "execution_count": 36,
      "outputs": [
        {
          "output_type": "execute_result",
          "data": {
            "text/html": [
              "<div>\n",
              "<style scoped>\n",
              "    .dataframe tbody tr th:only-of-type {\n",
              "        vertical-align: middle;\n",
              "    }\n",
              "\n",
              "    .dataframe tbody tr th {\n",
              "        vertical-align: top;\n",
              "    }\n",
              "\n",
              "    .dataframe thead th {\n",
              "        text-align: right;\n",
              "    }\n",
              "</style>\n",
              "<table border=\"1\" class=\"dataframe\">\n",
              "  <thead>\n",
              "    <tr style=\"text-align: right;\">\n",
              "      <th></th>\n",
              "      <th>0</th>\n",
              "      <th>1</th>\n",
              "      <th>2</th>\n",
              "      <th>3</th>\n",
              "    </tr>\n",
              "  </thead>\n",
              "  <tbody>\n",
              "    <tr>\n",
              "      <th>count</th>\n",
              "      <td>150.000000</td>\n",
              "      <td>150.000000</td>\n",
              "      <td>150.000000</td>\n",
              "      <td>150.000000</td>\n",
              "    </tr>\n",
              "    <tr>\n",
              "      <th>mean</th>\n",
              "      <td>5.843333</td>\n",
              "      <td>3.057333</td>\n",
              "      <td>3.758000</td>\n",
              "      <td>1.199333</td>\n",
              "    </tr>\n",
              "    <tr>\n",
              "      <th>std</th>\n",
              "      <td>0.828066</td>\n",
              "      <td>0.435866</td>\n",
              "      <td>1.765298</td>\n",
              "      <td>0.762238</td>\n",
              "    </tr>\n",
              "    <tr>\n",
              "      <th>min</th>\n",
              "      <td>4.300000</td>\n",
              "      <td>2.000000</td>\n",
              "      <td>1.000000</td>\n",
              "      <td>0.100000</td>\n",
              "    </tr>\n",
              "    <tr>\n",
              "      <th>25%</th>\n",
              "      <td>5.100000</td>\n",
              "      <td>2.800000</td>\n",
              "      <td>1.600000</td>\n",
              "      <td>0.300000</td>\n",
              "    </tr>\n",
              "    <tr>\n",
              "      <th>50%</th>\n",
              "      <td>5.800000</td>\n",
              "      <td>3.000000</td>\n",
              "      <td>4.350000</td>\n",
              "      <td>1.300000</td>\n",
              "    </tr>\n",
              "    <tr>\n",
              "      <th>75%</th>\n",
              "      <td>6.400000</td>\n",
              "      <td>3.300000</td>\n",
              "      <td>5.100000</td>\n",
              "      <td>1.800000</td>\n",
              "    </tr>\n",
              "    <tr>\n",
              "      <th>max</th>\n",
              "      <td>7.900000</td>\n",
              "      <td>4.400000</td>\n",
              "      <td>6.900000</td>\n",
              "      <td>2.500000</td>\n",
              "    </tr>\n",
              "  </tbody>\n",
              "</table>\n",
              "</div>"
            ],
            "text/plain": [
              "                0           1           2           3\n",
              "count  150.000000  150.000000  150.000000  150.000000\n",
              "mean     5.843333    3.057333    3.758000    1.199333\n",
              "std      0.828066    0.435866    1.765298    0.762238\n",
              "min      4.300000    2.000000    1.000000    0.100000\n",
              "25%      5.100000    2.800000    1.600000    0.300000\n",
              "50%      5.800000    3.000000    4.350000    1.300000\n",
              "75%      6.400000    3.300000    5.100000    1.800000\n",
              "max      7.900000    4.400000    6.900000    2.500000"
            ]
          },
          "metadata": {
            "tags": []
          },
          "execution_count": 36
        }
      ]
    },
    {
      "cell_type": "code",
      "metadata": {
        "id": "MQBmtWAEIysA",
        "colab_type": "code",
        "colab": {}
      },
      "source": [
        "kdt = KDTree(iris.data, leaf_size=30)"
      ],
      "execution_count": 0,
      "outputs": []
    },
    {
      "cell_type": "code",
      "metadata": {
        "id": "9EVrsdZQIzFM",
        "colab_type": "code",
        "colab": {
          "base_uri": "https://localhost:8080/",
          "height": 187
        },
        "outputId": "0a496caa-025b-447b-ff29-2703ddfac1e7"
      },
      "source": [
        "list(kdt.node_data)"
      ],
      "execution_count": 13,
      "outputs": [
        {
          "output_type": "execute_result",
          "data": {
            "text/plain": [
              "[{'idx_end': 150, 'idx_start': 0, 'is_leaf': 0, 'radius': 3.85},\n",
              " {'idx_end': 75, 'idx_start': 0, 'is_leaf': 0, 'radius': 2.3989581071790314},\n",
              " {'idx_end': 150, 'idx_start': 75, 'is_leaf': 0, 'radius': 2.207940216581962},\n",
              " {'idx_end': 37, 'idx_start': 0, 'is_leaf': 1, 'radius': 1.3228756555322954},\n",
              " {'idx_end': 75, 'idx_start': 37, 'is_leaf': 1, 'radius': 1.9672315572906},\n",
              " {'idx_end': 112, 'idx_start': 75, 'is_leaf': 1, 'radius': 1.408900280360537},\n",
              " {'idx_end': 150,\n",
              "  'idx_start': 112,\n",
              "  'is_leaf': 1,\n",
              "  'radius': 1.7051392904979932}]"
            ]
          },
          "metadata": {
            "tags": []
          },
          "execution_count": 13
        }
      ]
    },
    {
      "cell_type": "markdown",
      "metadata": {
        "id": "6u3ncy17LhtM",
        "colab_type": "text"
      },
      "source": [
        "Above, we see the tree structure: a full binary tree of depth 2.\n",
        "\n",
        "Below, we can get more information about the datapoints in these balls.  The first array is the original dataset, so I won't print it."
      ]
    },
    {
      "cell_type": "code",
      "metadata": {
        "id": "LJmufo83KUHj",
        "colab_type": "code",
        "colab": {
          "base_uri": "https://localhost:8080/",
          "height": 578
        },
        "outputId": "f1f413c4-d60c-46f1-fa19-7c199cf5cce8"
      },
      "source": [
        "print((kdt.get_arrays()[0] == iris.data).all())\n",
        "kdt.get_arrays()[1:]"
      ],
      "execution_count": 34,
      "outputs": [
        {
          "output_type": "stream",
          "text": [
            "True\n"
          ],
          "name": "stdout"
        },
        {
          "output_type": "execute_result",
          "data": {
            "text/plain": [
              "(array([  2,  13,  14,  16,  22,  35,  36,  38,  40,  41,  42,  49,  12,\n",
              "          1,   0,  15,   3,  17,  19,  21,   4,  27,  28,  31,  32,  33,\n",
              "         34,   6,  37,   7,  39,   8,   9,  10,  45,  47,  48,  11,  29,\n",
              "         30,  23,  24,  25,  43,  44,  26,  46,   5,  18,  20,  98,  57,\n",
              "         59,  60,  62,  64,  69,  71,  79,  80,  81,  82,  89,  92,  93,\n",
              "         53,  67,  88,  99,  96,  94,  95,  61,  97,  74,  90, 106,  55,\n",
              "         73,  91,  63,  78,  66,  84,  85, 138,  70, 121, 127, 113, 119,\n",
              "        149, 114, 101, 134,  83, 142, 148, 126,  68,  72,  87, 146,  56,\n",
              "        100, 103, 133, 136, 123, 111, 115,  51, 128, 132, 137, 147, 116,\n",
              "         54, 104, 110,  58,  75, 108,  52, 124, 125,  65, 105, 112, 129,\n",
              "        130, 131,  77,  50,  76, 135,  86, 117, 118, 139, 140, 141, 109,\n",
              "        143, 144, 145, 107, 120, 102, 122]),\n",
              " array([(  0, 150, 0, 3.85      ), (  0,  75, 0, 2.39895811),\n",
              "        ( 75, 150, 0, 2.20794022), (  0,  37, 1, 1.32287566),\n",
              "        ( 37,  75, 1, 1.96723156), ( 75, 112, 1, 1.40890028),\n",
              "        (112, 150, 1, 1.70513929)],\n",
              "       dtype=[('idx_start', '<i8'), ('idx_end', '<i8'), ('is_leaf', '<i8'), ('radius', '<f8')]),\n",
              " array([[[4.3, 2. , 1. , 0.1],\n",
              "         [4.3, 2. , 1. , 0.1],\n",
              "         [4.9, 2.2, 4.4, 1.2],\n",
              "         [4.3, 2.3, 1. , 0.1],\n",
              "         [4.7, 2. , 1.6, 0.2],\n",
              "         [4.9, 2.2, 4.4, 1.2],\n",
              "         [6.4, 2.5, 4.4, 1.3]],\n",
              " \n",
              "        [[7.9, 4.4, 6.9, 2.5],\n",
              "         [6.4, 4.4, 4.3, 1.5],\n",
              "         [7.9, 3.8, 6.9, 2.5],\n",
              "         [5.8, 4.4, 1.5, 0.4],\n",
              "         [6.4, 3.9, 4.3, 1.5],\n",
              "         [6.4, 3.4, 6. , 2.5],\n",
              "         [7.9, 3.8, 6.9, 2.5]]]))"
            ]
          },
          "metadata": {
            "tags": []
          },
          "execution_count": 34
        }
      ]
    },
    {
      "cell_type": "markdown",
      "metadata": {
        "id": "X0GoIOblQwYZ",
        "colab_type": "text"
      },
      "source": [
        "The first array above seems to be just bookkeeping the sample indices, so that the tree's `node_data` \"idx_start\" and \"idx_end\" can be contiguous.\n",
        "\n",
        "The second array is the basis for `node_data`.\n",
        "\n",
        "The third array has shape (2,7,4); I _think_ that's the min/max (2) of each of the 4 features in each of the 7 kdtree nodes?"
      ]
    },
    {
      "cell_type": "markdown",
      "metadata": {
        "id": "lY2CkTR9TB7E",
        "colab_type": "text"
      },
      "source": [
        "Finally, check that calling `KNeighborsClassifier` produces the same tree:"
      ]
    },
    {
      "cell_type": "code",
      "metadata": {
        "id": "DTlGKAKxJC_w",
        "colab_type": "code",
        "colab": {
          "base_uri": "https://localhost:8080/",
          "height": 68
        },
        "outputId": "92d26bb4-990e-467b-f6b9-ab5b16d07af9"
      },
      "source": [
        "knn = KNeighborsClassifier()\n",
        "knn.fit(iris.data, iris.target)"
      ],
      "execution_count": 16,
      "outputs": [
        {
          "output_type": "execute_result",
          "data": {
            "text/plain": [
              "KNeighborsClassifier(algorithm='auto', leaf_size=30, metric='minkowski',\n",
              "                     metric_params=None, n_jobs=None, n_neighbors=5, p=2,\n",
              "                     weights='uniform')"
            ]
          },
          "metadata": {
            "tags": []
          },
          "execution_count": 16
        }
      ]
    },
    {
      "cell_type": "code",
      "metadata": {
        "id": "2VOvF08SJ2_T",
        "colab_type": "code",
        "colab": {
          "base_uri": "https://localhost:8080/",
          "height": 187
        },
        "outputId": "7e4876f0-89e2-4651-f129-f96c706fb961"
      },
      "source": [
        "list(knn._tree.node_data)"
      ],
      "execution_count": 21,
      "outputs": [
        {
          "output_type": "execute_result",
          "data": {
            "text/plain": [
              "[{'idx_end': 150, 'idx_start': 0, 'is_leaf': 0, 'radius': 3.85},\n",
              " {'idx_end': 75, 'idx_start': 0, 'is_leaf': 0, 'radius': 2.3989581071790314},\n",
              " {'idx_end': 150, 'idx_start': 75, 'is_leaf': 0, 'radius': 2.207940216581962},\n",
              " {'idx_end': 37, 'idx_start': 0, 'is_leaf': 1, 'radius': 1.3228756555322954},\n",
              " {'idx_end': 75, 'idx_start': 37, 'is_leaf': 1, 'radius': 1.9672315572906},\n",
              " {'idx_end': 112, 'idx_start': 75, 'is_leaf': 1, 'radius': 1.408900280360537},\n",
              " {'idx_end': 150,\n",
              "  'idx_start': 112,\n",
              "  'is_leaf': 1,\n",
              "  'radius': 1.7051392904979932}]"
            ]
          },
          "metadata": {
            "tags": []
          },
          "execution_count": 21
        }
      ]
    },
    {
      "cell_type": "code",
      "metadata": {
        "id": "HCABZohNKEdO",
        "colab_type": "code",
        "colab": {}
      },
      "source": [
        ""
      ],
      "execution_count": 0,
      "outputs": []
    }
  ]
}