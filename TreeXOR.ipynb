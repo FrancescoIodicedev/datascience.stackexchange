{
  "nbformat": 4,
  "nbformat_minor": 0,
  "metadata": {
    "colab": {
      "name": "TreeXOR.ipynb",
      "provenance": [],
      "include_colab_link": true
    },
    "kernelspec": {
      "name": "python3",
      "display_name": "Python 3"
    }
  },
  "cells": [
    {
      "cell_type": "markdown",
      "metadata": {
        "id": "view-in-github",
        "colab_type": "text"
      },
      "source": [
        "<a href=\"https://colab.research.google.com/github/bmreiniger/datascience.stackexchange/blob/master/TreeXOR.ipynb\" target=\"_parent\"><img src=\"https://colab.research.google.com/assets/colab-badge.svg\" alt=\"Open In Colab\"/></a>"
      ]
    },
    {
      "cell_type": "code",
      "metadata": {
        "id": "AsEPp2gFVGCf",
        "colab_type": "code",
        "colab": {}
      },
      "source": [
        "import numpy as np\n",
        "from sklearn.tree import DecisionTreeClassifier, plot_tree\n",
        "from sklearn.ensemble import RandomForestClassifier\n",
        "from sklearn.model_selection import train_test_split"
      ],
      "execution_count": 0,
      "outputs": []
    },
    {
      "cell_type": "markdown",
      "metadata": {
        "id": "TxxziyyVbNMy",
        "colab_type": "text"
      },
      "source": [
        "First, can the decision tree algorithm (at least the sklearn version) learn the XOR?"
      ]
    },
    {
      "cell_type": "code",
      "metadata": {
        "id": "PyW_5LfmVLof",
        "colab_type": "code",
        "colab": {
          "base_uri": "https://localhost:8080/",
          "height": 34
        },
        "outputId": "6395e5de-05fd-42c3-a58b-67138bed42ba"
      },
      "source": [
        "X = np.random.uniform(-1,1,(10000,2))\n",
        "y = np.sign(X[:,0]) * np.sign(X[:,1])\n",
        "X_tr, X_te, y_tr, y_te = train_test_split(X, y, test_size=0.1)\n",
        "dt = DecisionTreeClassifier()\n",
        "dt.fit(X_tr, y_tr)\n",
        "dt.score(X_te, y_te)"
      ],
      "execution_count": 147,
      "outputs": [
        {
          "output_type": "execute_result",
          "data": {
            "text/plain": [
              "1.0"
            ]
          },
          "metadata": {
            "tags": []
          },
          "execution_count": 147
        }
      ]
    },
    {
      "cell_type": "markdown",
      "metadata": {
        "id": "9BzZtb1HbZpy",
        "colab_type": "text"
      },
      "source": [
        "Yep, it did just fine.  See below though, that it didn't find the splits quite so nicely as it could have.  (Some algorithms will postprocess to reduce redundant combinations of rules, so perhaps that could work here.)"
      ]
    },
    {
      "cell_type": "code",
      "metadata": {
        "id": "YsWiHI_4WeB5",
        "colab_type": "code",
        "colab": {
          "base_uri": "https://localhost:8080/",
          "height": 535
        },
        "outputId": "b610b9fb-db1b-4533-ef05-924d29834731"
      },
      "source": [
        "plot_tree(dt)"
      ],
      "execution_count": 123,
      "outputs": [
        {
          "output_type": "execute_result",
          "data": {
            "text/plain": [
              "[Text(202.275, 195.696, 'X[1] <= 0.936\\ngini = 0.5\\nsamples = 9000\\nvalue = [4467, 4533]'),\n",
              " Text(125.55000000000001, 152.208, 'X[0] <= -0.193\\ngini = 0.5\\nsamples = 8709\\nvalue = [4342, 4367]'),\n",
              " Text(55.800000000000004, 108.72, 'X[1] <= 0.0\\ngini = 0.499\\nsamples = 3526\\nvalue = [1675, 1851]'),\n",
              " Text(27.900000000000002, 65.232, 'gini = 0.0\\nsamples = 1851\\nvalue = [0, 1851]'),\n",
              " Text(83.7, 65.232, 'gini = 0.0\\nsamples = 1675\\nvalue = [1675, 0]'),\n",
              " Text(195.3, 108.72, 'X[1] <= -0.0\\ngini = 0.5\\nsamples = 5183\\nvalue = [2667, 2516]'),\n",
              " Text(139.5, 65.232, 'X[0] <= 0.0\\ngini = 0.265\\nsamples = 2654\\nvalue = [2237, 417]'),\n",
              " Text(111.60000000000001, 21.744, 'gini = 0.0\\nsamples = 417\\nvalue = [0, 417]'),\n",
              " Text(167.4, 21.744, 'gini = 0.0\\nsamples = 2237\\nvalue = [2237, 0]'),\n",
              " Text(251.10000000000002, 65.232, 'X[0] <= -0.0\\ngini = 0.282\\nsamples = 2529\\nvalue = [430, 2099]'),\n",
              " Text(223.20000000000002, 21.744, 'gini = 0.0\\nsamples = 430\\nvalue = [430, 0]'),\n",
              " Text(279.0, 21.744, 'gini = 0.0\\nsamples = 2099\\nvalue = [0, 2099]'),\n",
              " Text(279.0, 152.208, 'X[0] <= -0.004\\ngini = 0.49\\nsamples = 291\\nvalue = [125, 166]'),\n",
              " Text(251.10000000000002, 108.72, 'gini = 0.0\\nsamples = 125\\nvalue = [125, 0]'),\n",
              " Text(306.90000000000003, 108.72, 'gini = 0.0\\nsamples = 166\\nvalue = [0, 166]')]"
            ]
          },
          "metadata": {
            "tags": []
          },
          "execution_count": 123
        },
        {
          "output_type": "display_data",
          "data": {
            "image/png": "[encoded data removed]",
            "text/plain": [
              "<Figure size 432x288 with 1 Axes>"
            ]
          },
          "metadata": {
            "tags": []
          }
        }
      ]
    },
    {
      "cell_type": "code",
      "metadata": {
        "id": "dnHGpCbFWi1x",
        "colab_type": "code",
        "colab": {}
      },
      "source": [
        ""
      ],
      "execution_count": 0,
      "outputs": []
    },
    {
      "cell_type": "markdown",
      "metadata": {
        "id": "cowoN4mHbmxy",
        "colab_type": "text"
      },
      "source": [
        "Next, add some noisy features:"
      ]
    },
    {
      "cell_type": "code",
      "metadata": {
        "id": "RJ-I5yzlX6KY",
        "colab_type": "code",
        "colab": {
          "base_uri": "https://localhost:8080/",
          "height": 34
        },
        "outputId": "4969c1fa-19e9-44a7-c784-9bb88638da1e"
      },
      "source": [
        "X = np.random.uniform(-1,1,(10000,10))\n",
        "y = np.sign(X[:,0]) * np.sign(X[:,1])\n",
        "X_tr, X_te, y_tr, y_te = train_test_split(X, y, test_size=0.1)\n",
        "dt = DecisionTreeClassifier()\n",
        "dt.fit(X_tr, y_tr)\n",
        "dt.score(X_te, y_te)"
      ],
      "execution_count": 162,
      "outputs": [
        {
          "output_type": "execute_result",
          "data": {
            "text/plain": [
              "0.984"
            ]
          },
          "metadata": {
            "tags": []
          },
          "execution_count": 162
        }
      ]
    },
    {
      "cell_type": "markdown",
      "metadata": {
        "id": "7WXoICOWbpZ8",
        "colab_type": "text"
      },
      "source": [
        "Rerun that a few times.  Sometimes it does perfectly, sometimes quite well, but a few times it takes a pretty serious hit.  (I assume) the tree would sometimes rather split on noise instead of finding the XOR."
      ]
    },
    {
      "cell_type": "code",
      "metadata": {
        "id": "PsgvCJs8gxck",
        "colab_type": "code",
        "colab": {
          "base_uri": "https://localhost:8080/",
          "height": 70
        },
        "outputId": "5f8323fc-a294-40d8-f8f1-c8edd667cc7e"
      },
      "source": [
        "rf = RandomForestClassifier()\n",
        "rf.fit(X_tr, y_tr)\n",
        "rf.score(X_te, y_te)"
      ],
      "execution_count": 165,
      "outputs": [
        {
          "output_type": "stream",
          "text": [
            "/usr/local/lib/python3.6/dist-packages/sklearn/ensemble/forest.py:245: FutureWarning: The default value of n_estimators will change from 10 in version 0.20 to 100 in 0.22.\n",
            "  \"10 in version 0.20 to 100 in 0.22.\", FutureWarning)\n"
          ],
          "name": "stderr"
        },
        {
          "output_type": "execute_result",
          "data": {
            "text/plain": [
              "0.978"
            ]
          },
          "metadata": {
            "tags": []
          },
          "execution_count": 165
        }
      ]
    },
    {
      "cell_type": "markdown",
      "metadata": {
        "id": "wVTq7wmRhjQd",
        "colab_type": "text"
      },
      "source": [
        "The forest seems to help keep out the really bad plunges in performance.  It's pretty close, and if you want to push this further I'd suggest running it many times and do some statistical analysis."
      ]
    },
    {
      "cell_type": "code",
      "metadata": {
        "id": "04IWAA2WYAJp",
        "colab_type": "code",
        "colab": {}
      },
      "source": [
        ""
      ],
      "execution_count": 0,
      "outputs": []
    },
    {
      "cell_type": "markdown",
      "metadata": {
        "id": "ztOkLBHjbrj-",
        "colab_type": "text"
      },
      "source": [
        "Now add some useful features in addition to the XOR part.\n",
        "\n",
        "The answers here are quite a bit closer, so I've put them together in a cell to rerun a few times.\n",
        "It looks like the XOR does cause a little bit of a problem, but not much."
      ]
    },
    {
      "cell_type": "code",
      "metadata": {
        "id": "baicA3z2YHt0",
        "colab_type": "code",
        "colab": {
          "base_uri": "https://localhost:8080/",
          "height": 52
        },
        "outputId": "186e9f7d-310d-462d-d0c7-060d78846042"
      },
      "source": [
        "X = np.random.uniform(-1,1,(10000,10))\n",
        "\n",
        "y = (np.sum(np.sign(X), axis=1) <= 0)\n",
        "X_tr, X_te, y_tr, y_te = train_test_split(X, y, test_size=0.1)\n",
        "dt = DecisionTreeClassifier()\n",
        "dt.fit(X_tr, y_tr)\n",
        "print('Without XOR:', dt.score(X_te, y_te))\n",
        "\n",
        "y = (np.sign( np.sign(X[:,0]) * np.sign(X[:,1]) + np.sum(np.sign(X[:, 2:10]), axis=1) ) <= 0)\n",
        "X_tr, X_te, y_tr, y_te = train_test_split(X, y, test_size=0.1)\n",
        "dt = DecisionTreeClassifier()\n",
        "dt.fit(X_tr, y_tr)\n",
        "print('With XOR', dt.score(X_te, y_te))"
      ],
      "execution_count": 169,
      "outputs": [
        {
          "output_type": "stream",
          "text": [
            "Without XOR: 0.879\n",
            "With XOR 0.868\n"
          ],
          "name": "stdout"
        }
      ]
    },
    {
      "cell_type": "markdown",
      "metadata": {
        "id": "B2ttmBrvcRws",
        "colab_type": "text"
      },
      "source": [
        "Finally do some feature engineering to get the XOR directly (just to see that the tree really can learn the basic model)."
      ]
    },
    {
      "cell_type": "code",
      "metadata": {
        "id": "3IJ8tbt-YkvN",
        "colab_type": "code",
        "colab": {
          "base_uri": "https://localhost:8080/",
          "height": 34
        },
        "outputId": "28b5fe93-0ae4-4802-bdae-10139b96ec82"
      },
      "source": [
        "X_eng = np.hstack( (np.sign(X[:,0]) * np.sign(X[:,1]).reshape(-1,1) , X[:, 2:10]) )\n",
        "y = np.sign( np.sum(np.sign(X_eng), axis=1) )\n",
        "X_tr, X_te, y_tr, y_te = train_test_split(X, y, test_size=0.1)\n",
        "dt = DecisionTreeClassifier()\n",
        "dt.fit(X_tr, y_tr)\n",
        "dt.score(X_te, y_te)"
      ],
      "execution_count": 170,
      "outputs": [
        {
          "output_type": "execute_result",
          "data": {
            "text/plain": [
              "1.0"
            ]
          },
          "metadata": {
            "tags": []
          },
          "execution_count": 170
        }
      ]
    },
    {
      "cell_type": "code",
      "metadata": {
        "id": "xaI5Hq0Zex6m",
        "colab_type": "code",
        "colab": {}
      },
      "source": [
        ""
      ],
      "execution_count": 0,
      "outputs": []
    }
  ]
}