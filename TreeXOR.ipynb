{
  "nbformat": 4,
  "nbformat_minor": 0,
  "metadata": {
    "colab": {
      "name": "TreeXOR.ipynb",
      "provenance": [],
      "include_colab_link": true
    },
    "kernelspec": {
      "name": "python3",
      "display_name": "Python 3"
    }
  },
  "cells": [
    {
      "cell_type": "markdown",
      "metadata": {
        "id": "view-in-github",
        "colab_type": "text"
      },
      "source": [
        "<a href=\"https://colab.research.google.com/github/bmreiniger/datascience.stackexchange/blob/master/TreeXOR.ipynb\" target=\"_parent\"><img src=\"https://colab.research.google.com/assets/colab-badge.svg\" alt=\"Open In Colab\"/></a>"
      ]
    },
    {
      "cell_type": "code",
      "metadata": {
        "id": "AsEPp2gFVGCf",
        "colab_type": "code",
        "colab": {}
      },
      "source": [
        "import numpy as np\n",
        "from sklearn.tree import DecisionTreeClassifier, plot_tree\n",
        "from sklearn.model_selection import train_test_split"
      ],
      "execution_count": 0,
      "outputs": []
    },
    {
      "cell_type": "markdown",
      "metadata": {
        "id": "TxxziyyVbNMy",
        "colab_type": "text"
      },
      "source": [
        "First, can the decision tree algorithm (at least the sklearn version) learn the XOR?"
      ]
    },
    {
      "cell_type": "code",
      "metadata": {
        "id": "PyW_5LfmVLof",
        "colab_type": "code",
        "colab": {}
      },
      "source": [
        "X = np.random.uniform(-1,1,(10000,2))\n",
        "y = np.sign(X[:,0]) * np.sign(X[:,1])"
      ],
      "execution_count": 0,
      "outputs": []
    },
    {
      "cell_type": "code",
      "metadata": {
        "id": "NA6Pjhr9WQc-",
        "colab_type": "code",
        "colab": {
          "base_uri": "https://localhost:8080/",
          "height": 34
        },
        "outputId": "f261ec56-af14-4cbb-a644-75d2b968f1e6"
      },
      "source": [
        "X.shape"
      ],
      "execution_count": 40,
      "outputs": [
        {
          "output_type": "execute_result",
          "data": {
            "text/plain": [
              "(10000, 2)"
            ]
          },
          "metadata": {
            "tags": []
          },
          "execution_count": 40
        }
      ]
    },
    {
      "cell_type": "code",
      "metadata": {
        "id": "gRv7FGmAVhr9",
        "colab_type": "code",
        "colab": {}
      },
      "source": [
        "X_tr, X_te, y_tr, y_te = train_test_split(X, y, test_size=0.1)"
      ],
      "execution_count": 0,
      "outputs": []
    },
    {
      "cell_type": "code",
      "metadata": {
        "id": "YHbNojIdVo5k",
        "colab_type": "code",
        "colab": {
          "base_uri": "https://localhost:8080/",
          "height": 123
        },
        "outputId": "c4c59c3d-67a3-42b0-ba87-e94f72048053"
      },
      "source": [
        "dt = DecisionTreeClassifier()\n",
        "dt.fit(X_tr, y_tr)"
      ],
      "execution_count": 42,
      "outputs": [
        {
          "output_type": "execute_result",
          "data": {
            "text/plain": [
              "DecisionTreeClassifier(class_weight=None, criterion='gini', max_depth=None,\n",
              "                       max_features=None, max_leaf_nodes=None,\n",
              "                       min_impurity_decrease=0.0, min_impurity_split=None,\n",
              "                       min_samples_leaf=1, min_samples_split=2,\n",
              "                       min_weight_fraction_leaf=0.0, presort=False,\n",
              "                       random_state=None, splitter='best')"
            ]
          },
          "metadata": {
            "tags": []
          },
          "execution_count": 42
        }
      ]
    },
    {
      "cell_type": "code",
      "metadata": {
        "id": "7xKt3PyXV8nW",
        "colab_type": "code",
        "colab": {
          "base_uri": "https://localhost:8080/",
          "height": 34
        },
        "outputId": "587ecdb8-7025-4aa8-f595-791fc5a921e8"
      },
      "source": [
        "dt.score(X_te, y_te)"
      ],
      "execution_count": 43,
      "outputs": [
        {
          "output_type": "execute_result",
          "data": {
            "text/plain": [
              "1.0"
            ]
          },
          "metadata": {
            "tags": []
          },
          "execution_count": 43
        }
      ]
    },
    {
      "cell_type": "markdown",
      "metadata": {
        "id": "9BzZtb1HbZpy",
        "colab_type": "text"
      },
      "source": [
        "Yep, it did just fine.  See below though, that it didn't find the splits quite so nicely as it could have.  (Some algorithms will postprocess to reduce redundant combinations of rules, so perhaps that could work here.)"
      ]
    },
    {
      "cell_type": "code",
      "metadata": {
        "id": "YsWiHI_4WeB5",
        "colab_type": "code",
        "colab": {
          "base_uri": "https://localhost:8080/",
          "height": 535
        },
        "outputId": "d7906844-ec23-438e-b703-d3d3b16009f0"
      },
      "source": [
        "plot_tree(dt)"
      ],
      "execution_count": 44,
      "outputs": [
        {
          "output_type": "execute_result",
          "data": {
            "text/plain": [
              "[Text(132.525, 195.696, 'X[1] <= -0.195\\ngini = 0.5\\nsamples = 9000\\nvalue = [4523, 4477]'),\n",
              " Text(55.800000000000004, 152.208, 'X[0] <= 0.0\\ngini = 0.499\\nsamples = 3629\\nvalue = [1889, 1740]'),\n",
              " Text(27.900000000000002, 108.72, 'gini = 0.0\\nsamples = 1740\\nvalue = [0, 1740]'),\n",
              " Text(83.7, 108.72, 'gini = 0.0\\nsamples = 1889\\nvalue = [1889, 0]'),\n",
              " Text(209.25000000000003, 152.208, 'X[0] <= 0.001\\ngini = 0.5\\nsamples = 5371\\nvalue = [2634, 2737]'),\n",
              " Text(139.5, 108.72, 'X[1] <= 0.0\\ngini = 0.29\\nsamples = 2667\\nvalue = [2198, 469]'),\n",
              " Text(83.7, 65.232, 'X[0] <= -0.0\\ngini = 0.004\\nsamples = 469\\nvalue = [1, 468]'),\n",
              " Text(55.800000000000004, 21.744, 'gini = 0.0\\nsamples = 468\\nvalue = [0, 468]'),\n",
              " Text(111.60000000000001, 21.744, 'gini = 0.0\\nsamples = 1\\nvalue = [1, 0]'),\n",
              " Text(195.3, 65.232, 'X[0] <= -0.0\\ngini = 0.001\\nsamples = 2198\\nvalue = [2197, 1]'),\n",
              " Text(167.4, 21.744, 'gini = 0.0\\nsamples = 2197\\nvalue = [2197, 0]'),\n",
              " Text(223.20000000000002, 21.744, 'gini = 0.0\\nsamples = 1\\nvalue = [0, 1]'),\n",
              " Text(279.0, 108.72, 'X[1] <= 0.0\\ngini = 0.27\\nsamples = 2704\\nvalue = [436, 2268]'),\n",
              " Text(251.10000000000002, 65.232, 'gini = 0.0\\nsamples = 436\\nvalue = [436, 0]'),\n",
              " Text(306.90000000000003, 65.232, 'gini = 0.0\\nsamples = 2268\\nvalue = [0, 2268]')]"
            ]
          },
          "metadata": {
            "tags": []
          },
          "execution_count": 44
        },
        {
          "output_type": "display_data",
          "data": {
            "image/png": "[encoded data removed]",
            "text/plain": [
              "<Figure size 432x288 with 1 Axes>"
            ]
          },
          "metadata": {
            "tags": []
          }
        }
      ]
    },
    {
      "cell_type": "code",
      "metadata": {
        "id": "dnHGpCbFWi1x",
        "colab_type": "code",
        "colab": {}
      },
      "source": [
        ""
      ],
      "execution_count": 0,
      "outputs": []
    },
    {
      "cell_type": "markdown",
      "metadata": {
        "id": "cowoN4mHbmxy",
        "colab_type": "text"
      },
      "source": [
        "Next, add some noisy features:"
      ]
    },
    {
      "cell_type": "code",
      "metadata": {
        "id": "RJ-I5yzlX6KY",
        "colab_type": "code",
        "colab": {
          "base_uri": "https://localhost:8080/",
          "height": 34
        },
        "outputId": "6ea5e58e-87db-4b19-979b-255f6b3875df"
      },
      "source": [
        "X = np.random.uniform(-1,1,(10000,10))\n",
        "y = np.sign(X[:,0]) * np.sign(X[:,1])\n",
        "X_tr, X_te, y_tr, y_te = train_test_split(X, y, test_size=0.1)\n",
        "dt = DecisionTreeClassifier()\n",
        "dt.fit(X_tr, y_tr)\n",
        "dt.score(X_te, y_te)"
      ],
      "execution_count": 38,
      "outputs": [
        {
          "output_type": "execute_result",
          "data": {
            "text/plain": [
              "0.854"
            ]
          },
          "metadata": {
            "tags": []
          },
          "execution_count": 38
        }
      ]
    },
    {
      "cell_type": "markdown",
      "metadata": {
        "id": "7WXoICOWbpZ8",
        "colab_type": "text"
      },
      "source": [
        "Took a pretty serious hit.  (I assume) the tree would sometimes rather split on noise instead of finding the XOR."
      ]
    },
    {
      "cell_type": "code",
      "metadata": {
        "id": "04IWAA2WYAJp",
        "colab_type": "code",
        "colab": {}
      },
      "source": [
        ""
      ],
      "execution_count": 0,
      "outputs": []
    },
    {
      "cell_type": "markdown",
      "metadata": {
        "id": "ztOkLBHjbrj-",
        "colab_type": "text"
      },
      "source": [
        "Now add some useful features in addition to the XOR part.\n",
        "\n",
        "The answers here are quite a bit closer, so I've put them together in a cell to rerun a few times.\n",
        "It looks like the XOR does cause a little bit of a problem, but not much."
      ]
    },
    {
      "cell_type": "code",
      "metadata": {
        "id": "baicA3z2YHt0",
        "colab_type": "code",
        "colab": {
          "base_uri": "https://localhost:8080/",
          "height": 52
        },
        "outputId": "0dc724c2-b2d2-46cc-be17-e3d107565854"
      },
      "source": [
        "X = np.random.uniform(-1,1,(10000,10))\n",
        "\n",
        "y = (np.sum(np.sign(X), axis=1) <= 0)\n",
        "X_tr, X_te, y_tr, y_te = train_test_split(X, y, test_size=0.1)\n",
        "dt = DecisionTreeClassifier()\n",
        "dt.fit(X_tr, y_tr)\n",
        "print('Without XOR:', dt.score(X_te, y_te))\n",
        "\n",
        "y = (np.sign( np.sign(X[:,0]) * np.sign(X[:,1]) + np.sum(np.sign(X[:, 2:10]), axis=1) ) <= 0)\n",
        "X_tr, X_te, y_tr, y_te = train_test_split(X, y, test_size=0.1)\n",
        "dt = DecisionTreeClassifier()\n",
        "dt.fit(X_tr, y_tr)\n",
        "print('With XOR', dt.score(X_te, y_te))"
      ],
      "execution_count": 115,
      "outputs": [
        {
          "output_type": "stream",
          "text": [
            "Without XOR: 0.864\n",
            "With XOR 0.838\n"
          ],
          "name": "stdout"
        }
      ]
    },
    {
      "cell_type": "markdown",
      "metadata": {
        "id": "B2ttmBrvcRws",
        "colab_type": "text"
      },
      "source": [
        "Finally do some feature engineering to get the XOR directly (just to see that the tree really can learn the basic model)."
      ]
    },
    {
      "cell_type": "code",
      "metadata": {
        "id": "3IJ8tbt-YkvN",
        "colab_type": "code",
        "colab": {
          "base_uri": "https://localhost:8080/",
          "height": 34
        },
        "outputId": "b8ffce8f-27e9-497f-9259-303ec00f281b"
      },
      "source": [
        "X_eng = np.hstack( (np.sign(X[:,0]) * np.sign(X[:,1]).reshape(-1,1) , X[:, 2:10]) )\n",
        "y = np.sign( np.sum(np.sign(X_eng), axis=1) )\n",
        "X_tr, X_te, y_tr, y_te = train_test_split(X, y, test_size=0.1)\n",
        "dt = DecisionTreeClassifier()\n",
        "dt.fit(X_tr, y_tr)\n",
        "dt.score(X_te, y_te)"
      ],
      "execution_count": 118,
      "outputs": [
        {
          "output_type": "execute_result",
          "data": {
            "text/plain": [
              "1.0"
            ]
          },
          "metadata": {
            "tags": []
          },
          "execution_count": 118
        }
      ]
    },
    {
      "cell_type": "code",
      "metadata": {
        "id": "xaI5Hq0Zex6m",
        "colab_type": "code",
        "colab": {}
      },
      "source": [
        ""
      ],
      "execution_count": 0,
      "outputs": []
    }
  ]
}