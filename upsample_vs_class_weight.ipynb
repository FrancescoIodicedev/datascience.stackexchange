{
  "nbformat": 4,
  "nbformat_minor": 0,
  "metadata": {
    "colab": {
      "name": "upsample-vs-class_weight.ipynb",
      "provenance": [],
      "include_colab_link": true
    },
    "kernelspec": {
      "name": "python3",
      "display_name": "Python 3"
    }
  },
  "cells": [
    {
      "cell_type": "markdown",
      "metadata": {
        "id": "view-in-github",
        "colab_type": "text"
      },
      "source": [
        "<a href=\"https://colab.research.google.com/github/bmreiniger/datascience.stackexchange/blob/master/upsample_vs_class_weight.ipynb\" target=\"_parent\"><img src=\"https://colab.research.google.com/assets/colab-badge.svg\" alt=\"Open In Colab\"/></a>"
      ]
    },
    {
      "cell_type": "code",
      "metadata": {
        "id": "yPz8B8SVCTaT",
        "colab_type": "code",
        "colab": {}
      },
      "source": [
        "from sklearn.tree import DecisionTreeClassifier\n",
        "from sklearn.datasets import load_wine\n",
        "from sklearn.model_selection import train_test_split\n",
        "import numpy as np\n"
      ],
      "execution_count": 0,
      "outputs": []
    },
    {
      "cell_type": "code",
      "metadata": {
        "id": "oYS1UGjw3WHv",
        "colab_type": "code",
        "colab": {}
      },
      "source": [
        "X_raw, y_raw = load_wine(return_X_y=True)\n",
        "y_raw = (y_raw==2)\n",
        "#X_tr, X_te, y_tr, y_te = train_test_split(X, y, test_size=0.2, stratify=y)"
      ],
      "execution_count": 0,
      "outputs": []
    },
    {
      "cell_type": "code",
      "metadata": {
        "id": "-ywgug6D35iL",
        "colab_type": "code",
        "colab": {
          "base_uri": "https://localhost:8080/",
          "height": 34
        },
        "outputId": "326d0198-a7eb-471f-eace-74ceddf82758"
      },
      "source": [
        "y_raw.sum(), len(y_raw), y_raw.mean()"
      ],
      "execution_count": 18,
      "outputs": [
        {
          "output_type": "execute_result",
          "data": {
            "text/plain": [
              "(48, 178, 0.2696629213483146)"
            ]
          },
          "metadata": {
            "tags": []
          },
          "execution_count": 18
        }
      ]
    },
    {
      "cell_type": "code",
      "metadata": {
        "id": "sYHl4734CgQ3",
        "colab_type": "code",
        "colab": {
          "base_uri": "https://localhost:8080/",
          "height": 34
        },
        "outputId": "5ece2684-bcc7-47fa-b3a7-9c68244f7ffe"
      },
      "source": [
        "X_raw[:14,:].shape, X_raw.shape"
      ],
      "execution_count": 29,
      "outputs": [
        {
          "output_type": "execute_result",
          "data": {
            "text/plain": [
              "((14, 13), (178, 13))"
            ]
          },
          "metadata": {
            "tags": []
          },
          "execution_count": 29
        }
      ]
    },
    {
      "cell_type": "code",
      "metadata": {
        "id": "NG_MM3SUBteH",
        "colab_type": "code",
        "colab": {}
      },
      "source": [
        "X = np.vstack([X_raw[:14,:], X_raw])\n",
        "y = np.hstack([y_raw[:14], y])"
      ],
      "execution_count": 0,
      "outputs": []
    },
    {
      "cell_type": "code",
      "metadata": {
        "id": "W-CTNIBcCDV_",
        "colab_type": "code",
        "colab": {
          "base_uri": "https://localhost:8080/",
          "height": 34
        },
        "outputId": "7918dfed-a3cd-47be-a37d-389cff547a01"
      },
      "source": [
        "X.shape, y.shape"
      ],
      "execution_count": 42,
      "outputs": [
        {
          "output_type": "execute_result",
          "data": {
            "text/plain": [
              "((192, 13), (192,))"
            ]
          },
          "metadata": {
            "tags": []
          },
          "execution_count": 42
        }
      ]
    },
    {
      "cell_type": "code",
      "metadata": {
        "id": "h0qw87bXDMzs",
        "colab_type": "code",
        "colab": {
          "base_uri": "https://localhost:8080/",
          "height": 34
        },
        "outputId": "ddba1511-1c33-49d6-dfb7-e072100f814a"
      },
      "source": [
        "y.mean()"
      ],
      "execution_count": 43,
      "outputs": [
        {
          "output_type": "execute_result",
          "data": {
            "text/plain": [
              "0.25"
            ]
          },
          "metadata": {
            "tags": []
          },
          "execution_count": 43
        }
      ]
    },
    {
      "cell_type": "code",
      "metadata": {
        "id": "XGi8_YND3hTp",
        "colab_type": "code",
        "colab": {
          "base_uri": "https://localhost:8080/",
          "height": 123
        },
        "outputId": "3e5b30f2-a127-4d20-fbfb-80447c3b2c1a"
      },
      "source": [
        "dt = DecisionTreeClassifier(class_weight='balanced')\n",
        "dt.fit(X, y)"
      ],
      "execution_count": 44,
      "outputs": [
        {
          "output_type": "execute_result",
          "data": {
            "text/plain": [
              "DecisionTreeClassifier(class_weight='balanced', criterion='gini',\n",
              "                       max_depth=None, max_features=None, max_leaf_nodes=None,\n",
              "                       min_impurity_decrease=0.0, min_impurity_split=None,\n",
              "                       min_samples_leaf=1, min_samples_split=2,\n",
              "                       min_weight_fraction_leaf=0.0, presort=False,\n",
              "                       random_state=None, splitter='best')"
            ]
          },
          "metadata": {
            "tags": []
          },
          "execution_count": 44
        }
      ]
    },
    {
      "cell_type": "code",
      "metadata": {
        "id": "9gXJB8hu3iXJ",
        "colab_type": "code",
        "colab": {
          "base_uri": "https://localhost:8080/",
          "height": 123
        },
        "outputId": "f4486c53-244a-4e99-ee29-4c8737fadca2"
      },
      "source": [
        "X_re = np.vstack([X, X[-48:,:]])\n",
        "y_re = np.hstack([y, y[-48:]])\n",
        "dt2 = DecisionTreeClassifier()\n",
        "dt2.fit(X_re, y_re)"
      ],
      "execution_count": 58,
      "outputs": [
        {
          "output_type": "execute_result",
          "data": {
            "text/plain": [
              "DecisionTreeClassifier(class_weight=None, criterion='gini', max_depth=None,\n",
              "                       max_features=None, max_leaf_nodes=None,\n",
              "                       min_impurity_decrease=0.0, min_impurity_split=None,\n",
              "                       min_samples_leaf=1, min_samples_split=2,\n",
              "                       min_weight_fraction_leaf=0.0, presort=False,\n",
              "                       random_state=None, splitter='best')"
            ]
          },
          "metadata": {
            "tags": []
          },
          "execution_count": 58
        }
      ]
    },
    {
      "cell_type": "code",
      "metadata": {
        "id": "oJcQLNVEDmW4",
        "colab_type": "code",
        "colab": {
          "base_uri": "https://localhost:8080/",
          "height": 393
        },
        "outputId": "39c1b545-6474-430a-8feb-9fa3d5754809"
      },
      "source": [
        "from sklearn.tree import plot_tree\n",
        "plot_tree(dt)"
      ],
      "execution_count": 63,
      "outputs": [
        {
          "output_type": "execute_result",
          "data": {
            "text/plain": [
              "[Text(167.4, 181.2, 'X[6] <= 1.4\\ngini = 0.5\\nsamples = 192\\nvalue = [96.0, 96.0]'),\n",
              " Text(83.7, 108.72, 'X[9] <= 3.725\\ngini = 0.124\\nsamples = 57\\nvalue = [6.667, 94.0]'),\n",
              " Text(41.85, 36.23999999999998, 'gini = 0.0\\nsamples = 10\\nvalue = [6.667, 0.0]'),\n",
              " Text(125.55000000000001, 36.23999999999998, 'gini = 0.0\\nsamples = 47\\nvalue = [0, 94]'),\n",
              " Text(251.10000000000002, 108.72, 'X[11] <= 1.445\\ngini = 0.043\\nsamples = 135\\nvalue = [89.333, 2.0]'),\n",
              " Text(209.25, 36.23999999999998, 'gini = 0.0\\nsamples = 1\\nvalue = [0, 2]'),\n",
              " Text(292.95, 36.23999999999998, 'gini = 0.0\\nsamples = 134\\nvalue = [89.333, 0.0]')]"
            ]
          },
          "metadata": {
            "tags": []
          },
          "execution_count": 63
        },
        {
          "output_type": "display_data",
          "data": {
            "image/png": "[encoded data removed]",
            "text/plain": [
              "<Figure size 432x288 with 1 Axes>"
            ]
          },
          "metadata": {
            "tags": []
          }
        }
      ]
    },
    {
      "cell_type": "code",
      "metadata": {
        "id": "o2OqeBWvDrU2",
        "colab_type": "code",
        "colab": {
          "base_uri": "https://localhost:8080/",
          "height": 393
        },
        "outputId": "a2416a81-6941-4860-dbc6-322bf3d1b772"
      },
      "source": [
        "plot_tree(dt2)"
      ],
      "execution_count": 64,
      "outputs": [
        {
          "output_type": "execute_result",
          "data": {
            "text/plain": [
              "[Text(167.4, 181.2, 'X[6] <= 1.4\\ngini = 0.48\\nsamples = 240\\nvalue = [144, 96]'),\n",
              " Text(83.7, 108.72, 'X[9] <= 3.725\\ngini = 0.174\\nsamples = 104\\nvalue = [10, 94]'),\n",
              " Text(41.85, 36.23999999999998, 'gini = 0.0\\nsamples = 10\\nvalue = [10, 0]'),\n",
              " Text(125.55000000000001, 36.23999999999998, 'gini = 0.0\\nsamples = 94\\nvalue = [0, 94]'),\n",
              " Text(251.10000000000002, 108.72, 'X[11] <= 1.445\\ngini = 0.029\\nsamples = 136\\nvalue = [134, 2]'),\n",
              " Text(209.25, 36.23999999999998, 'gini = 0.0\\nsamples = 2\\nvalue = [0, 2]'),\n",
              " Text(292.95, 36.23999999999998, 'gini = 0.0\\nsamples = 134\\nvalue = [134, 0]')]"
            ]
          },
          "metadata": {
            "tags": []
          },
          "execution_count": 64
        },
        {
          "output_type": "display_data",
          "data": {
            "image/png": "[encoded data removed]",
            "text/plain": [
              "<Figure size 432x288 with 1 Axes>"
            ]
          },
          "metadata": {
            "tags": []
          }
        }
      ]
    },
    {
      "cell_type": "code",
      "metadata": {
        "id": "iqod3ROSD_3w",
        "colab_type": "code",
        "colab": {
          "base_uri": "https://localhost:8080/",
          "height": 464
        },
        "outputId": "7d265e31-97a4-415c-9e1a-cf85669a1800"
      },
      "source": [
        "dt3 = DecisionTreeClassifier()\n",
        "dt3.fit(X_raw, y_raw)\n",
        "plot_tree(dt3)"
      ],
      "execution_count": 65,
      "outputs": [
        {
          "output_type": "execute_result",
          "data": {
            "text/plain": [
              "[Text(167.4, 195.696, 'X[11] <= 2.115\\ngini = 0.394\\nsamples = 178\\nvalue = [130, 48]'),\n",
              " Text(83.7, 152.208, 'X[9] <= 3.56\\ngini = 0.233\\nsamples = 52\\nvalue = [7, 45]'),\n",
              " Text(41.85, 108.72, 'gini = 0.0\\nsamples = 5\\nvalue = [5, 0]'),\n",
              " Text(125.55000000000001, 108.72, 'X[6] <= 1.4\\ngini = 0.081\\nsamples = 47\\nvalue = [2, 45]'),\n",
              " Text(83.7, 65.232, 'gini = 0.0\\nsamples = 44\\nvalue = [0, 44]'),\n",
              " Text(167.4, 65.232, 'X[7] <= 0.375\\ngini = 0.444\\nsamples = 3\\nvalue = [2, 1]'),\n",
              " Text(125.55000000000001, 21.744, 'gini = 0.0\\nsamples = 1\\nvalue = [0, 1]'),\n",
              " Text(209.25, 21.744, 'gini = 0.0\\nsamples = 2\\nvalue = [2, 0]'),\n",
              " Text(251.10000000000002, 152.208, 'X[6] <= 0.795\\ngini = 0.046\\nsamples = 126\\nvalue = [123, 3]'),\n",
              " Text(209.25, 108.72, 'gini = 0.0\\nsamples = 3\\nvalue = [0, 3]'),\n",
              " Text(292.95, 108.72, 'gini = 0.0\\nsamples = 123\\nvalue = [123, 0]')]"
            ]
          },
          "metadata": {
            "tags": []
          },
          "execution_count": 65
        },
        {
          "output_type": "display_data",
          "data": {
            "image/png": "[encoded data removed]",
            "text/plain": [
              "<Figure size 432x288 with 1 Axes>"
            ]
          },
          "metadata": {
            "tags": []
          }
        }
      ]
    },
    {
      "cell_type": "code",
      "metadata": {
        "id": "P0NAbTdnFNpW",
        "colab_type": "code",
        "colab": {}
      },
      "source": [
        ""
      ],
      "execution_count": 0,
      "outputs": []
    }
  ]
}