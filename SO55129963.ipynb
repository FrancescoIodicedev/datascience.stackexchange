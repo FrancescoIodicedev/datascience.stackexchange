{
  "nbformat": 4,
  "nbformat_minor": 0,
  "metadata": {
    "colab": {
      "name": "SO55129963.ipynb",
      "provenance": [],
      "authorship_tag": "ABX9TyPFTeSlU/1KHAhlWcazMQaF",
      "include_colab_link": true
    },
    "kernelspec": {
      "name": "python3",
      "display_name": "Python 3"
    }
  },
  "cells": [
    {
      "cell_type": "markdown",
      "metadata": {
        "id": "view-in-github",
        "colab_type": "text"
      },
      "source": [
        "<a href=\"https://colab.research.google.com/github/bmreiniger/datascience.stackexchange/blob/master/SO55129963.ipynb\" target=\"_parent\"><img src=\"https://colab.research.google.com/assets/colab-badge.svg\" alt=\"Open In Colab\"/></a>"
      ]
    },
    {
      "cell_type": "code",
      "metadata": {
        "id": "Q1crs7CUfD2W",
        "colab_type": "code",
        "colab": {
          "base_uri": "https://localhost:8080/",
          "height": 109
        },
        "outputId": "4d444d14-47cd-4f84-9581-e533604f6b02"
      },
      "source": [
        "!pip install scikit-learn==0.23"
      ],
      "execution_count": 1,
      "outputs": [
        {
          "output_type": "stream",
          "text": [
            "Requirement already satisfied: scikit-learn==0.23 in /usr/local/lib/python3.6/dist-packages (0.23.0)\n",
            "Requirement already satisfied: threadpoolctl>=2.0.0 in /usr/local/lib/python3.6/dist-packages (from scikit-learn==0.23) (2.1.0)\n",
            "Requirement already satisfied: joblib>=0.11 in /usr/local/lib/python3.6/dist-packages (from scikit-learn==0.23) (0.16.0)\n",
            "Requirement already satisfied: scipy>=0.19.1 in /usr/local/lib/python3.6/dist-packages (from scikit-learn==0.23) (1.4.1)\n",
            "Requirement already satisfied: numpy>=1.13.3 in /usr/local/lib/python3.6/dist-packages (from scikit-learn==0.23) (1.18.5)\n"
          ],
          "name": "stdout"
        }
      ]
    },
    {
      "cell_type": "code",
      "metadata": {
        "id": "q2VaRtrHdlyR",
        "colab_type": "code",
        "colab": {}
      },
      "source": [
        "from sklearn.datasets import fetch_openml\n",
        "from sklearn.preprocessing import OneHotEncoder\n",
        "from sklearn.tree import DecisionTreeClassifier, export_graphviz\n",
        "import graphviz"
      ],
      "execution_count": 2,
      "outputs": []
    },
    {
      "cell_type": "code",
      "metadata": {
        "id": "VKZs0ikYgVBn",
        "colab_type": "code",
        "colab": {
          "base_uri": "https://localhost:8080/",
          "height": 395
        },
        "outputId": "346112d3-5b7c-4744-a113-aca66239b58a"
      },
      "source": [
        "X_all, y = fetch_openml(\"titanic\", version=1, as_frame=True, return_X_y=True)\n",
        "X_all.describe(include='all')"
      ],
      "execution_count": 3,
      "outputs": [
        {
          "output_type": "execute_result",
          "data": {
            "text/html": [
              "<div>\n",
              "<style scoped>\n",
              "    .dataframe tbody tr th:only-of-type {\n",
              "        vertical-align: middle;\n",
              "    }\n",
              "\n",
              "    .dataframe tbody tr th {\n",
              "        vertical-align: top;\n",
              "    }\n",
              "\n",
              "    .dataframe thead th {\n",
              "        text-align: right;\n",
              "    }\n",
              "</style>\n",
              "<table border=\"1\" class=\"dataframe\">\n",
              "  <thead>\n",
              "    <tr style=\"text-align: right;\">\n",
              "      <th></th>\n",
              "      <th>pclass</th>\n",
              "      <th>name</th>\n",
              "      <th>sex</th>\n",
              "      <th>age</th>\n",
              "      <th>sibsp</th>\n",
              "      <th>parch</th>\n",
              "      <th>ticket</th>\n",
              "      <th>fare</th>\n",
              "      <th>cabin</th>\n",
              "      <th>embarked</th>\n",
              "      <th>boat</th>\n",
              "      <th>body</th>\n",
              "      <th>home.dest</th>\n",
              "    </tr>\n",
              "  </thead>\n",
              "  <tbody>\n",
              "    <tr>\n",
              "      <th>count</th>\n",
              "      <td>1309.000000</td>\n",
              "      <td>1309</td>\n",
              "      <td>1309</td>\n",
              "      <td>1046.000000</td>\n",
              "      <td>1309.000000</td>\n",
              "      <td>1309.000000</td>\n",
              "      <td>1309</td>\n",
              "      <td>1308.000000</td>\n",
              "      <td>295</td>\n",
              "      <td>1307</td>\n",
              "      <td>486</td>\n",
              "      <td>121.000000</td>\n",
              "      <td>745</td>\n",
              "    </tr>\n",
              "    <tr>\n",
              "      <th>unique</th>\n",
              "      <td>NaN</td>\n",
              "      <td>1307</td>\n",
              "      <td>2</td>\n",
              "      <td>NaN</td>\n",
              "      <td>NaN</td>\n",
              "      <td>NaN</td>\n",
              "      <td>929</td>\n",
              "      <td>NaN</td>\n",
              "      <td>186</td>\n",
              "      <td>3</td>\n",
              "      <td>27</td>\n",
              "      <td>NaN</td>\n",
              "      <td>369</td>\n",
              "    </tr>\n",
              "    <tr>\n",
              "      <th>top</th>\n",
              "      <td>NaN</td>\n",
              "      <td>Kelly, Mr. James</td>\n",
              "      <td>male</td>\n",
              "      <td>NaN</td>\n",
              "      <td>NaN</td>\n",
              "      <td>NaN</td>\n",
              "      <td>CA. 2343</td>\n",
              "      <td>NaN</td>\n",
              "      <td>C23 C25 C27</td>\n",
              "      <td>S</td>\n",
              "      <td>13</td>\n",
              "      <td>NaN</td>\n",
              "      <td>New York, NY</td>\n",
              "    </tr>\n",
              "    <tr>\n",
              "      <th>freq</th>\n",
              "      <td>NaN</td>\n",
              "      <td>2</td>\n",
              "      <td>843</td>\n",
              "      <td>NaN</td>\n",
              "      <td>NaN</td>\n",
              "      <td>NaN</td>\n",
              "      <td>11</td>\n",
              "      <td>NaN</td>\n",
              "      <td>6</td>\n",
              "      <td>914</td>\n",
              "      <td>39</td>\n",
              "      <td>NaN</td>\n",
              "      <td>64</td>\n",
              "    </tr>\n",
              "    <tr>\n",
              "      <th>mean</th>\n",
              "      <td>2.294882</td>\n",
              "      <td>NaN</td>\n",
              "      <td>NaN</td>\n",
              "      <td>29.881135</td>\n",
              "      <td>0.498854</td>\n",
              "      <td>0.385027</td>\n",
              "      <td>NaN</td>\n",
              "      <td>33.295479</td>\n",
              "      <td>NaN</td>\n",
              "      <td>NaN</td>\n",
              "      <td>NaN</td>\n",
              "      <td>160.809917</td>\n",
              "      <td>NaN</td>\n",
              "    </tr>\n",
              "    <tr>\n",
              "      <th>std</th>\n",
              "      <td>0.837836</td>\n",
              "      <td>NaN</td>\n",
              "      <td>NaN</td>\n",
              "      <td>14.413500</td>\n",
              "      <td>1.041658</td>\n",
              "      <td>0.865560</td>\n",
              "      <td>NaN</td>\n",
              "      <td>51.758668</td>\n",
              "      <td>NaN</td>\n",
              "      <td>NaN</td>\n",
              "      <td>NaN</td>\n",
              "      <td>97.696922</td>\n",
              "      <td>NaN</td>\n",
              "    </tr>\n",
              "    <tr>\n",
              "      <th>min</th>\n",
              "      <td>1.000000</td>\n",
              "      <td>NaN</td>\n",
              "      <td>NaN</td>\n",
              "      <td>0.166700</td>\n",
              "      <td>0.000000</td>\n",
              "      <td>0.000000</td>\n",
              "      <td>NaN</td>\n",
              "      <td>0.000000</td>\n",
              "      <td>NaN</td>\n",
              "      <td>NaN</td>\n",
              "      <td>NaN</td>\n",
              "      <td>1.000000</td>\n",
              "      <td>NaN</td>\n",
              "    </tr>\n",
              "    <tr>\n",
              "      <th>25%</th>\n",
              "      <td>2.000000</td>\n",
              "      <td>NaN</td>\n",
              "      <td>NaN</td>\n",
              "      <td>21.000000</td>\n",
              "      <td>0.000000</td>\n",
              "      <td>0.000000</td>\n",
              "      <td>NaN</td>\n",
              "      <td>7.895800</td>\n",
              "      <td>NaN</td>\n",
              "      <td>NaN</td>\n",
              "      <td>NaN</td>\n",
              "      <td>72.000000</td>\n",
              "      <td>NaN</td>\n",
              "    </tr>\n",
              "    <tr>\n",
              "      <th>50%</th>\n",
              "      <td>3.000000</td>\n",
              "      <td>NaN</td>\n",
              "      <td>NaN</td>\n",
              "      <td>28.000000</td>\n",
              "      <td>0.000000</td>\n",
              "      <td>0.000000</td>\n",
              "      <td>NaN</td>\n",
              "      <td>14.454200</td>\n",
              "      <td>NaN</td>\n",
              "      <td>NaN</td>\n",
              "      <td>NaN</td>\n",
              "      <td>155.000000</td>\n",
              "      <td>NaN</td>\n",
              "    </tr>\n",
              "    <tr>\n",
              "      <th>75%</th>\n",
              "      <td>3.000000</td>\n",
              "      <td>NaN</td>\n",
              "      <td>NaN</td>\n",
              "      <td>39.000000</td>\n",
              "      <td>1.000000</td>\n",
              "      <td>0.000000</td>\n",
              "      <td>NaN</td>\n",
              "      <td>31.275000</td>\n",
              "      <td>NaN</td>\n",
              "      <td>NaN</td>\n",
              "      <td>NaN</td>\n",
              "      <td>256.000000</td>\n",
              "      <td>NaN</td>\n",
              "    </tr>\n",
              "    <tr>\n",
              "      <th>max</th>\n",
              "      <td>3.000000</td>\n",
              "      <td>NaN</td>\n",
              "      <td>NaN</td>\n",
              "      <td>80.000000</td>\n",
              "      <td>8.000000</td>\n",
              "      <td>9.000000</td>\n",
              "      <td>NaN</td>\n",
              "      <td>512.329200</td>\n",
              "      <td>NaN</td>\n",
              "      <td>NaN</td>\n",
              "      <td>NaN</td>\n",
              "      <td>328.000000</td>\n",
              "      <td>NaN</td>\n",
              "    </tr>\n",
              "  </tbody>\n",
              "</table>\n",
              "</div>"
            ],
            "text/plain": [
              "             pclass              name   sex  ...  boat        body     home.dest\n",
              "count   1309.000000              1309  1309  ...   486  121.000000           745\n",
              "unique          NaN              1307     2  ...    27         NaN           369\n",
              "top             NaN  Kelly, Mr. James  male  ...    13         NaN  New York, NY\n",
              "freq            NaN                 2   843  ...    39         NaN            64\n",
              "mean       2.294882               NaN   NaN  ...   NaN  160.809917           NaN\n",
              "std        0.837836               NaN   NaN  ...   NaN   97.696922           NaN\n",
              "min        1.000000               NaN   NaN  ...   NaN    1.000000           NaN\n",
              "25%        2.000000               NaN   NaN  ...   NaN   72.000000           NaN\n",
              "50%        3.000000               NaN   NaN  ...   NaN  155.000000           NaN\n",
              "75%        3.000000               NaN   NaN  ...   NaN  256.000000           NaN\n",
              "max        3.000000               NaN   NaN  ...   NaN  328.000000           NaN\n",
              "\n",
              "[11 rows x 13 columns]"
            ]
          },
          "metadata": {
            "tags": []
          },
          "execution_count": 3
        }
      ]
    },
    {
      "cell_type": "markdown",
      "metadata": {
        "id": "fSGR6CRlEUBk",
        "colab_type": "text"
      },
      "source": [
        "# A simple case"
      ]
    },
    {
      "cell_type": "markdown",
      "metadata": {
        "id": "5Vk56R9kEZ1V",
        "colab_type": "text"
      },
      "source": [
        "In the original SO post, every variable was categorical and one-hot encoded for the model.  This is a bit easier to deal with, and has a slightly nicer syntax at the end, so let's tackle that first."
      ]
    },
    {
      "cell_type": "code",
      "metadata": {
        "id": "-qQLiv13eBlE",
        "colab_type": "code",
        "colab": {
          "base_uri": "https://localhost:8080/",
          "height": 128
        },
        "outputId": "dafc2d06-cc92-48be-ebb9-c2b5f33813c2"
      },
      "source": [
        "# To keep things simple for now, only use categoricals, so that we one-hot encode everything.\n",
        "X = X_all[['pclass', 'sex', 'embarked']]\n",
        "\n",
        "X['embarked'] = X['embarked'].fillna('S')\n",
        "\n",
        "ohe = OneHotEncoder()\n",
        "X_enc = ohe.fit_transform(X)\n",
        "\n",
        "clf = DecisionTreeClassifier(max_depth=3)\n",
        "clf.fit(X_enc, y);"
      ],
      "execution_count": 4,
      "outputs": [
        {
          "output_type": "stream",
          "text": [
            "/usr/local/lib/python3.6/dist-packages/ipykernel_launcher.py:4: SettingWithCopyWarning: \n",
            "A value is trying to be set on a copy of a slice from a DataFrame.\n",
            "Try using .loc[row_indexer,col_indexer] = value instead\n",
            "\n",
            "See the caveats in the documentation: https://pandas.pydata.org/pandas-docs/stable/user_guide/indexing.html#returning-a-view-versus-a-copy\n",
            "  after removing the cwd from sys.path.\n"
          ],
          "name": "stderr"
        }
      ]
    },
    {
      "cell_type": "code",
      "metadata": {
        "id": "bVD-7FYaeISX",
        "colab_type": "code",
        "colab": {
          "base_uri": "https://localhost:8080/",
          "height": 519
        },
        "outputId": "b2f71e89-5853-4c5d-ac32-09126b6b6bf7"
      },
      "source": [
        "dot_data = export_graphviz(\n",
        "    clf,\n",
        "    out_file=None,\n",
        "    feature_names=ohe.get_feature_names(input_features=X.columns)\n",
        ")\n",
        "graph = graphviz.Source(dot_data)\n",
        "graph.render(\"tree_plot\")\n",
        "graph"
      ],
      "execution_count": 5,
      "outputs": [
        {
          "output_type": "execute_result",
          "data": {
            "text/plain": [
              "<graphviz.files.Source at 0x7faccd09a668>"
            ],
            "image/svg+xml": "<?xml version=\"1.0\" encoding=\"UTF-8\" standalone=\"no\"?>\n<!DOCTYPE svg PUBLIC \"-//W3C//DTD SVG 1.1//EN\"\n \"http://www.w3.org/Graphics/SVG/1.1/DTD/svg11.dtd\">\n<!-- Generated by graphviz version 2.40.1 (20161225.0304)\n -->\n<!-- Title: Tree Pages: 1 -->\n<svg width=\"1022pt\" height=\"373pt\"\n viewBox=\"0.00 0.00 1021.50 373.00\" xmlns=\"http://www.w3.org/2000/svg\" xmlns:xlink=\"http://www.w3.org/1999/xlink\">\n<g id=\"graph0\" class=\"graph\" transform=\"scale(1 1) rotate(0) translate(4 369)\">\n<title>Tree</title>\n<polygon fill=\"#ffffff\" stroke=\"transparent\" points=\"-4,4 -4,-369 1017.5,-369 1017.5,4 -4,4\"/>\n<!-- 0 -->\n<g id=\"node1\" class=\"node\">\n<title>0</title>\n<polygon fill=\"none\" stroke=\"#000000\" points=\"551,-365 426,-365 426,-297 551,-297 551,-365\"/>\n<text text-anchor=\"middle\" x=\"488.5\" y=\"-349.8\" font-family=\"Times,serif\" font-size=\"14.00\" fill=\"#000000\">sex_female &lt;= 0.5</text>\n<text text-anchor=\"middle\" x=\"488.5\" y=\"-334.8\" font-family=\"Times,serif\" font-size=\"14.00\" fill=\"#000000\">gini = 0.472</text>\n<text text-anchor=\"middle\" x=\"488.5\" y=\"-319.8\" font-family=\"Times,serif\" font-size=\"14.00\" fill=\"#000000\">samples = 1309</text>\n<text text-anchor=\"middle\" x=\"488.5\" y=\"-304.8\" font-family=\"Times,serif\" font-size=\"14.00\" fill=\"#000000\">value = [809, 500]</text>\n</g>\n<!-- 1 -->\n<g id=\"node2\" class=\"node\">\n<title>1</title>\n<polygon fill=\"none\" stroke=\"#000000\" points=\"479,-261 354,-261 354,-193 479,-193 479,-261\"/>\n<text text-anchor=\"middle\" x=\"416.5\" y=\"-245.8\" font-family=\"Times,serif\" font-size=\"14.00\" fill=\"#000000\">pclass_1.0 &lt;= 0.5</text>\n<text text-anchor=\"middle\" x=\"416.5\" y=\"-230.8\" font-family=\"Times,serif\" font-size=\"14.00\" fill=\"#000000\">gini = 0.309</text>\n<text text-anchor=\"middle\" x=\"416.5\" y=\"-215.8\" font-family=\"Times,serif\" font-size=\"14.00\" fill=\"#000000\">samples = 843</text>\n<text text-anchor=\"middle\" x=\"416.5\" y=\"-200.8\" font-family=\"Times,serif\" font-size=\"14.00\" fill=\"#000000\">value = [682, 161]</text>\n</g>\n<!-- 0&#45;&gt;1 -->\n<g id=\"edge1\" class=\"edge\">\n<title>0&#45;&gt;1</title>\n<path fill=\"none\" stroke=\"#000000\" d=\"M464.9245,-296.9465C458.8329,-288.1475 452.2004,-278.5672 445.8534,-269.3993\"/>\n<polygon fill=\"#000000\" stroke=\"#000000\" points=\"448.6983,-267.3597 440.1285,-261.13 442.9429,-271.3442 448.6983,-267.3597\"/>\n<text text-anchor=\"middle\" x=\"435.6563\" y=\"-282.0267\" font-family=\"Times,serif\" font-size=\"14.00\" fill=\"#000000\">True</text>\n</g>\n<!-- 8 -->\n<g id=\"node9\" class=\"node\">\n<title>8</title>\n<polygon fill=\"none\" stroke=\"#000000\" points=\"667,-261 542,-261 542,-193 667,-193 667,-261\"/>\n<text text-anchor=\"middle\" x=\"604.5\" y=\"-245.8\" font-family=\"Times,serif\" font-size=\"14.00\" fill=\"#000000\">pclass_3.0 &lt;= 0.5</text>\n<text text-anchor=\"middle\" x=\"604.5\" y=\"-230.8\" font-family=\"Times,serif\" font-size=\"14.00\" fill=\"#000000\">gini = 0.397</text>\n<text text-anchor=\"middle\" x=\"604.5\" y=\"-215.8\" font-family=\"Times,serif\" font-size=\"14.00\" fill=\"#000000\">samples = 466</text>\n<text text-anchor=\"middle\" x=\"604.5\" y=\"-200.8\" font-family=\"Times,serif\" font-size=\"14.00\" fill=\"#000000\">value = [127, 339]</text>\n</g>\n<!-- 0&#45;&gt;8 -->\n<g id=\"edge8\" class=\"edge\">\n<title>0&#45;&gt;8</title>\n<path fill=\"none\" stroke=\"#000000\" d=\"M526.4827,-296.9465C536.7977,-287.6986 548.0754,-277.5876 558.7699,-267.9994\"/>\n<polygon fill=\"#000000\" stroke=\"#000000\" points=\"561.3226,-270.4115 566.4319,-261.13 556.6498,-265.1995 561.3226,-270.4115\"/>\n<text text-anchor=\"middle\" x=\"565.0703\" y=\"-282.3929\" font-family=\"Times,serif\" font-size=\"14.00\" fill=\"#000000\">False</text>\n</g>\n<!-- 2 -->\n<g id=\"node3\" class=\"node\">\n<title>2</title>\n<polygon fill=\"none\" stroke=\"#000000\" points=\"257,-157 124,-157 124,-89 257,-89 257,-157\"/>\n<text text-anchor=\"middle\" x=\"190.5\" y=\"-141.8\" font-family=\"Times,serif\" font-size=\"14.00\" fill=\"#000000\">embarked_C &lt;= 0.5</text>\n<text text-anchor=\"middle\" x=\"190.5\" y=\"-126.8\" font-family=\"Times,serif\" font-size=\"14.00\" fill=\"#000000\">gini = 0.256</text>\n<text text-anchor=\"middle\" x=\"190.5\" y=\"-111.8\" font-family=\"Times,serif\" font-size=\"14.00\" fill=\"#000000\">samples = 664</text>\n<text text-anchor=\"middle\" x=\"190.5\" y=\"-96.8\" font-family=\"Times,serif\" font-size=\"14.00\" fill=\"#000000\">value = [564, 100]</text>\n</g>\n<!-- 1&#45;&gt;2 -->\n<g id=\"edge2\" class=\"edge\">\n<title>1&#45;&gt;2</title>\n<path fill=\"none\" stroke=\"#000000\" d=\"M353.8465,-198.1683C326.7353,-185.6924 294.7639,-170.9799 266.3271,-157.8939\"/>\n<polygon fill=\"#000000\" stroke=\"#000000\" points=\"267.7767,-154.7082 257.2292,-153.7073 264.8504,-161.0672 267.7767,-154.7082\"/>\n</g>\n<!-- 5 -->\n<g id=\"node6\" class=\"node\">\n<title>5</title>\n<polygon fill=\"none\" stroke=\"#000000\" points=\"483,-157 350,-157 350,-89 483,-89 483,-157\"/>\n<text text-anchor=\"middle\" x=\"416.5\" y=\"-141.8\" font-family=\"Times,serif\" font-size=\"14.00\" fill=\"#000000\">embarked_C &lt;= 0.5</text>\n<text text-anchor=\"middle\" x=\"416.5\" y=\"-126.8\" font-family=\"Times,serif\" font-size=\"14.00\" fill=\"#000000\">gini = 0.449</text>\n<text text-anchor=\"middle\" x=\"416.5\" y=\"-111.8\" font-family=\"Times,serif\" font-size=\"14.00\" fill=\"#000000\">samples = 179</text>\n<text text-anchor=\"middle\" x=\"416.5\" y=\"-96.8\" font-family=\"Times,serif\" font-size=\"14.00\" fill=\"#000000\">value = [118, 61]</text>\n</g>\n<!-- 1&#45;&gt;5 -->\n<g id=\"edge5\" class=\"edge\">\n<title>1&#45;&gt;5</title>\n<path fill=\"none\" stroke=\"#000000\" d=\"M416.5,-192.9465C416.5,-184.776 416.5,-175.9318 416.5,-167.3697\"/>\n<polygon fill=\"#000000\" stroke=\"#000000\" points=\"420.0001,-167.13 416.5,-157.13 413.0001,-167.13 420.0001,-167.13\"/>\n</g>\n<!-- 3 -->\n<g id=\"node4\" class=\"node\">\n<title>3</title>\n<polygon fill=\"none\" stroke=\"#000000\" points=\"117,-53 0,-53 0,0 117,0 117,-53\"/>\n<text text-anchor=\"middle\" x=\"58.5\" y=\"-37.8\" font-family=\"Times,serif\" font-size=\"14.00\" fill=\"#000000\">gini = 0.239</text>\n<text text-anchor=\"middle\" x=\"58.5\" y=\"-22.8\" font-family=\"Times,serif\" font-size=\"14.00\" fill=\"#000000\">samples = 577</text>\n<text text-anchor=\"middle\" x=\"58.5\" y=\"-7.8\" font-family=\"Times,serif\" font-size=\"14.00\" fill=\"#000000\">value = [497, 80]</text>\n</g>\n<!-- 2&#45;&gt;3 -->\n<g id=\"edge3\" class=\"edge\">\n<title>2&#45;&gt;3</title>\n<path fill=\"none\" stroke=\"#000000\" d=\"M143.9617,-88.9777C130.8099,-79.3629 116.5257,-68.9203 103.468,-59.3743\"/>\n<polygon fill=\"#000000\" stroke=\"#000000\" points=\"105.227,-56.3247 95.0886,-53.2485 101.0958,-61.9757 105.227,-56.3247\"/>\n</g>\n<!-- 4 -->\n<g id=\"node5\" class=\"node\">\n<title>4</title>\n<polygon fill=\"none\" stroke=\"#000000\" points=\"245.5,-53 135.5,-53 135.5,0 245.5,0 245.5,-53\"/>\n<text text-anchor=\"middle\" x=\"190.5\" y=\"-37.8\" font-family=\"Times,serif\" font-size=\"14.00\" fill=\"#000000\">gini = 0.354</text>\n<text text-anchor=\"middle\" x=\"190.5\" y=\"-22.8\" font-family=\"Times,serif\" font-size=\"14.00\" fill=\"#000000\">samples = 87</text>\n<text text-anchor=\"middle\" x=\"190.5\" y=\"-7.8\" font-family=\"Times,serif\" font-size=\"14.00\" fill=\"#000000\">value = [67, 20]</text>\n</g>\n<!-- 2&#45;&gt;4 -->\n<g id=\"edge4\" class=\"edge\">\n<title>2&#45;&gt;4</title>\n<path fill=\"none\" stroke=\"#000000\" d=\"M190.5,-88.9777C190.5,-80.7364 190.5,-71.887 190.5,-63.5153\"/>\n<polygon fill=\"#000000\" stroke=\"#000000\" points=\"194.0001,-63.2484 190.5,-53.2485 187.0001,-63.2485 194.0001,-63.2484\"/>\n</g>\n<!-- 6 -->\n<g id=\"node7\" class=\"node\">\n<title>6</title>\n<polygon fill=\"none\" stroke=\"#000000\" points=\"373.5,-53 263.5,-53 263.5,0 373.5,0 373.5,-53\"/>\n<text text-anchor=\"middle\" x=\"318.5\" y=\"-37.8\" font-family=\"Times,serif\" font-size=\"14.00\" fill=\"#000000\">gini = 0.422</text>\n<text text-anchor=\"middle\" x=\"318.5\" y=\"-22.8\" font-family=\"Times,serif\" font-size=\"14.00\" fill=\"#000000\">samples = 109</text>\n<text text-anchor=\"middle\" x=\"318.5\" y=\"-7.8\" font-family=\"Times,serif\" font-size=\"14.00\" fill=\"#000000\">value = [76, 33]</text>\n</g>\n<!-- 5&#45;&gt;6 -->\n<g id=\"edge6\" class=\"edge\">\n<title>5&#45;&gt;6</title>\n<path fill=\"none\" stroke=\"#000000\" d=\"M381.9489,-88.9777C372.5566,-79.7292 362.3864,-69.7147 352.9971,-60.4691\"/>\n<polygon fill=\"#000000\" stroke=\"#000000\" points=\"355.2454,-57.7709 345.6643,-53.2485 350.3339,-62.7587 355.2454,-57.7709\"/>\n</g>\n<!-- 7 -->\n<g id=\"node8\" class=\"node\">\n<title>7</title>\n<polygon fill=\"none\" stroke=\"#000000\" points=\"501.5,-53 391.5,-53 391.5,0 501.5,0 501.5,-53\"/>\n<text text-anchor=\"middle\" x=\"446.5\" y=\"-37.8\" font-family=\"Times,serif\" font-size=\"14.00\" fill=\"#000000\">gini = 0.48</text>\n<text text-anchor=\"middle\" x=\"446.5\" y=\"-22.8\" font-family=\"Times,serif\" font-size=\"14.00\" fill=\"#000000\">samples = 70</text>\n<text text-anchor=\"middle\" x=\"446.5\" y=\"-7.8\" font-family=\"Times,serif\" font-size=\"14.00\" fill=\"#000000\">value = [42, 28]</text>\n</g>\n<!-- 5&#45;&gt;7 -->\n<g id=\"edge7\" class=\"edge\">\n<title>5&#45;&gt;7</title>\n<path fill=\"none\" stroke=\"#000000\" d=\"M427.0769,-88.9777C429.6959,-80.5533 432.5124,-71.4934 435.1659,-62.9579\"/>\n<polygon fill=\"#000000\" stroke=\"#000000\" points=\"438.5579,-63.8367 438.1844,-53.2485 431.8735,-61.7586 438.5579,-63.8367\"/>\n</g>\n<!-- 9 -->\n<g id=\"node10\" class=\"node\">\n<title>9</title>\n<polygon fill=\"none\" stroke=\"#000000\" points=\"664,-157 545,-157 545,-89 664,-89 664,-157\"/>\n<text text-anchor=\"middle\" x=\"604.5\" y=\"-141.8\" font-family=\"Times,serif\" font-size=\"14.00\" fill=\"#000000\">pclass_2.0 &lt;= 0.5</text>\n<text text-anchor=\"middle\" x=\"604.5\" y=\"-126.8\" font-family=\"Times,serif\" font-size=\"14.00\" fill=\"#000000\">gini = 0.127</text>\n<text text-anchor=\"middle\" x=\"604.5\" y=\"-111.8\" font-family=\"Times,serif\" font-size=\"14.00\" fill=\"#000000\">samples = 250</text>\n<text text-anchor=\"middle\" x=\"604.5\" y=\"-96.8\" font-family=\"Times,serif\" font-size=\"14.00\" fill=\"#000000\">value = [17, 233]</text>\n</g>\n<!-- 8&#45;&gt;9 -->\n<g id=\"edge9\" class=\"edge\">\n<title>8&#45;&gt;9</title>\n<path fill=\"none\" stroke=\"#000000\" d=\"M604.5,-192.9465C604.5,-184.776 604.5,-175.9318 604.5,-167.3697\"/>\n<polygon fill=\"#000000\" stroke=\"#000000\" points=\"608.0001,-167.13 604.5,-157.13 601.0001,-167.13 608.0001,-167.13\"/>\n</g>\n<!-- 12 -->\n<g id=\"node13\" class=\"node\">\n<title>12</title>\n<polygon fill=\"none\" stroke=\"#000000\" points=\"896,-157 765,-157 765,-89 896,-89 896,-157\"/>\n<text text-anchor=\"middle\" x=\"830.5\" y=\"-141.8\" font-family=\"Times,serif\" font-size=\"14.00\" fill=\"#000000\">embarked_S &lt;= 0.5</text>\n<text text-anchor=\"middle\" x=\"830.5\" y=\"-126.8\" font-family=\"Times,serif\" font-size=\"14.00\" fill=\"#000000\">gini = 0.5</text>\n<text text-anchor=\"middle\" x=\"830.5\" y=\"-111.8\" font-family=\"Times,serif\" font-size=\"14.00\" fill=\"#000000\">samples = 216</text>\n<text text-anchor=\"middle\" x=\"830.5\" y=\"-96.8\" font-family=\"Times,serif\" font-size=\"14.00\" fill=\"#000000\">value = [110, 106]</text>\n</g>\n<!-- 8&#45;&gt;12 -->\n<g id=\"edge12\" class=\"edge\">\n<title>8&#45;&gt;12</title>\n<path fill=\"none\" stroke=\"#000000\" d=\"M667.1535,-198.1683C694.6183,-185.5296 727.0709,-170.5957 755.7838,-157.3827\"/>\n<polygon fill=\"#000000\" stroke=\"#000000\" points=\"757.3425,-160.5183 764.9637,-153.1583 754.4162,-154.1592 757.3425,-160.5183\"/>\n</g>\n<!-- 10 -->\n<g id=\"node11\" class=\"node\">\n<title>10</title>\n<polygon fill=\"none\" stroke=\"#000000\" points=\"629.5,-53 519.5,-53 519.5,0 629.5,0 629.5,-53\"/>\n<text text-anchor=\"middle\" x=\"574.5\" y=\"-37.8\" font-family=\"Times,serif\" font-size=\"14.00\" fill=\"#000000\">gini = 0.067</text>\n<text text-anchor=\"middle\" x=\"574.5\" y=\"-22.8\" font-family=\"Times,serif\" font-size=\"14.00\" fill=\"#000000\">samples = 144</text>\n<text text-anchor=\"middle\" x=\"574.5\" y=\"-7.8\" font-family=\"Times,serif\" font-size=\"14.00\" fill=\"#000000\">value = [5, 139]</text>\n</g>\n<!-- 9&#45;&gt;10 -->\n<g id=\"edge10\" class=\"edge\">\n<title>9&#45;&gt;10</title>\n<path fill=\"none\" stroke=\"#000000\" d=\"M593.9231,-88.9777C591.3041,-80.5533 588.4876,-71.4934 585.8341,-62.9579\"/>\n<polygon fill=\"#000000\" stroke=\"#000000\" points=\"589.1265,-61.7586 582.8156,-53.2485 582.4421,-63.8367 589.1265,-61.7586\"/>\n</g>\n<!-- 11 -->\n<g id=\"node12\" class=\"node\">\n<title>11</title>\n<polygon fill=\"none\" stroke=\"#000000\" points=\"757.5,-53 647.5,-53 647.5,0 757.5,0 757.5,-53\"/>\n<text text-anchor=\"middle\" x=\"702.5\" y=\"-37.8\" font-family=\"Times,serif\" font-size=\"14.00\" fill=\"#000000\">gini = 0.201</text>\n<text text-anchor=\"middle\" x=\"702.5\" y=\"-22.8\" font-family=\"Times,serif\" font-size=\"14.00\" fill=\"#000000\">samples = 106</text>\n<text text-anchor=\"middle\" x=\"702.5\" y=\"-7.8\" font-family=\"Times,serif\" font-size=\"14.00\" fill=\"#000000\">value = [12, 94]</text>\n</g>\n<!-- 9&#45;&gt;11 -->\n<g id=\"edge11\" class=\"edge\">\n<title>9&#45;&gt;11</title>\n<path fill=\"none\" stroke=\"#000000\" d=\"M639.0511,-88.9777C648.4434,-79.7292 658.6136,-69.7147 668.0029,-60.4691\"/>\n<polygon fill=\"#000000\" stroke=\"#000000\" points=\"670.6661,-62.7587 675.3357,-53.2485 665.7546,-57.7709 670.6661,-62.7587\"/>\n</g>\n<!-- 13 -->\n<g id=\"node14\" class=\"node\">\n<title>13</title>\n<polygon fill=\"none\" stroke=\"#000000\" points=\"885.5,-53 775.5,-53 775.5,0 885.5,0 885.5,-53\"/>\n<text text-anchor=\"middle\" x=\"830.5\" y=\"-37.8\" font-family=\"Times,serif\" font-size=\"14.00\" fill=\"#000000\">gini = 0.465</text>\n<text text-anchor=\"middle\" x=\"830.5\" y=\"-22.8\" font-family=\"Times,serif\" font-size=\"14.00\" fill=\"#000000\">samples = 87</text>\n<text text-anchor=\"middle\" x=\"830.5\" y=\"-7.8\" font-family=\"Times,serif\" font-size=\"14.00\" fill=\"#000000\">value = [32, 55]</text>\n</g>\n<!-- 12&#45;&gt;13 -->\n<g id=\"edge13\" class=\"edge\">\n<title>12&#45;&gt;13</title>\n<path fill=\"none\" stroke=\"#000000\" d=\"M830.5,-88.9777C830.5,-80.7364 830.5,-71.887 830.5,-63.5153\"/>\n<polygon fill=\"#000000\" stroke=\"#000000\" points=\"834.0001,-63.2484 830.5,-53.2485 827.0001,-63.2485 834.0001,-63.2484\"/>\n</g>\n<!-- 14 -->\n<g id=\"node15\" class=\"node\">\n<title>14</title>\n<polygon fill=\"none\" stroke=\"#000000\" points=\"1013.5,-53 903.5,-53 903.5,0 1013.5,0 1013.5,-53\"/>\n<text text-anchor=\"middle\" x=\"958.5\" y=\"-37.8\" font-family=\"Times,serif\" font-size=\"14.00\" fill=\"#000000\">gini = 0.478</text>\n<text text-anchor=\"middle\" x=\"958.5\" y=\"-22.8\" font-family=\"Times,serif\" font-size=\"14.00\" fill=\"#000000\">samples = 129</text>\n<text text-anchor=\"middle\" x=\"958.5\" y=\"-7.8\" font-family=\"Times,serif\" font-size=\"14.00\" fill=\"#000000\">value = [78, 51]</text>\n</g>\n<!-- 12&#45;&gt;14 -->\n<g id=\"edge14\" class=\"edge\">\n<title>12&#45;&gt;14</title>\n<path fill=\"none\" stroke=\"#000000\" d=\"M875.628,-88.9777C888.3813,-79.3629 902.2327,-68.9203 914.8947,-59.3743\"/>\n<polygon fill=\"#000000\" stroke=\"#000000\" points=\"917.1421,-62.0632 923.0202,-53.2485 912.9281,-56.4737 917.1421,-62.0632\"/>\n</g>\n</g>\n</svg>\n"
          },
          "metadata": {
            "tags": []
          },
          "execution_count": 5
        }
      ]
    },
    {
      "cell_type": "code",
      "metadata": {
        "id": "TdwxhQGneVFo",
        "colab_type": "code",
        "colab": {
          "base_uri": "https://localhost:8080/",
          "height": 608
        },
        "outputId": "a7a7136d-97b1-4db6-df20-3a9b08feacf9"
      },
      "source": [
        "print(dot_data)"
      ],
      "execution_count": 6,
      "outputs": [
        {
          "output_type": "stream",
          "text": [
            "digraph Tree {\n",
            "node [shape=box] ;\n",
            "0 [label=\"sex_female <= 0.5\\ngini = 0.472\\nsamples = 1309\\nvalue = [809, 500]\"] ;\n",
            "1 [label=\"pclass_1.0 <= 0.5\\ngini = 0.309\\nsamples = 843\\nvalue = [682, 161]\"] ;\n",
            "0 -> 1 [labeldistance=2.5, labelangle=45, headlabel=\"True\"] ;\n",
            "2 [label=\"embarked_C <= 0.5\\ngini = 0.256\\nsamples = 664\\nvalue = [564, 100]\"] ;\n",
            "1 -> 2 ;\n",
            "3 [label=\"gini = 0.239\\nsamples = 577\\nvalue = [497, 80]\"] ;\n",
            "2 -> 3 ;\n",
            "4 [label=\"gini = 0.354\\nsamples = 87\\nvalue = [67, 20]\"] ;\n",
            "2 -> 4 ;\n",
            "5 [label=\"embarked_C <= 0.5\\ngini = 0.449\\nsamples = 179\\nvalue = [118, 61]\"] ;\n",
            "1 -> 5 ;\n",
            "6 [label=\"gini = 0.422\\nsamples = 109\\nvalue = [76, 33]\"] ;\n",
            "5 -> 6 ;\n",
            "7 [label=\"gini = 0.48\\nsamples = 70\\nvalue = [42, 28]\"] ;\n",
            "5 -> 7 ;\n",
            "8 [label=\"pclass_3.0 <= 0.5\\ngini = 0.397\\nsamples = 466\\nvalue = [127, 339]\"] ;\n",
            "0 -> 8 [labeldistance=2.5, labelangle=-45, headlabel=\"False\"] ;\n",
            "9 [label=\"pclass_2.0 <= 0.5\\ngini = 0.127\\nsamples = 250\\nvalue = [17, 233]\"] ;\n",
            "8 -> 9 ;\n",
            "10 [label=\"gini = 0.067\\nsamples = 144\\nvalue = [5, 139]\"] ;\n",
            "9 -> 10 ;\n",
            "11 [label=\"gini = 0.201\\nsamples = 106\\nvalue = [12, 94]\"] ;\n",
            "9 -> 11 ;\n",
            "12 [label=\"embarked_S <= 0.5\\ngini = 0.5\\nsamples = 216\\nvalue = [110, 106]\"] ;\n",
            "8 -> 12 ;\n",
            "13 [label=\"gini = 0.465\\nsamples = 87\\nvalue = [32, 55]\"] ;\n",
            "12 -> 13 ;\n",
            "14 [label=\"gini = 0.478\\nsamples = 129\\nvalue = [78, 51]\"] ;\n",
            "12 -> 14 ;\n",
            "}\n"
          ],
          "name": "stdout"
        }
      ]
    },
    {
      "cell_type": "code",
      "metadata": {
        "id": "DxHzDAxZBr-u",
        "colab_type": "code",
        "colab": {
          "base_uri": "https://localhost:8080/",
          "height": 72
        },
        "outputId": "7784e30c-45bc-4f7c-e9c7-c7e1cf53537e"
      },
      "source": [
        "list(zip(X.columns, ohe.categories_))"
      ],
      "execution_count": 7,
      "outputs": [
        {
          "output_type": "execute_result",
          "data": {
            "text/plain": [
              "[('pclass', array([1., 2., 3.])),\n",
              " ('sex', array(['female', 'male'], dtype=object)),\n",
              " ('embarked', array(['C', 'Q', 'S'], dtype=object))]"
            ]
          },
          "metadata": {
            "tags": []
          },
          "execution_count": 7
        }
      ]
    },
    {
      "cell_type": "markdown",
      "metadata": {
        "id": "Yc7RtKJnDTc2",
        "colab_type": "text"
      },
      "source": [
        "In this very simple situation where every feature is a dummy variable, every split is of the form `{feature}_{level} <= 0.5` with `True` going left.  That's equivalent to the original `feature` _not_ taking value `level`, so we'll write `feature=level`, and swap the branches to left being `False` and right `True`."
      ]
    },
    {
      "cell_type": "code",
      "metadata": {
        "id": "-dxhNwtsekGb",
        "colab_type": "code",
        "colab": {}
      },
      "source": [
        "import re\n",
        "new_dot = dot_data\n",
        "for i, col in enumerate(X.columns):\n",
        "  for cat in ohe.categories_[i]:\n",
        "    new_dot = re.sub(f\"{col}_{cat} <= 0.5\", f\"{col}={cat}\", new_dot)\n",
        "\n",
        "new_dot = re.sub('labelangle=45, headlabel=\"True\"', 'labelangle=45, headlabel=\"False\"', new_dot)\n",
        "new_dot = re.sub('labelangle=-45, headlabel=\"False\"', 'labelangle=-45, headlabel=\"True\"', new_dot)\n"
      ],
      "execution_count": 8,
      "outputs": []
    },
    {
      "cell_type": "code",
      "metadata": {
        "id": "bZrgqJMvy5b0",
        "colab_type": "code",
        "colab": {
          "base_uri": "https://localhost:8080/",
          "height": 519
        },
        "outputId": "a46192d6-ce56-4019-ceba-bf7c33fbe01c"
      },
      "source": [
        "graph = graphviz.Source(new_dot)\n",
        "graph.render(\"tree_plot\")\n",
        "graph"
      ],
      "execution_count": 9,
      "outputs": [
        {
          "output_type": "execute_result",
          "data": {
            "text/plain": [
              "<graphviz.files.Source at 0x7faccd0af3c8>"
            ],
            "image/svg+xml": "<?xml version=\"1.0\" encoding=\"UTF-8\" standalone=\"no\"?>\n<!DOCTYPE svg PUBLIC \"-//W3C//DTD SVG 1.1//EN\"\n \"http://www.w3.org/Graphics/SVG/1.1/DTD/svg11.dtd\">\n<!-- Generated by graphviz version 2.40.1 (20161225.0304)\n -->\n<!-- Title: Tree Pages: 1 -->\n<svg width=\"1022pt\" height=\"373pt\"\n viewBox=\"0.00 0.00 1021.50 373.00\" xmlns=\"http://www.w3.org/2000/svg\" xmlns:xlink=\"http://www.w3.org/1999/xlink\">\n<g id=\"graph0\" class=\"graph\" transform=\"scale(1 1) rotate(0) translate(4 369)\">\n<title>Tree</title>\n<polygon fill=\"#ffffff\" stroke=\"transparent\" points=\"-4,4 -4,-369 1017.5,-369 1017.5,4 -4,4\"/>\n<!-- 0 -->\n<g id=\"node1\" class=\"node\">\n<title>0</title>\n<polygon fill=\"none\" stroke=\"#000000\" points=\"565,-365 440,-365 440,-297 565,-297 565,-365\"/>\n<text text-anchor=\"middle\" x=\"502.5\" y=\"-349.8\" font-family=\"Times,serif\" font-size=\"14.00\" fill=\"#000000\">sex=female</text>\n<text text-anchor=\"middle\" x=\"502.5\" y=\"-334.8\" font-family=\"Times,serif\" font-size=\"14.00\" fill=\"#000000\">gini = 0.472</text>\n<text text-anchor=\"middle\" x=\"502.5\" y=\"-319.8\" font-family=\"Times,serif\" font-size=\"14.00\" fill=\"#000000\">samples = 1309</text>\n<text text-anchor=\"middle\" x=\"502.5\" y=\"-304.8\" font-family=\"Times,serif\" font-size=\"14.00\" fill=\"#000000\">value = [809, 500]</text>\n</g>\n<!-- 1 -->\n<g id=\"node2\" class=\"node\">\n<title>1</title>\n<polygon fill=\"none\" stroke=\"#000000\" points=\"443,-261 318,-261 318,-193 443,-193 443,-261\"/>\n<text text-anchor=\"middle\" x=\"380.5\" y=\"-245.8\" font-family=\"Times,serif\" font-size=\"14.00\" fill=\"#000000\">pclass=1.0</text>\n<text text-anchor=\"middle\" x=\"380.5\" y=\"-230.8\" font-family=\"Times,serif\" font-size=\"14.00\" fill=\"#000000\">gini = 0.309</text>\n<text text-anchor=\"middle\" x=\"380.5\" y=\"-215.8\" font-family=\"Times,serif\" font-size=\"14.00\" fill=\"#000000\">samples = 843</text>\n<text text-anchor=\"middle\" x=\"380.5\" y=\"-200.8\" font-family=\"Times,serif\" font-size=\"14.00\" fill=\"#000000\">value = [682, 161]</text>\n</g>\n<!-- 0&#45;&gt;1 -->\n<g id=\"edge1\" class=\"edge\">\n<title>0&#45;&gt;1</title>\n<path fill=\"none\" stroke=\"#000000\" d=\"M462.5526,-296.9465C451.5988,-287.6088 439.6127,-277.3911 428.268,-267.7203\"/>\n<polygon fill=\"#000000\" stroke=\"#000000\" points=\"430.4179,-264.9538 420.5371,-261.13 425.8767,-270.2809 430.4179,-264.9538\"/>\n<text text-anchor=\"middle\" x=\"422.522\" y=\"-282.3511\" font-family=\"Times,serif\" font-size=\"14.00\" fill=\"#000000\">False</text>\n</g>\n<!-- 8 -->\n<g id=\"node9\" class=\"node\">\n<title>8</title>\n<polygon fill=\"none\" stroke=\"#000000\" points=\"695,-261 570,-261 570,-193 695,-193 695,-261\"/>\n<text text-anchor=\"middle\" x=\"632.5\" y=\"-245.8\" font-family=\"Times,serif\" font-size=\"14.00\" fill=\"#000000\">pclass=3.0</text>\n<text text-anchor=\"middle\" x=\"632.5\" y=\"-230.8\" font-family=\"Times,serif\" font-size=\"14.00\" fill=\"#000000\">gini = 0.397</text>\n<text text-anchor=\"middle\" x=\"632.5\" y=\"-215.8\" font-family=\"Times,serif\" font-size=\"14.00\" fill=\"#000000\">samples = 466</text>\n<text text-anchor=\"middle\" x=\"632.5\" y=\"-200.8\" font-family=\"Times,serif\" font-size=\"14.00\" fill=\"#000000\">value = [127, 339]</text>\n</g>\n<!-- 0&#45;&gt;8 -->\n<g id=\"edge8\" class=\"edge\">\n<title>0&#45;&gt;8</title>\n<path fill=\"none\" stroke=\"#000000\" d=\"M545.0669,-296.9465C556.8512,-287.519 569.7568,-277.1946 581.9481,-267.4415\"/>\n<polygon fill=\"#000000\" stroke=\"#000000\" points=\"584.2152,-270.11 589.8375,-261.13 579.8423,-264.6439 584.2152,-270.11\"/>\n<text text-anchor=\"middle\" x=\"587.0767\" y=\"-282.2771\" font-family=\"Times,serif\" font-size=\"14.00\" fill=\"#000000\">True</text>\n</g>\n<!-- 2 -->\n<g id=\"node3\" class=\"node\">\n<title>2</title>\n<polygon fill=\"none\" stroke=\"#000000\" points=\"253,-157 128,-157 128,-89 253,-89 253,-157\"/>\n<text text-anchor=\"middle\" x=\"190.5\" y=\"-141.8\" font-family=\"Times,serif\" font-size=\"14.00\" fill=\"#000000\">embarked=C</text>\n<text text-anchor=\"middle\" x=\"190.5\" y=\"-126.8\" font-family=\"Times,serif\" font-size=\"14.00\" fill=\"#000000\">gini = 0.256</text>\n<text text-anchor=\"middle\" x=\"190.5\" y=\"-111.8\" font-family=\"Times,serif\" font-size=\"14.00\" fill=\"#000000\">samples = 664</text>\n<text text-anchor=\"middle\" x=\"190.5\" y=\"-96.8\" font-family=\"Times,serif\" font-size=\"14.00\" fill=\"#000000\">value = [564, 100]</text>\n</g>\n<!-- 1&#45;&gt;2 -->\n<g id=\"edge2\" class=\"edge\">\n<title>1&#45;&gt;2</title>\n<path fill=\"none\" stroke=\"#000000\" d=\"M318.2869,-192.9465C300.2435,-183.0701 280.4015,-172.2093 261.8454,-162.0522\"/>\n<polygon fill=\"#000000\" stroke=\"#000000\" points=\"263.3053,-158.8613 252.8529,-157.13 259.9443,-165.0017 263.3053,-158.8613\"/>\n</g>\n<!-- 5 -->\n<g id=\"node6\" class=\"node\">\n<title>5</title>\n<polygon fill=\"none\" stroke=\"#000000\" points=\"438.5,-157 322.5,-157 322.5,-89 438.5,-89 438.5,-157\"/>\n<text text-anchor=\"middle\" x=\"380.5\" y=\"-141.8\" font-family=\"Times,serif\" font-size=\"14.00\" fill=\"#000000\">embarked=C</text>\n<text text-anchor=\"middle\" x=\"380.5\" y=\"-126.8\" font-family=\"Times,serif\" font-size=\"14.00\" fill=\"#000000\">gini = 0.449</text>\n<text text-anchor=\"middle\" x=\"380.5\" y=\"-111.8\" font-family=\"Times,serif\" font-size=\"14.00\" fill=\"#000000\">samples = 179</text>\n<text text-anchor=\"middle\" x=\"380.5\" y=\"-96.8\" font-family=\"Times,serif\" font-size=\"14.00\" fill=\"#000000\">value = [118, 61]</text>\n</g>\n<!-- 1&#45;&gt;5 -->\n<g id=\"edge5\" class=\"edge\">\n<title>1&#45;&gt;5</title>\n<path fill=\"none\" stroke=\"#000000\" d=\"M380.5,-192.9465C380.5,-184.776 380.5,-175.9318 380.5,-167.3697\"/>\n<polygon fill=\"#000000\" stroke=\"#000000\" points=\"384.0001,-167.13 380.5,-157.13 377.0001,-167.13 384.0001,-167.13\"/>\n</g>\n<!-- 3 -->\n<g id=\"node4\" class=\"node\">\n<title>3</title>\n<polygon fill=\"none\" stroke=\"#000000\" points=\"117,-53 0,-53 0,0 117,0 117,-53\"/>\n<text text-anchor=\"middle\" x=\"58.5\" y=\"-37.8\" font-family=\"Times,serif\" font-size=\"14.00\" fill=\"#000000\">gini = 0.239</text>\n<text text-anchor=\"middle\" x=\"58.5\" y=\"-22.8\" font-family=\"Times,serif\" font-size=\"14.00\" fill=\"#000000\">samples = 577</text>\n<text text-anchor=\"middle\" x=\"58.5\" y=\"-7.8\" font-family=\"Times,serif\" font-size=\"14.00\" fill=\"#000000\">value = [497, 80]</text>\n</g>\n<!-- 2&#45;&gt;3 -->\n<g id=\"edge3\" class=\"edge\">\n<title>2&#45;&gt;3</title>\n<path fill=\"none\" stroke=\"#000000\" d=\"M143.9617,-88.9777C130.8099,-79.3629 116.5257,-68.9203 103.468,-59.3743\"/>\n<polygon fill=\"#000000\" stroke=\"#000000\" points=\"105.227,-56.3247 95.0886,-53.2485 101.0958,-61.9757 105.227,-56.3247\"/>\n</g>\n<!-- 4 -->\n<g id=\"node5\" class=\"node\">\n<title>4</title>\n<polygon fill=\"none\" stroke=\"#000000\" points=\"245.5,-53 135.5,-53 135.5,0 245.5,0 245.5,-53\"/>\n<text text-anchor=\"middle\" x=\"190.5\" y=\"-37.8\" font-family=\"Times,serif\" font-size=\"14.00\" fill=\"#000000\">gini = 0.354</text>\n<text text-anchor=\"middle\" x=\"190.5\" y=\"-22.8\" font-family=\"Times,serif\" font-size=\"14.00\" fill=\"#000000\">samples = 87</text>\n<text text-anchor=\"middle\" x=\"190.5\" y=\"-7.8\" font-family=\"Times,serif\" font-size=\"14.00\" fill=\"#000000\">value = [67, 20]</text>\n</g>\n<!-- 2&#45;&gt;4 -->\n<g id=\"edge4\" class=\"edge\">\n<title>2&#45;&gt;4</title>\n<path fill=\"none\" stroke=\"#000000\" d=\"M190.5,-88.9777C190.5,-80.7364 190.5,-71.887 190.5,-63.5153\"/>\n<polygon fill=\"#000000\" stroke=\"#000000\" points=\"194.0001,-63.2484 190.5,-53.2485 187.0001,-63.2485 194.0001,-63.2484\"/>\n</g>\n<!-- 6 -->\n<g id=\"node7\" class=\"node\">\n<title>6</title>\n<polygon fill=\"none\" stroke=\"#000000\" points=\"373.5,-53 263.5,-53 263.5,0 373.5,0 373.5,-53\"/>\n<text text-anchor=\"middle\" x=\"318.5\" y=\"-37.8\" font-family=\"Times,serif\" font-size=\"14.00\" fill=\"#000000\">gini = 0.422</text>\n<text text-anchor=\"middle\" x=\"318.5\" y=\"-22.8\" font-family=\"Times,serif\" font-size=\"14.00\" fill=\"#000000\">samples = 109</text>\n<text text-anchor=\"middle\" x=\"318.5\" y=\"-7.8\" font-family=\"Times,serif\" font-size=\"14.00\" fill=\"#000000\">value = [76, 33]</text>\n</g>\n<!-- 5&#45;&gt;6 -->\n<g id=\"edge6\" class=\"edge\">\n<title>5&#45;&gt;6</title>\n<path fill=\"none\" stroke=\"#000000\" d=\"M358.6411,-88.9777C352.9932,-80.187 346.9007,-70.7044 341.2104,-61.8477\"/>\n<polygon fill=\"#000000\" stroke=\"#000000\" points=\"344.0356,-59.7698 335.6856,-53.2485 338.1463,-63.5536 344.0356,-59.7698\"/>\n</g>\n<!-- 7 -->\n<g id=\"node8\" class=\"node\">\n<title>7</title>\n<polygon fill=\"none\" stroke=\"#000000\" points=\"501.5,-53 391.5,-53 391.5,0 501.5,0 501.5,-53\"/>\n<text text-anchor=\"middle\" x=\"446.5\" y=\"-37.8\" font-family=\"Times,serif\" font-size=\"14.00\" fill=\"#000000\">gini = 0.48</text>\n<text text-anchor=\"middle\" x=\"446.5\" y=\"-22.8\" font-family=\"Times,serif\" font-size=\"14.00\" fill=\"#000000\">samples = 70</text>\n<text text-anchor=\"middle\" x=\"446.5\" y=\"-7.8\" font-family=\"Times,serif\" font-size=\"14.00\" fill=\"#000000\">value = [42, 28]</text>\n</g>\n<!-- 5&#45;&gt;7 -->\n<g id=\"edge7\" class=\"edge\">\n<title>5&#45;&gt;7</title>\n<path fill=\"none\" stroke=\"#000000\" d=\"M403.7691,-88.9777C409.844,-80.0954 416.4021,-70.5067 422.5135,-61.5711\"/>\n<polygon fill=\"#000000\" stroke=\"#000000\" points=\"425.4493,-63.4785 428.2057,-53.2485 419.6714,-59.5267 425.4493,-63.4785\"/>\n</g>\n<!-- 9 -->\n<g id=\"node10\" class=\"node\">\n<title>9</title>\n<polygon fill=\"none\" stroke=\"#000000\" points=\"691,-157 574,-157 574,-89 691,-89 691,-157\"/>\n<text text-anchor=\"middle\" x=\"632.5\" y=\"-141.8\" font-family=\"Times,serif\" font-size=\"14.00\" fill=\"#000000\">pclass=2.0</text>\n<text text-anchor=\"middle\" x=\"632.5\" y=\"-126.8\" font-family=\"Times,serif\" font-size=\"14.00\" fill=\"#000000\">gini = 0.127</text>\n<text text-anchor=\"middle\" x=\"632.5\" y=\"-111.8\" font-family=\"Times,serif\" font-size=\"14.00\" fill=\"#000000\">samples = 250</text>\n<text text-anchor=\"middle\" x=\"632.5\" y=\"-96.8\" font-family=\"Times,serif\" font-size=\"14.00\" fill=\"#000000\">value = [17, 233]</text>\n</g>\n<!-- 8&#45;&gt;9 -->\n<g id=\"edge9\" class=\"edge\">\n<title>8&#45;&gt;9</title>\n<path fill=\"none\" stroke=\"#000000\" d=\"M632.5,-192.9465C632.5,-184.776 632.5,-175.9318 632.5,-167.3697\"/>\n<polygon fill=\"#000000\" stroke=\"#000000\" points=\"636.0001,-167.13 632.5,-157.13 629.0001,-167.13 636.0001,-167.13\"/>\n</g>\n<!-- 12 -->\n<g id=\"node13\" class=\"node\">\n<title>12</title>\n<polygon fill=\"none\" stroke=\"#000000\" points=\"892.5,-157 768.5,-157 768.5,-89 892.5,-89 892.5,-157\"/>\n<text text-anchor=\"middle\" x=\"830.5\" y=\"-141.8\" font-family=\"Times,serif\" font-size=\"14.00\" fill=\"#000000\">embarked=S</text>\n<text text-anchor=\"middle\" x=\"830.5\" y=\"-126.8\" font-family=\"Times,serif\" font-size=\"14.00\" fill=\"#000000\">gini = 0.5</text>\n<text text-anchor=\"middle\" x=\"830.5\" y=\"-111.8\" font-family=\"Times,serif\" font-size=\"14.00\" fill=\"#000000\">samples = 216</text>\n<text text-anchor=\"middle\" x=\"830.5\" y=\"-96.8\" font-family=\"Times,serif\" font-size=\"14.00\" fill=\"#000000\">value = [110, 106]</text>\n</g>\n<!-- 8&#45;&gt;12 -->\n<g id=\"edge12\" class=\"edge\">\n<title>8&#45;&gt;12</title>\n<path fill=\"none\" stroke=\"#000000\" d=\"M695.1484,-194.0938C715.5701,-183.3672 738.3883,-171.3819 759.3846,-160.3536\"/>\n<polygon fill=\"#000000\" stroke=\"#000000\" points=\"761.0336,-163.4409 768.2591,-155.6922 757.7785,-157.2438 761.0336,-163.4409\"/>\n</g>\n<!-- 10 -->\n<g id=\"node11\" class=\"node\">\n<title>10</title>\n<polygon fill=\"none\" stroke=\"#000000\" points=\"629.5,-53 519.5,-53 519.5,0 629.5,0 629.5,-53\"/>\n<text text-anchor=\"middle\" x=\"574.5\" y=\"-37.8\" font-family=\"Times,serif\" font-size=\"14.00\" fill=\"#000000\">gini = 0.067</text>\n<text text-anchor=\"middle\" x=\"574.5\" y=\"-22.8\" font-family=\"Times,serif\" font-size=\"14.00\" fill=\"#000000\">samples = 144</text>\n<text text-anchor=\"middle\" x=\"574.5\" y=\"-7.8\" font-family=\"Times,serif\" font-size=\"14.00\" fill=\"#000000\">value = [5, 139]</text>\n</g>\n<!-- 9&#45;&gt;10 -->\n<g id=\"edge10\" class=\"edge\">\n<title>9&#45;&gt;10</title>\n<path fill=\"none\" stroke=\"#000000\" d=\"M612.0514,-88.9777C606.7678,-80.187 601.0684,-70.7044 595.7452,-61.8477\"/>\n<polygon fill=\"#000000\" stroke=\"#000000\" points=\"598.7282,-60.0165 590.5768,-53.2485 592.7285,-63.6225 598.7282,-60.0165\"/>\n</g>\n<!-- 11 -->\n<g id=\"node12\" class=\"node\">\n<title>11</title>\n<polygon fill=\"none\" stroke=\"#000000\" points=\"757.5,-53 647.5,-53 647.5,0 757.5,0 757.5,-53\"/>\n<text text-anchor=\"middle\" x=\"702.5\" y=\"-37.8\" font-family=\"Times,serif\" font-size=\"14.00\" fill=\"#000000\">gini = 0.201</text>\n<text text-anchor=\"middle\" x=\"702.5\" y=\"-22.8\" font-family=\"Times,serif\" font-size=\"14.00\" fill=\"#000000\">samples = 106</text>\n<text text-anchor=\"middle\" x=\"702.5\" y=\"-7.8\" font-family=\"Times,serif\" font-size=\"14.00\" fill=\"#000000\">value = [12, 94]</text>\n</g>\n<!-- 9&#45;&gt;11 -->\n<g id=\"edge11\" class=\"edge\">\n<title>9&#45;&gt;11</title>\n<path fill=\"none\" stroke=\"#000000\" d=\"M657.1794,-88.9777C663.6225,-80.0954 670.578,-70.5067 677.0598,-61.5711\"/>\n<polygon fill=\"#000000\" stroke=\"#000000\" points=\"680.0583,-63.3982 683.097,-53.2485 674.3921,-59.288 680.0583,-63.3982\"/>\n</g>\n<!-- 13 -->\n<g id=\"node14\" class=\"node\">\n<title>13</title>\n<polygon fill=\"none\" stroke=\"#000000\" points=\"885.5,-53 775.5,-53 775.5,0 885.5,0 885.5,-53\"/>\n<text text-anchor=\"middle\" x=\"830.5\" y=\"-37.8\" font-family=\"Times,serif\" font-size=\"14.00\" fill=\"#000000\">gini = 0.465</text>\n<text text-anchor=\"middle\" x=\"830.5\" y=\"-22.8\" font-family=\"Times,serif\" font-size=\"14.00\" fill=\"#000000\">samples = 87</text>\n<text text-anchor=\"middle\" x=\"830.5\" y=\"-7.8\" font-family=\"Times,serif\" font-size=\"14.00\" fill=\"#000000\">value = [32, 55]</text>\n</g>\n<!-- 12&#45;&gt;13 -->\n<g id=\"edge13\" class=\"edge\">\n<title>12&#45;&gt;13</title>\n<path fill=\"none\" stroke=\"#000000\" d=\"M830.5,-88.9777C830.5,-80.7364 830.5,-71.887 830.5,-63.5153\"/>\n<polygon fill=\"#000000\" stroke=\"#000000\" points=\"834.0001,-63.2484 830.5,-53.2485 827.0001,-63.2485 834.0001,-63.2484\"/>\n</g>\n<!-- 14 -->\n<g id=\"node15\" class=\"node\">\n<title>14</title>\n<polygon fill=\"none\" stroke=\"#000000\" points=\"1013.5,-53 903.5,-53 903.5,0 1013.5,0 1013.5,-53\"/>\n<text text-anchor=\"middle\" x=\"958.5\" y=\"-37.8\" font-family=\"Times,serif\" font-size=\"14.00\" fill=\"#000000\">gini = 0.478</text>\n<text text-anchor=\"middle\" x=\"958.5\" y=\"-22.8\" font-family=\"Times,serif\" font-size=\"14.00\" fill=\"#000000\">samples = 129</text>\n<text text-anchor=\"middle\" x=\"958.5\" y=\"-7.8\" font-family=\"Times,serif\" font-size=\"14.00\" fill=\"#000000\">value = [78, 51]</text>\n</g>\n<!-- 12&#45;&gt;14 -->\n<g id=\"edge14\" class=\"edge\">\n<title>12&#45;&gt;14</title>\n<path fill=\"none\" stroke=\"#000000\" d=\"M875.628,-88.9777C888.3813,-79.3629 902.2327,-68.9203 914.8947,-59.3743\"/>\n<polygon fill=\"#000000\" stroke=\"#000000\" points=\"917.1421,-62.0632 923.0202,-53.2485 912.9281,-56.4737 917.1421,-62.0632\"/>\n</g>\n</g>\n</svg>\n"
          },
          "metadata": {
            "tags": []
          },
          "execution_count": 9
        }
      ]
    },
    {
      "cell_type": "markdown",
      "metadata": {
        "id": "whDM44xHEOqO",
        "colab_type": "text"
      },
      "source": [
        "# A more general case"
      ]
    },
    {
      "cell_type": "markdown",
      "metadata": {
        "id": "LITzUiZIEyk2",
        "colab_type": "text"
      },
      "source": [
        "We can still do this with a `ColumnTransformer` only encoding some variables.  The `get_feature_names` method still hasn't made its way to `Pipeline`s or a number of transformers, so we can't get too carried away without going way off topic.  And I don't want to try to hack up the branch labels too much, so we'll use the somewhat less pleasing split phrase `feature!=level` (so that `True` can still go left)."
      ]
    },
    {
      "cell_type": "code",
      "metadata": {
        "id": "D_txOOH_Ft1y",
        "colab_type": "code",
        "colab": {
          "base_uri": "https://localhost:8080/",
          "height": 128
        },
        "outputId": "715b65bb-a58b-4ced-802a-0f49ae1536e9"
      },
      "source": [
        "from sklearn.compose import ColumnTransformer\n",
        "\n",
        "cat_cols = ['pclass', 'sex', 'embarked']\n",
        "num_cols = ['age', 'sibsp', 'parch', 'fare', 'body']\n",
        "X = X_all[[col for col in cat_cols + num_cols]]\n",
        "\n",
        "# pclass is encoded as floats, but we want the column_selector to treat them as categories\n",
        "X.loc[:, 'pclass'] = X['pclass'].astype(str)\n",
        "X.loc[:, 'embarked'] = X['embarked'].fillna('S')\n",
        "\n",
        "X.loc[:, num_cols] = X[num_cols].fillna(X[num_cols].median())\n",
        "\n",
        "preproc = ColumnTransformer(\n",
        "    transformers=[\n",
        "        ('cat', OneHotEncoder(), cat_cols),\n",
        "    ],\n",
        "    remainder='passthrough',\n",
        ")\n",
        "\n",
        "preproc.fit(X);"
      ],
      "execution_count": 10,
      "outputs": [
        {
          "output_type": "stream",
          "text": [
            "/usr/local/lib/python3.6/dist-packages/pandas/core/indexing.py:966: SettingWithCopyWarning: \n",
            "A value is trying to be set on a copy of a slice from a DataFrame.\n",
            "Try using .loc[row_indexer,col_indexer] = value instead\n",
            "\n",
            "See the caveats in the documentation: https://pandas.pydata.org/pandas-docs/stable/user_guide/indexing.html#returning-a-view-versus-a-copy\n",
            "  self.obj[item] = s\n"
          ],
          "name": "stderr"
        }
      ]
    },
    {
      "cell_type": "code",
      "metadata": {
        "id": "tobznHAfOdsP",
        "colab_type": "code",
        "colab": {}
      },
      "source": [
        "clf = DecisionTreeClassifier(max_depth=3)\n",
        "clf.fit(preproc.fit_transform(X), y);"
      ],
      "execution_count": 11,
      "outputs": []
    },
    {
      "cell_type": "code",
      "metadata": {
        "id": "6vItHQJgPElP",
        "colab_type": "code",
        "colab": {
          "base_uri": "https://localhost:8080/",
          "height": 72
        },
        "outputId": "b95d314d-562d-4920-ea89-bce65515d9cf"
      },
      "source": [
        "preproc.named_transformers_['cat'].categories_"
      ],
      "execution_count": 12,
      "outputs": [
        {
          "output_type": "execute_result",
          "data": {
            "text/plain": [
              "[array(['1.0', '2.0', '3.0'], dtype=object),\n",
              " array(['female', 'male'], dtype=object),\n",
              " array(['C', 'Q', 'S'], dtype=object)]"
            ]
          },
          "metadata": {
            "tags": []
          },
          "execution_count": 12
        }
      ]
    },
    {
      "cell_type": "code",
      "metadata": {
        "id": "8rcjy3WYQDIw",
        "colab_type": "code",
        "colab": {}
      },
      "source": [
        "# Ugh, these almost-working `get_feature_names` are getting hairy.\n",
        "# OHE needs the input names, but columntransformer doesn't let you pass those through.\n",
        "# I guess we're going to do this more manually than I'd like."
      ],
      "execution_count": 13,
      "outputs": []
    },
    {
      "cell_type": "code",
      "metadata": {
        "id": "iP8ORu6M6dZG",
        "colab_type": "code",
        "colab": {
          "base_uri": "https://localhost:8080/",
          "height": 519
        },
        "outputId": "104742b9-cfb8-49cc-dd52-6d0a7729848a"
      },
      "source": [
        "dot_data = export_graphviz(\n",
        "    clf,\n",
        "    out_file=None,\n",
        "    feature_names=list(preproc.named_transformers_['cat'].get_feature_names(cat_cols)) + num_cols\n",
        ")\n",
        "\n",
        "new_dot = dot_data\n",
        "for i, col in enumerate(cat_cols):\n",
        "    for cat in preproc.named_transformers_['cat'].categories_[i]:\n",
        "        new_dot = re.sub(f\"{col}_{cat} <= 0.5\", f\"{col}!={cat}\", new_dot)\n",
        "\n",
        "graph = graphviz.Source(new_dot)\n",
        "graph.render(\"tree_plot\")\n",
        "graph\n"
      ],
      "execution_count": 14,
      "outputs": [
        {
          "output_type": "execute_result",
          "data": {
            "text/plain": [
              "<graphviz.files.Source at 0x7faccd053550>"
            ],
            "image/svg+xml": "<?xml version=\"1.0\" encoding=\"UTF-8\" standalone=\"no\"?>\n<!DOCTYPE svg PUBLIC \"-//W3C//DTD SVG 1.1//EN\"\n \"http://www.w3.org/Graphics/SVG/1.1/DTD/svg11.dtd\">\n<!-- Generated by graphviz version 2.40.1 (20161225.0304)\n -->\n<!-- Title: Tree Pages: 1 -->\n<svg width=\"1004pt\" height=\"373pt\"\n viewBox=\"0.00 0.00 1004.00 373.00\" xmlns=\"http://www.w3.org/2000/svg\" xmlns:xlink=\"http://www.w3.org/1999/xlink\">\n<g id=\"graph0\" class=\"graph\" transform=\"scale(1 1) rotate(0) translate(4 369)\">\n<title>Tree</title>\n<polygon fill=\"#ffffff\" stroke=\"transparent\" points=\"-4,4 -4,-369 1000,-369 1000,4 -4,4\"/>\n<!-- 0 -->\n<g id=\"node1\" class=\"node\">\n<title>0</title>\n<polygon fill=\"none\" stroke=\"#000000\" points=\"548.5,-365 423.5,-365 423.5,-297 548.5,-297 548.5,-365\"/>\n<text text-anchor=\"middle\" x=\"486\" y=\"-349.8\" font-family=\"Times,serif\" font-size=\"14.00\" fill=\"#000000\">sex!=female</text>\n<text text-anchor=\"middle\" x=\"486\" y=\"-334.8\" font-family=\"Times,serif\" font-size=\"14.00\" fill=\"#000000\">gini = 0.472</text>\n<text text-anchor=\"middle\" x=\"486\" y=\"-319.8\" font-family=\"Times,serif\" font-size=\"14.00\" fill=\"#000000\">samples = 1309</text>\n<text text-anchor=\"middle\" x=\"486\" y=\"-304.8\" font-family=\"Times,serif\" font-size=\"14.00\" fill=\"#000000\">value = [809, 500]</text>\n</g>\n<!-- 1 -->\n<g id=\"node2\" class=\"node\">\n<title>1</title>\n<polygon fill=\"none\" stroke=\"#000000\" points=\"423.5,-261 298.5,-261 298.5,-193 423.5,-193 423.5,-261\"/>\n<text text-anchor=\"middle\" x=\"361\" y=\"-245.8\" font-family=\"Times,serif\" font-size=\"14.00\" fill=\"#000000\">age &lt;= 9.5</text>\n<text text-anchor=\"middle\" x=\"361\" y=\"-230.8\" font-family=\"Times,serif\" font-size=\"14.00\" fill=\"#000000\">gini = 0.309</text>\n<text text-anchor=\"middle\" x=\"361\" y=\"-215.8\" font-family=\"Times,serif\" font-size=\"14.00\" fill=\"#000000\">samples = 843</text>\n<text text-anchor=\"middle\" x=\"361\" y=\"-200.8\" font-family=\"Times,serif\" font-size=\"14.00\" fill=\"#000000\">value = [682, 161]</text>\n</g>\n<!-- 0&#45;&gt;1 -->\n<g id=\"edge1\" class=\"edge\">\n<title>0&#45;&gt;1</title>\n<path fill=\"none\" stroke=\"#000000\" d=\"M445.0703,-296.9465C433.8472,-287.6088 421.5663,-277.3911 409.9427,-267.7203\"/>\n<polygon fill=\"#000000\" stroke=\"#000000\" points=\"411.9474,-264.8353 402.0216,-261.13 407.4704,-270.2164 411.9474,-264.8353\"/>\n<text text-anchor=\"middle\" x=\"404.3046\" y=\"-282.3255\" font-family=\"Times,serif\" font-size=\"14.00\" fill=\"#000000\">True</text>\n</g>\n<!-- 8 -->\n<g id=\"node9\" class=\"node\">\n<title>8</title>\n<polygon fill=\"none\" stroke=\"#000000\" points=\"680.5,-261 555.5,-261 555.5,-193 680.5,-193 680.5,-261\"/>\n<text text-anchor=\"middle\" x=\"618\" y=\"-245.8\" font-family=\"Times,serif\" font-size=\"14.00\" fill=\"#000000\">pclass!=3.0</text>\n<text text-anchor=\"middle\" x=\"618\" y=\"-230.8\" font-family=\"Times,serif\" font-size=\"14.00\" fill=\"#000000\">gini = 0.397</text>\n<text text-anchor=\"middle\" x=\"618\" y=\"-215.8\" font-family=\"Times,serif\" font-size=\"14.00\" fill=\"#000000\">samples = 466</text>\n<text text-anchor=\"middle\" x=\"618\" y=\"-200.8\" font-family=\"Times,serif\" font-size=\"14.00\" fill=\"#000000\">value = [127, 339]</text>\n</g>\n<!-- 0&#45;&gt;8 -->\n<g id=\"edge8\" class=\"edge\">\n<title>0&#45;&gt;8</title>\n<path fill=\"none\" stroke=\"#000000\" d=\"M529.2217,-296.9465C541.1874,-287.519 554.2915,-277.1946 566.6704,-267.4415\"/>\n<polygon fill=\"#000000\" stroke=\"#000000\" points=\"568.9923,-270.068 574.6812,-261.13 564.6602,-264.5695 568.9923,-270.068\"/>\n<text text-anchor=\"middle\" x=\"571.7357\" y=\"-282.2559\" font-family=\"Times,serif\" font-size=\"14.00\" fill=\"#000000\">False</text>\n</g>\n<!-- 2 -->\n<g id=\"node3\" class=\"node\">\n<title>2</title>\n<polygon fill=\"none\" stroke=\"#000000\" points=\"226,-157 116,-157 116,-89 226,-89 226,-157\"/>\n<text text-anchor=\"middle\" x=\"171\" y=\"-141.8\" font-family=\"Times,serif\" font-size=\"14.00\" fill=\"#000000\">sibsp &lt;= 2.5</text>\n<text text-anchor=\"middle\" x=\"171\" y=\"-126.8\" font-family=\"Times,serif\" font-size=\"14.00\" fill=\"#000000\">gini = 0.487</text>\n<text text-anchor=\"middle\" x=\"171\" y=\"-111.8\" font-family=\"Times,serif\" font-size=\"14.00\" fill=\"#000000\">samples = 43</text>\n<text text-anchor=\"middle\" x=\"171\" y=\"-96.8\" font-family=\"Times,serif\" font-size=\"14.00\" fill=\"#000000\">value = [18, 25]</text>\n</g>\n<!-- 1&#45;&gt;2 -->\n<g id=\"edge2\" class=\"edge\">\n<title>1&#45;&gt;2</title>\n<path fill=\"none\" stroke=\"#000000\" d=\"M298.7869,-192.9465C278.4234,-181.8002 255.769,-169.3999 235.2577,-158.1726\"/>\n<polygon fill=\"#000000\" stroke=\"#000000\" points=\"236.7593,-155.0046 226.3069,-153.2732 233.3983,-161.1449 236.7593,-155.0046\"/>\n</g>\n<!-- 5 -->\n<g id=\"node6\" class=\"node\">\n<title>5</title>\n<polygon fill=\"none\" stroke=\"#000000\" points=\"423.5,-157 298.5,-157 298.5,-89 423.5,-89 423.5,-157\"/>\n<text text-anchor=\"middle\" x=\"361\" y=\"-141.8\" font-family=\"Times,serif\" font-size=\"14.00\" fill=\"#000000\">pclass!=1.0</text>\n<text text-anchor=\"middle\" x=\"361\" y=\"-126.8\" font-family=\"Times,serif\" font-size=\"14.00\" fill=\"#000000\">gini = 0.282</text>\n<text text-anchor=\"middle\" x=\"361\" y=\"-111.8\" font-family=\"Times,serif\" font-size=\"14.00\" fill=\"#000000\">samples = 800</text>\n<text text-anchor=\"middle\" x=\"361\" y=\"-96.8\" font-family=\"Times,serif\" font-size=\"14.00\" fill=\"#000000\">value = [664, 136]</text>\n</g>\n<!-- 1&#45;&gt;5 -->\n<g id=\"edge5\" class=\"edge\">\n<title>1&#45;&gt;5</title>\n<path fill=\"none\" stroke=\"#000000\" d=\"M361,-192.9465C361,-184.776 361,-175.9318 361,-167.3697\"/>\n<polygon fill=\"#000000\" stroke=\"#000000\" points=\"364.5001,-167.13 361,-157.13 357.5001,-167.13 364.5001,-167.13\"/>\n</g>\n<!-- 3 -->\n<g id=\"node4\" class=\"node\">\n<title>3</title>\n<polygon fill=\"none\" stroke=\"#000000\" points=\"102,-53 0,-53 0,0 102,0 102,-53\"/>\n<text text-anchor=\"middle\" x=\"51\" y=\"-37.8\" font-family=\"Times,serif\" font-size=\"14.00\" fill=\"#000000\">gini = 0.198</text>\n<text text-anchor=\"middle\" x=\"51\" y=\"-22.8\" font-family=\"Times,serif\" font-size=\"14.00\" fill=\"#000000\">samples = 27</text>\n<text text-anchor=\"middle\" x=\"51\" y=\"-7.8\" font-family=\"Times,serif\" font-size=\"14.00\" fill=\"#000000\">value = [3, 24]</text>\n</g>\n<!-- 2&#45;&gt;3 -->\n<g id=\"edge3\" class=\"edge\">\n<title>2&#45;&gt;3</title>\n<path fill=\"none\" stroke=\"#000000\" d=\"M128.6925,-88.9777C116.8501,-79.4545 103.9979,-69.1191 92.2195,-59.6473\"/>\n<polygon fill=\"#000000\" stroke=\"#000000\" points=\"94.2486,-56.7877 84.2624,-53.2485 89.8618,-62.2427 94.2486,-56.7877\"/>\n</g>\n<!-- 4 -->\n<g id=\"node5\" class=\"node\">\n<title>4</title>\n<polygon fill=\"none\" stroke=\"#000000\" points=\"222,-53 120,-53 120,0 222,0 222,-53\"/>\n<text text-anchor=\"middle\" x=\"171\" y=\"-37.8\" font-family=\"Times,serif\" font-size=\"14.00\" fill=\"#000000\">gini = 0.117</text>\n<text text-anchor=\"middle\" x=\"171\" y=\"-22.8\" font-family=\"Times,serif\" font-size=\"14.00\" fill=\"#000000\">samples = 16</text>\n<text text-anchor=\"middle\" x=\"171\" y=\"-7.8\" font-family=\"Times,serif\" font-size=\"14.00\" fill=\"#000000\">value = [15, 1]</text>\n</g>\n<!-- 2&#45;&gt;4 -->\n<g id=\"edge4\" class=\"edge\">\n<title>2&#45;&gt;4</title>\n<path fill=\"none\" stroke=\"#000000\" d=\"M171,-88.9777C171,-80.7364 171,-71.887 171,-63.5153\"/>\n<polygon fill=\"#000000\" stroke=\"#000000\" points=\"174.5001,-63.2484 171,-53.2485 167.5001,-63.2485 174.5001,-63.2484\"/>\n</g>\n<!-- 6 -->\n<g id=\"node7\" class=\"node\">\n<title>6</title>\n<polygon fill=\"none\" stroke=\"#000000\" points=\"357.5,-53 240.5,-53 240.5,0 357.5,0 357.5,-53\"/>\n<text text-anchor=\"middle\" x=\"299\" y=\"-37.8\" font-family=\"Times,serif\" font-size=\"14.00\" fill=\"#000000\">gini = 0.219</text>\n<text text-anchor=\"middle\" x=\"299\" y=\"-22.8\" font-family=\"Times,serif\" font-size=\"14.00\" fill=\"#000000\">samples = 624</text>\n<text text-anchor=\"middle\" x=\"299\" y=\"-7.8\" font-family=\"Times,serif\" font-size=\"14.00\" fill=\"#000000\">value = [546, 78]</text>\n</g>\n<!-- 5&#45;&gt;6 -->\n<g id=\"edge6\" class=\"edge\">\n<title>5&#45;&gt;6</title>\n<path fill=\"none\" stroke=\"#000000\" d=\"M339.1411,-88.9777C333.4932,-80.187 327.4007,-70.7044 321.7104,-61.8477\"/>\n<polygon fill=\"#000000\" stroke=\"#000000\" points=\"324.5356,-59.7698 316.1856,-53.2485 318.6463,-63.5536 324.5356,-59.7698\"/>\n</g>\n<!-- 7 -->\n<g id=\"node8\" class=\"node\">\n<title>7</title>\n<polygon fill=\"none\" stroke=\"#000000\" points=\"492,-53 376,-53 376,0 492,0 492,-53\"/>\n<text text-anchor=\"middle\" x=\"434\" y=\"-37.8\" font-family=\"Times,serif\" font-size=\"14.00\" fill=\"#000000\">gini = 0.442</text>\n<text text-anchor=\"middle\" x=\"434\" y=\"-22.8\" font-family=\"Times,serif\" font-size=\"14.00\" fill=\"#000000\">samples = 176</text>\n<text text-anchor=\"middle\" x=\"434\" y=\"-7.8\" font-family=\"Times,serif\" font-size=\"14.00\" fill=\"#000000\">value = [118, 58]</text>\n</g>\n<!-- 5&#45;&gt;7 -->\n<g id=\"edge7\" class=\"edge\">\n<title>5&#45;&gt;7</title>\n<path fill=\"none\" stroke=\"#000000\" d=\"M386.7371,-88.9777C393.5256,-80.0039 400.8596,-70.3089 407.6784,-61.295\"/>\n<polygon fill=\"#000000\" stroke=\"#000000\" points=\"410.5237,-63.3352 413.7654,-53.2485 404.941,-59.1121 410.5237,-63.3352\"/>\n</g>\n<!-- 9 -->\n<g id=\"node10\" class=\"node\">\n<title>9</title>\n<polygon fill=\"none\" stroke=\"#000000\" points=\"676.5,-157 559.5,-157 559.5,-89 676.5,-89 676.5,-157\"/>\n<text text-anchor=\"middle\" x=\"618\" y=\"-141.8\" font-family=\"Times,serif\" font-size=\"14.00\" fill=\"#000000\">body &lt;= 103.5</text>\n<text text-anchor=\"middle\" x=\"618\" y=\"-126.8\" font-family=\"Times,serif\" font-size=\"14.00\" fill=\"#000000\">gini = 0.127</text>\n<text text-anchor=\"middle\" x=\"618\" y=\"-111.8\" font-family=\"Times,serif\" font-size=\"14.00\" fill=\"#000000\">samples = 250</text>\n<text text-anchor=\"middle\" x=\"618\" y=\"-96.8\" font-family=\"Times,serif\" font-size=\"14.00\" fill=\"#000000\">value = [17, 233]</text>\n</g>\n<!-- 8&#45;&gt;9 -->\n<g id=\"edge9\" class=\"edge\">\n<title>8&#45;&gt;9</title>\n<path fill=\"none\" stroke=\"#000000\" d=\"M618,-192.9465C618,-184.776 618,-175.9318 618,-167.3697\"/>\n<polygon fill=\"#000000\" stroke=\"#000000\" points=\"621.5001,-167.13 618,-157.13 614.5001,-167.13 621.5001,-167.13\"/>\n</g>\n<!-- 12 -->\n<g id=\"node13\" class=\"node\">\n<title>12</title>\n<polygon fill=\"none\" stroke=\"#000000\" points=\"879,-157 755,-157 755,-89 879,-89 879,-157\"/>\n<text text-anchor=\"middle\" x=\"817\" y=\"-141.8\" font-family=\"Times,serif\" font-size=\"14.00\" fill=\"#000000\">fare &lt;= 23.35</text>\n<text text-anchor=\"middle\" x=\"817\" y=\"-126.8\" font-family=\"Times,serif\" font-size=\"14.00\" fill=\"#000000\">gini = 0.5</text>\n<text text-anchor=\"middle\" x=\"817\" y=\"-111.8\" font-family=\"Times,serif\" font-size=\"14.00\" fill=\"#000000\">samples = 216</text>\n<text text-anchor=\"middle\" x=\"817\" y=\"-96.8\" font-family=\"Times,serif\" font-size=\"14.00\" fill=\"#000000\">value = [110, 106]</text>\n</g>\n<!-- 8&#45;&gt;12 -->\n<g id=\"edge12\" class=\"edge\">\n<title>8&#45;&gt;12</title>\n<path fill=\"none\" stroke=\"#000000\" d=\"M680.6917,-194.2365C701.4265,-183.4002 724.6438,-171.2666 745.9587,-160.1271\"/>\n<polygon fill=\"#000000\" stroke=\"#000000\" points=\"747.7228,-163.1544 754.9644,-155.4206 744.4806,-156.9505 747.7228,-163.1544\"/>\n</g>\n<!-- 10 -->\n<g id=\"node11\" class=\"node\">\n<title>10</title>\n<polygon fill=\"none\" stroke=\"#000000\" points=\"605.5,-53 510.5,-53 510.5,0 605.5,0 605.5,-53\"/>\n<text text-anchor=\"middle\" x=\"558\" y=\"-37.8\" font-family=\"Times,serif\" font-size=\"14.00\" fill=\"#000000\">gini = 0.0</text>\n<text text-anchor=\"middle\" x=\"558\" y=\"-22.8\" font-family=\"Times,serif\" font-size=\"14.00\" fill=\"#000000\">samples = 1</text>\n<text text-anchor=\"middle\" x=\"558\" y=\"-7.8\" font-family=\"Times,serif\" font-size=\"14.00\" fill=\"#000000\">value = [1, 0]</text>\n</g>\n<!-- 9&#45;&gt;10 -->\n<g id=\"edge10\" class=\"edge\">\n<title>9&#45;&gt;10</title>\n<path fill=\"none\" stroke=\"#000000\" d=\"M596.8462,-88.9777C591.3805,-80.187 585.4846,-70.7044 579.9778,-61.8477\"/>\n<polygon fill=\"#000000\" stroke=\"#000000\" points=\"582.8837,-59.8927 574.6312,-53.2485 576.9391,-63.5889 582.8837,-59.8927\"/>\n</g>\n<!-- 11 -->\n<g id=\"node12\" class=\"node\">\n<title>11</title>\n<polygon fill=\"none\" stroke=\"#000000\" points=\"740.5,-53 623.5,-53 623.5,0 740.5,0 740.5,-53\"/>\n<text text-anchor=\"middle\" x=\"682\" y=\"-37.8\" font-family=\"Times,serif\" font-size=\"14.00\" fill=\"#000000\">gini = 0.12</text>\n<text text-anchor=\"middle\" x=\"682\" y=\"-22.8\" font-family=\"Times,serif\" font-size=\"14.00\" fill=\"#000000\">samples = 249</text>\n<text text-anchor=\"middle\" x=\"682\" y=\"-7.8\" font-family=\"Times,serif\" font-size=\"14.00\" fill=\"#000000\">value = [16, 233]</text>\n</g>\n<!-- 9&#45;&gt;11 -->\n<g id=\"edge11\" class=\"edge\">\n<title>9&#45;&gt;11</title>\n<path fill=\"none\" stroke=\"#000000\" d=\"M640.564,-88.9777C646.3941,-80.187 652.6831,-70.7044 658.557,-61.8477\"/>\n<polygon fill=\"#000000\" stroke=\"#000000\" points=\"661.6498,-63.5167 664.2601,-53.2485 655.8162,-59.6478 661.6498,-63.5167\"/>\n</g>\n<!-- 13 -->\n<g id=\"node14\" class=\"node\">\n<title>13</title>\n<polygon fill=\"none\" stroke=\"#000000\" points=\"875.5,-53 758.5,-53 758.5,0 875.5,0 875.5,-53\"/>\n<text text-anchor=\"middle\" x=\"817\" y=\"-37.8\" font-family=\"Times,serif\" font-size=\"14.00\" fill=\"#000000\">gini = 0.492</text>\n<text text-anchor=\"middle\" x=\"817\" y=\"-22.8\" font-family=\"Times,serif\" font-size=\"14.00\" fill=\"#000000\">samples = 183</text>\n<text text-anchor=\"middle\" x=\"817\" y=\"-7.8\" font-family=\"Times,serif\" font-size=\"14.00\" fill=\"#000000\">value = [80, 103]</text>\n</g>\n<!-- 12&#45;&gt;13 -->\n<g id=\"edge13\" class=\"edge\">\n<title>12&#45;&gt;13</title>\n<path fill=\"none\" stroke=\"#000000\" d=\"M817,-88.9777C817,-80.7364 817,-71.887 817,-63.5153\"/>\n<polygon fill=\"#000000\" stroke=\"#000000\" points=\"820.5001,-63.2484 817,-53.2485 813.5001,-63.2485 820.5001,-63.2484\"/>\n</g>\n<!-- 14 -->\n<g id=\"node15\" class=\"node\">\n<title>14</title>\n<polygon fill=\"none\" stroke=\"#000000\" points=\"996,-53 894,-53 894,0 996,0 996,-53\"/>\n<text text-anchor=\"middle\" x=\"945\" y=\"-37.8\" font-family=\"Times,serif\" font-size=\"14.00\" fill=\"#000000\">gini = 0.165</text>\n<text text-anchor=\"middle\" x=\"945\" y=\"-22.8\" font-family=\"Times,serif\" font-size=\"14.00\" fill=\"#000000\">samples = 33</text>\n<text text-anchor=\"middle\" x=\"945\" y=\"-7.8\" font-family=\"Times,serif\" font-size=\"14.00\" fill=\"#000000\">value = [30, 3]</text>\n</g>\n<!-- 12&#45;&gt;14 -->\n<g id=\"edge14\" class=\"edge\">\n<title>12&#45;&gt;14</title>\n<path fill=\"none\" stroke=\"#000000\" d=\"M862.128,-88.9777C874.8813,-79.3629 888.7327,-68.9203 901.3947,-59.3743\"/>\n<polygon fill=\"#000000\" stroke=\"#000000\" points=\"903.6421,-62.0632 909.5202,-53.2485 899.4281,-56.4737 903.6421,-62.0632\"/>\n</g>\n</g>\n</svg>\n"
          },
          "metadata": {
            "tags": []
          },
          "execution_count": 14
        }
      ]
    },
    {
      "cell_type": "code",
      "metadata": {
        "id": "Hy004EG97P1k",
        "colab_type": "code",
        "colab": {}
      },
      "source": [
        ""
      ],
      "execution_count": 14,
      "outputs": []
    }
  ]
}