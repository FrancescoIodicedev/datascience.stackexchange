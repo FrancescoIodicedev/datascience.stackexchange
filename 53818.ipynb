{
  "nbformat": 4,
  "nbformat_minor": 0,
  "metadata": {
    "colab": {
      "name": "53818.ipynb",
      "version": "0.3.2",
      "provenance": [],
      "collapsed_sections": [],
      "include_colab_link": true
    },
    "kernelspec": {
      "name": "python3",
      "display_name": "Python 3"
    }
  },
  "cells": [
    {
      "cell_type": "markdown",
      "metadata": {
        "id": "view-in-github",
        "colab_type": "text"
      },
      "source": [
        "<a href=\"https://colab.research.google.com/github/bmreiniger/datascience.stackexchange/blob/master/53818.ipynb\" target=\"_parent\"><img src=\"https://colab.research.google.com/assets/colab-badge.svg\" alt=\"Open In Colab\"/></a>"
      ]
    },
    {
      "cell_type": "markdown",
      "metadata": {
        "id": "D18EJpsKit3U",
        "colab_type": "text"
      },
      "source": [
        "As in the OP, except try to use better precision:"
      ]
    },
    {
      "cell_type": "code",
      "metadata": {
        "id": "QrBTfvD6P550",
        "colab_type": "code",
        "outputId": "7f178b42-04de-4be5-94cc-5e94680e9104",
        "colab": {
          "base_uri": "https://localhost:8080/",
          "height": 268
        }
      },
      "source": [
        "import numpy as np\n",
        "import matplotlib.pyplot as plt\n",
        "\n",
        "\n",
        "def pol(x):\n",
        "    return x * np.cos(x)\n",
        "\n",
        "x = np.linspace(0, 12, 100)\n",
        "rng = np.random.RandomState(1234)\n",
        "rng.shuffle(x)\n",
        "x = np.sort(x[:25])\n",
        "y = pol(np.longdouble(x)) + np.random.randn(25)*2\n",
        "\n",
        "plt.scatter(x, y, color='green', s=50, marker='.')\n",
        "\n",
        "plt.show()"
      ],
      "execution_count": 66,
      "outputs": [
        {
          "output_type": "display_data",
          "data": {
            "image/png": "[encoded data removed]",
            "text/plain": [
              "<Figure size 432x288 with 1 Axes>"
            ]
          },
          "metadata": {
            "tags": []
          }
        }
      ]
    },
    {
      "cell_type": "code",
      "metadata": {
        "id": "kNk4n_JGiWsl",
        "colab_type": "code",
        "colab": {
          "base_uri": "https://localhost:8080/",
          "height": 34
        },
        "outputId": "af3852ae-758a-4783-db3e-8ff8ba2294d0"
      },
      "source": [
        "type(y[0])"
      ],
      "execution_count": 90,
      "outputs": [
        {
          "output_type": "execute_result",
          "data": {
            "text/plain": [
              "numpy.float128"
            ]
          },
          "metadata": {
            "tags": []
          },
          "execution_count": 90
        }
      ]
    },
    {
      "cell_type": "code",
      "metadata": {
        "id": "UEBYFFS-P7_C",
        "colab_type": "code",
        "outputId": "5f6645d1-55dc-4be1-be89-7b58c3c4bcc6",
        "colab": {
          "base_uri": "https://localhost:8080/",
          "height": 532
        }
      },
      "source": [
        "from sklearn.linear_model import LinearRegression\n",
        "from sklearn.preprocessing import PolynomialFeatures\n",
        "\n",
        "for p in range(1,30):\n",
        "    plot_range = [i/10 for i in range(0,120)]\n",
        "    poly = PolynomialFeatures(p)\n",
        "    X_fin = poly.fit_transform([[samp] for samp in x])\n",
        "    X_fin_plot = poly.fit_transform([[samp] for samp in plot_range])\n",
        "    reg = LinearRegression().fit(X_fin, y)\n",
        "\n",
        "    from sklearn.metrics import mean_squared_error, r2_score\n",
        "    print(p,r2_score(y, reg.predict(X_fin)))"
      ],
      "execution_count": 70,
      "outputs": [
        {
          "output_type": "stream",
          "text": [
            "1 0.011428827986298185\n",
            "2 0.049824884417237536\n",
            "3 0.18510530303518846\n",
            "4 0.7524959057278297\n",
            "5 0.7849414255228335\n",
            "6 0.883372862306162\n",
            "7 0.9045044030836533\n",
            "8 0.9394157666425363\n",
            "9 0.9518632304961523\n",
            "10 0.951992420205271\n",
            "11 0.9535095748926792\n",
            "12 0.9521059512715203\n",
            "13 0.9495410592268169\n",
            "14 0.9458024870565721\n",
            "15 0.9418520107231447\n",
            "16 0.9405653534483068\n",
            "17 0.9337912337760239\n",
            "18 0.923540608174988\n",
            "19 0.9150580889315411\n",
            "20 0.9098877179697926\n",
            "21 0.9087915968482445\n",
            "22 0.9037422497047429\n",
            "23 0.8945135026074984\n",
            "24 0.8819064591003116\n",
            "25 0.8669722586908764\n",
            "26 0.850671481614115\n",
            "27 0.8337637689381888\n",
            "28 0.7261217111510339\n",
            "29 0.7126553231722585\n"
          ],
          "name": "stdout"
        }
      ]
    },
    {
      "cell_type": "code",
      "metadata": {
        "id": "Bndq1u1sibU9",
        "colab_type": "code",
        "colab": {
          "base_uri": "https://localhost:8080/",
          "height": 34
        },
        "outputId": "8cd32270-6085-4f34-e551-14138dd2a078"
      },
      "source": [
        "type(X_fin[0,0])"
      ],
      "execution_count": 91,
      "outputs": [
        {
          "output_type": "execute_result",
          "data": {
            "text/plain": [
              "numpy.float64"
            ]
          },
          "metadata": {
            "tags": []
          },
          "execution_count": 91
        }
      ]
    },
    {
      "cell_type": "markdown",
      "metadata": {
        "id": "XgVwcjkei1SV",
        "colab_type": "text"
      },
      "source": [
        "Unfortunately, sklearn automatically has cast us back down to float64's..."
      ]
    },
    {
      "cell_type": "code",
      "metadata": {
        "id": "q5gluMHSXJnJ",
        "colab_type": "code",
        "outputId": "a9d3fa33-611f-4adf-a6e6-8809fec51ce9",
        "colab": {
          "base_uri": "https://localhost:8080/",
          "height": 158
        }
      },
      "source": [
        "reg.coef_"
      ],
      "execution_count": 71,
      "outputs": [
        {
          "output_type": "execute_result",
          "data": {
            "text/plain": [
              "array([-2.15699472e-20,  6.34191867e-23,  4.13697839e-26, -6.22013603e-28,\n",
              "        3.17236397e-30,  4.44991496e-30,  3.26377017e-29,  2.34378115e-28,\n",
              "        1.65497898e-27,  1.14923786e-26,  7.83956463e-26,  5.24266815e-25,\n",
              "        3.42715053e-24,  2.18162169e-23,  1.34573681e-22,  7.99329235e-22,\n",
              "        4.53392541e-21,  2.42867004e-20,  1.20970456e-19,  5.47759538e-19,\n",
              "        2.17662418e-18,  7.14175946e-18,  1.70684073e-17,  2.01684452e-17,\n",
              "       -1.54401693e-17,  4.02804514e-18, -5.35084232e-19,  3.91929698e-20,\n",
              "       -1.51369279e-21,  2.41719937e-23])"
            ]
          },
          "metadata": {
            "tags": []
          },
          "execution_count": 71
        }
      ]
    },
    {
      "cell_type": "code",
      "metadata": {
        "id": "Oo0lE9_3XkVV",
        "colab_type": "code",
        "outputId": "6d73663c-c824-47af-bf17-70ea220e8142",
        "colab": {
          "base_uri": "https://localhost:8080/",
          "height": 517
        }
      },
      "source": [
        "from scipy.linalg import lstsq\n",
        "out = lstsq(X_fin, y)\n",
        "print(out)\n",
        "p = out[0]\n",
        "plot_range = [i/10 for i in range(0,120)]\n",
        "plt.scatter(x, y, color='green', s=50, marker='.')\n",
        "plt.plot(plot_range,X_fin_plot@p)\n",
        "plt.show()"
      ],
      "execution_count": 72,
      "outputs": [
        {
          "output_type": "stream",
          "text": [
            "(array([-7.27124977e-23,  5.99552863e-22,  2.70965459e-24, -2.16792885e-25,\n",
            "       -8.29400054e-27, -9.62830430e-28, -7.09742585e-29,  2.94945943e-28,\n",
            "        2.13806856e-27,  1.46393021e-26,  9.86750839e-26,  6.53365710e-25,\n",
            "        4.23524894e-24,  2.67647692e-23,  1.64048101e-22,  9.68894100e-22,\n",
            "        5.46791476e-21,  2.91560519e-20,  1.44622986e-19,  6.52389796e-19,\n",
            "        2.58347489e-18,  8.45016406e-18,  2.01390571e-17,  2.37470049e-17,\n",
            "       -1.80729927e-17,  4.69331028e-18, -6.20988156e-19,  4.53256536e-20,\n",
            "       -1.74505214e-21,  2.77876142e-23]), array([], dtype=float64), 7, array([1.74673168e+31, 2.03479963e+28, 6.75579705e+25, 2.47150857e+23,\n",
            "       1.79426999e+21, 1.68006616e+19, 1.54723519e+17, 2.20703707e+15,\n",
            "       3.46213112e+13, 2.76068048e+13, 6.53615022e+11, 1.01563184e+11,\n",
            "       1.49208430e+10, 7.10031989e+08, 4.14658000e+08, 1.41208183e+07,\n",
            "       2.51036395e+06, 7.39040636e+05, 3.13389577e+04, 2.29231274e+04,\n",
            "       4.06070145e+03, 1.08387721e+03, 1.04227465e+02, 6.97471996e+00,\n",
            "       1.00742442e+00]))\n"
          ],
          "name": "stdout"
        },
        {
          "output_type": "display_data",
          "data": {
            "image/png": "[encoded data removed]",
            "text/plain": [
              "<Figure size 432x288 with 1 Axes>"
            ]
          },
          "metadata": {
            "tags": []
          }
        }
      ]
    },
    {
      "cell_type": "markdown",
      "metadata": {
        "id": "pq7Wq71ii9i9",
        "colab_type": "text"
      },
      "source": [
        "# Rescale things, so that the 24th powers don't diverge quite so much:"
      ]
    },
    {
      "cell_type": "code",
      "metadata": {
        "id": "dS6ZrZKsbKKU",
        "colab_type": "code",
        "colab": {}
      },
      "source": [
        "x_sc = (10+np.longdouble(x))/24\n",
        "plot_range_sc = np.longdouble((10+np.array(plot_range))/24)"
      ],
      "execution_count": 0,
      "outputs": []
    },
    {
      "cell_type": "code",
      "metadata": {
        "id": "Jld3JsZGQBzp",
        "colab_type": "code",
        "outputId": "cd5d7911-4f97-4753-bf03-043d73cfb6a0",
        "colab": {
          "base_uri": "https://localhost:8080/",
          "height": 532
        }
      },
      "source": [
        "for p in range(1,30):\n",
        "    plot_range = [i/10 for i in range(0,120)]\n",
        "    poly = PolynomialFeatures(p)\n",
        "    X_fin = poly.fit_transform([[samp] for samp in x_sc])\n",
        "    X_fin_plot = poly.fit_transform([[samp] for samp in plot_range_sc])\n",
        "    reg = LinearRegression().fit(X_fin, y)\n",
        "\n",
        "    from sklearn.metrics import mean_squared_error, r2_score\n",
        "    print(p,r2_score(y, reg.predict(X_fin)))"
      ],
      "execution_count": 82,
      "outputs": [
        {
          "output_type": "stream",
          "text": [
            "1 0.011428827986298185\n",
            "2 0.049824884417237536\n",
            "3 0.18510530303518602\n",
            "4 0.7524959057277869\n",
            "5 0.784941425522926\n",
            "6 0.8833728623085528\n",
            "7 0.9045044031029656\n",
            "8 0.9394157670063518\n",
            "9 0.9518632280982889\n",
            "10 0.951992411594822\n",
            "11 0.9535126179587199\n",
            "12 0.957145096885098\n",
            "13 0.9631896012324069\n",
            "14 0.9633918895274786\n",
            "15 0.9639783450857222\n",
            "16 0.9641071602726566\n",
            "17 0.9641954933818148\n",
            "18 0.9642842474103579\n",
            "19 0.9669955788906639\n",
            "20 0.9671503542187585\n",
            "21 0.9669799699290126\n",
            "22 0.9667149826472317\n",
            "23 0.9665419869408751\n",
            "24 0.9689217306108523\n",
            "25 0.9688833854305549\n",
            "26 0.9690891604031492\n",
            "27 0.9690520208381211\n",
            "28 0.9692332308303898\n",
            "29 0.9693984055707766\n"
          ],
          "name": "stdout"
        }
      ]
    },
    {
      "cell_type": "markdown",
      "metadata": {
        "id": "nj8sFQMAjI-F",
        "colab_type": "text"
      },
      "source": [
        "Much better, though still not the perfect 24th-degree polynomial we theoretically have."
      ]
    },
    {
      "cell_type": "code",
      "metadata": {
        "id": "lfOL50kOXEmK",
        "colab_type": "code",
        "outputId": "fe406a55-7574-49ea-cbef-a1c3604cba34",
        "colab": {
          "base_uri": "https://localhost:8080/",
          "height": 500
        }
      },
      "source": [
        "poly = PolynomialFeatures(24)\n",
        "X_fin = poly.fit_transform([[samp] for samp in x_sc])\n",
        "X_fin_plot = poly.fit_transform([[samp] for samp in plot_range_sc])\n",
        "out = lstsq(X_fin, y)\n",
        "print(out)\n",
        "p = out[0]\n",
        "plt.scatter(x_sc, y, color='green', s=50, marker='.')\n",
        "plt.plot(plot_range_sc,X_fin_plot@p)\n",
        "plt.ylim((-15,15))\n",
        "plt.show()"
      ],
      "execution_count": 84,
      "outputs": [
        {
          "output_type": "stream",
          "text": [
            "(array([-9.70735879e+09,  1.62489216e+11, -1.18372780e+12,  4.84204523e+12,\n",
            "       -1.18061140e+13,  1.60671047e+13, -7.29622437e+12, -9.49103779e+12,\n",
            "        9.84862139e+12,  7.85291665e+12, -8.60879261e+12, -9.50738538e+12,\n",
            "        5.02663914e+12,  1.15028301e+13,  7.94717843e+11, -1.11151291e+13,\n",
            "       -7.19590952e+12,  7.32182678e+12,  1.16892285e+13, -1.95712566e+12,\n",
            "       -1.37963685e+13, -9.75089382e+11,  1.71893316e+13, -1.19358536e+13,\n",
            "        2.58071453e+12]), array([], dtype=float64), 16, array([7.71500877e+00, 2.17173309e+00, 5.52044287e-01, 1.39313172e-01,\n",
            "       3.00874756e-02, 4.69103972e-03, 7.91697434e-04, 1.23507580e-04,\n",
            "       1.52646534e-05, 1.29587522e-06, 8.77543799e-08, 5.65212329e-09,\n",
            "       3.47783420e-10, 1.60453592e-11, 7.88822085e-13, 2.59927120e-14,\n",
            "       8.51963151e-16, 2.74341805e-17, 2.14843389e-17, 1.95349324e-17,\n",
            "       7.30847754e-18, 5.80764785e-18, 5.03208411e-18, 3.04650858e-18,\n",
            "       9.12813935e-19]))\n"
          ],
          "name": "stdout"
        },
        {
          "output_type": "display_data",
          "data": {
            "image/png": "[encoded data removed]",
            "text/plain": [
              "<Figure size 432x288 with 1 Axes>"
            ]
          },
          "metadata": {
            "tags": []
          }
        }
      ]
    },
    {
      "cell_type": "code",
      "metadata": {
        "id": "uPNVTLVpgsqL",
        "colab_type": "code",
        "colab": {}
      },
      "source": [
        ""
      ],
      "execution_count": 0,
      "outputs": []
    }
  ]
}