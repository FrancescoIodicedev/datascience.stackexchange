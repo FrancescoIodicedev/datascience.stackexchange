{
  "nbformat": 4,
  "nbformat_minor": 0,
  "metadata": {
    "colab": {
      "name": "58181.ipynb",
      "version": "0.3.2",
      "provenance": [],
      "collapsed_sections": [],
      "include_colab_link": true
    },
    "kernelspec": {
      "name": "python3",
      "display_name": "Python 3"
    }
  },
  "cells": [
    {
      "cell_type": "markdown",
      "metadata": {
        "id": "view-in-github",
        "colab_type": "text"
      },
      "source": [
        "<a href=\"https://colab.research.google.com/github/bmreiniger/datascience.stackexchange/blob/master/58181-catboost%26skl_cross_validate.ipynb\" target=\"_parent\"><img src=\"https://colab.research.google.com/assets/colab-badge.svg\" alt=\"Open In Colab\"/></a>"
      ]
    },
    {
      "cell_type": "code",
      "metadata": {
        "id": "YXQE4NtyaIUd",
        "colab_type": "code",
        "colab": {}
      },
      "source": [
        "import numpy as np\n",
        "from sklearn.model_selection import cross_validate\n",
        "import catboost as cb\n",
        "from sklearn.datasets import load_breast_cancer\n"
      ],
      "execution_count": 0,
      "outputs": []
    },
    {
      "cell_type": "code",
      "metadata": {
        "id": "H17A0H2mavtk",
        "colab_type": "code",
        "colab": {}
      },
      "source": [
        "X, y = load_breast_cancer(return_X_y=True)"
      ],
      "execution_count": 0,
      "outputs": []
    },
    {
      "cell_type": "code",
      "metadata": {
        "id": "ld-mwdQxa5Zo",
        "colab_type": "code",
        "colab": {
          "base_uri": "https://localhost:8080/",
          "height": 35
        },
        "outputId": "b45789af-e2db-40bc-c052-3a5ca46f80ab"
      },
      "source": [
        "X[:,0] = np.array([int(x) for x in X[:,0]])\n",
        "X[:10,0]"
      ],
      "execution_count": 23,
      "outputs": [
        {
          "output_type": "execute_result",
          "data": {
            "text/plain": [
              "array([18., 21., 20., 11., 20., 12., 18., 14., 13., 12.])"
            ]
          },
          "metadata": {
            "tags": []
          },
          "execution_count": 23
        }
      ]
    },
    {
      "cell_type": "code",
      "metadata": {
        "id": "rtyT1RSBbekI",
        "colab_type": "code",
        "colab": {
          "base_uri": "https://localhost:8080/",
          "height": 106
        },
        "outputId": "3e9326f2-06dd-43b7-c217-c1b440ffc8d2"
      },
      "source": [
        "X[0, :]"
      ],
      "execution_count": 22,
      "outputs": [
        {
          "output_type": "execute_result",
          "data": {
            "text/plain": [
              "array([1.800e+01, 1.038e+01, 1.228e+02, 1.001e+03, 1.184e-01, 2.776e-01,\n",
              "       3.001e-01, 1.471e-01, 2.419e-01, 7.871e-02, 1.095e+00, 9.053e-01,\n",
              "       8.589e+00, 1.534e+02, 6.399e-03, 4.904e-02, 5.373e-02, 1.587e-02,\n",
              "       3.003e-02, 6.193e-03, 2.538e+01, 1.733e+01, 1.846e+02, 2.019e+03,\n",
              "       1.622e-01, 6.656e-01, 7.119e-01, 2.654e-01, 4.601e-01, 1.189e-01])"
            ]
          },
          "metadata": {
            "tags": []
          },
          "execution_count": 22
        }
      ]
    },
    {
      "cell_type": "code",
      "metadata": {
        "id": "A7ZsfW8waGu_",
        "colab_type": "code",
        "colab": {
          "base_uri": "https://localhost:8080/",
          "height": 995
        },
        "outputId": "b3acb8ad-bf7d-4d73-85bf-86f359ad60e8"
      },
      "source": [
        "model = cb.CatBoostClassifier(iterations=10, cat_features=[0])\n",
        "cv_score = cross_validate(model, X, y, scoring='roc_auc', cv=5, return_train_score=True)"
      ],
      "execution_count": 25,
      "outputs": [
        {
          "output_type": "stream",
          "text": [
            "Learning rate set to 0.5\n",
            "0:\tlearn: 0.1914558\ttotal: 18.3ms\tremaining: 165ms\n",
            "1:\tlearn: 0.1156117\ttotal: 36.3ms\tremaining: 145ms\n",
            "2:\tlearn: 0.0817785\ttotal: 52.4ms\tremaining: 122ms\n",
            "3:\tlearn: 0.0636494\ttotal: 67.6ms\tremaining: 101ms\n",
            "4:\tlearn: 0.0519317\ttotal: 84.2ms\tremaining: 84.2ms\n",
            "5:\tlearn: 0.0443425\ttotal: 99.4ms\tremaining: 66.3ms\n",
            "6:\tlearn: 0.0383904\ttotal: 114ms\tremaining: 48.8ms\n",
            "7:\tlearn: 0.0359475\ttotal: 129ms\tremaining: 32.3ms\n",
            "8:\tlearn: 0.0318494\ttotal: 144ms\tremaining: 16ms\n",
            "9:\tlearn: 0.0263374\ttotal: 159ms\tremaining: 0us\n",
            "Learning rate set to 0.5\n",
            "0:\tlearn: 0.2252373\ttotal: 15.7ms\tremaining: 141ms\n",
            "1:\tlearn: 0.1568459\ttotal: 30.7ms\tremaining: 123ms\n",
            "2:\tlearn: 0.1001634\ttotal: 45.2ms\tremaining: 106ms\n",
            "3:\tlearn: 0.0863817\ttotal: 60ms\tremaining: 90ms\n",
            "4:\tlearn: 0.0702203\ttotal: 75.3ms\tremaining: 75.3ms\n",
            "5:\tlearn: 0.0544622\ttotal: 90.2ms\tremaining: 60.1ms\n",
            "6:\tlearn: 0.0457246\ttotal: 105ms\tremaining: 45ms\n",
            "7:\tlearn: 0.0366338\ttotal: 120ms\tremaining: 30ms\n",
            "8:\tlearn: 0.0315610\ttotal: 135ms\tremaining: 15ms\n",
            "9:\tlearn: 0.0240627\ttotal: 150ms\tremaining: 0us\n",
            "Learning rate set to 0.5\n",
            "0:\tlearn: 0.2108157\ttotal: 16.5ms\tremaining: 148ms\n",
            "1:\tlearn: 0.1492099\ttotal: 31.8ms\tremaining: 127ms\n",
            "2:\tlearn: 0.1207056\ttotal: 46.9ms\tremaining: 109ms\n",
            "3:\tlearn: 0.0971041\ttotal: 61.1ms\tremaining: 91.6ms\n",
            "4:\tlearn: 0.0864199\ttotal: 75.5ms\tremaining: 75.5ms\n",
            "5:\tlearn: 0.0768932\ttotal: 90.6ms\tremaining: 60.4ms\n",
            "6:\tlearn: 0.0703430\ttotal: 105ms\tremaining: 45.1ms\n",
            "7:\tlearn: 0.0589252\ttotal: 120ms\tremaining: 30ms\n",
            "8:\tlearn: 0.0567386\ttotal: 134ms\tremaining: 14.9ms\n",
            "9:\tlearn: 0.0545983\ttotal: 148ms\tremaining: 0us\n",
            "Learning rate set to 0.5\n",
            "0:\tlearn: 0.2234299\ttotal: 18.7ms\tremaining: 168ms\n",
            "1:\tlearn: 0.1389918\ttotal: 33.6ms\tremaining: 134ms\n",
            "2:\tlearn: 0.0905066\ttotal: 49.9ms\tremaining: 116ms\n",
            "3:\tlearn: 0.0653036\ttotal: 64.8ms\tremaining: 97.2ms\n",
            "4:\tlearn: 0.0598978\ttotal: 102ms\tremaining: 102ms\n",
            "5:\tlearn: 0.0490944\ttotal: 125ms\tremaining: 83.1ms\n",
            "6:\tlearn: 0.0446484\ttotal: 141ms\tremaining: 60.5ms\n",
            "7:\tlearn: 0.0388515\ttotal: 156ms\tremaining: 39.1ms\n",
            "8:\tlearn: 0.0339241\ttotal: 171ms\tremaining: 19ms\n",
            "9:\tlearn: 0.0304242\ttotal: 185ms\tremaining: 0us\n",
            "Learning rate set to 0.5\n",
            "0:\tlearn: 0.2186943\ttotal: 14.7ms\tremaining: 133ms\n",
            "1:\tlearn: 0.1407879\ttotal: 29.4ms\tremaining: 117ms\n",
            "2:\tlearn: 0.1008451\ttotal: 44.5ms\tremaining: 104ms\n",
            "3:\tlearn: 0.0750466\ttotal: 60ms\tremaining: 90ms\n",
            "4:\tlearn: 0.0666680\ttotal: 74.1ms\tremaining: 74.1ms\n",
            "5:\tlearn: 0.0511052\ttotal: 88ms\tremaining: 58.7ms\n",
            "6:\tlearn: 0.0468835\ttotal: 102ms\tremaining: 43.9ms\n",
            "7:\tlearn: 0.0428472\ttotal: 117ms\tremaining: 29.1ms\n",
            "8:\tlearn: 0.0353353\ttotal: 131ms\tremaining: 14.6ms\n",
            "9:\tlearn: 0.0317551\ttotal: 146ms\tremaining: 0us\n"
          ],
          "name": "stdout"
        }
      ]
    },
    {
      "cell_type": "code",
      "metadata": {
        "id": "lci8HzM2bE-c",
        "colab_type": "code",
        "colab": {
          "base_uri": "https://localhost:8080/",
          "height": 88
        },
        "outputId": "5a45b356-f7c8-466e-b4b0-167f531c75cb"
      },
      "source": [
        "cv_score"
      ],
      "execution_count": 26,
      "outputs": [
        {
          "output_type": "execute_result",
          "data": {
            "text/plain": [
              "{'fit_time': array([0.21268153, 0.20071959, 0.2042129 , 0.2376678 , 0.19132066]),\n",
              " 'score_time': array([0.00207973, 0.00209594, 0.0023365 , 0.00209308, 0.00219131]),\n",
              " 'test_score': array([0.98869509, 0.97739018, 0.99798793, 0.9889336 , 0.99396378]),\n",
              " 'train_score': array([0.99995848, 0.99997924, 0.99843686, 0.99985603, 0.99985603])}"
            ]
          },
          "metadata": {
            "tags": []
          },
          "execution_count": 26
        }
      ]
    },
    {
      "cell_type": "code",
      "metadata": {
        "id": "vVQxwuDOdDXD",
        "colab_type": "code",
        "colab": {
          "base_uri": "https://localhost:8080/",
          "height": 220
        },
        "outputId": "705a4b89-bf71-4039-e76c-89d11ca4050d"
      },
      "source": [
        "import pandas as pd\n",
        "Xdf = pd.DataFrame(X)\n",
        "Xdf.columns = ['col'+str(i) for i in range(30)]\n",
        "Xdf.head()\n"
      ],
      "execution_count": 28,
      "outputs": [
        {
          "output_type": "execute_result",
          "data": {
            "text/html": [
              "<div>\n",
              "<style scoped>\n",
              "    .dataframe tbody tr th:only-of-type {\n",
              "        vertical-align: middle;\n",
              "    }\n",
              "\n",
              "    .dataframe tbody tr th {\n",
              "        vertical-align: top;\n",
              "    }\n",
              "\n",
              "    .dataframe thead th {\n",
              "        text-align: right;\n",
              "    }\n",
              "</style>\n",
              "<table border=\"1\" class=\"dataframe\">\n",
              "  <thead>\n",
              "    <tr style=\"text-align: right;\">\n",
              "      <th></th>\n",
              "      <th>col0</th>\n",
              "      <th>col1</th>\n",
              "      <th>col2</th>\n",
              "      <th>col3</th>\n",
              "      <th>col4</th>\n",
              "      <th>col5</th>\n",
              "      <th>col6</th>\n",
              "      <th>col7</th>\n",
              "      <th>col8</th>\n",
              "      <th>col9</th>\n",
              "      <th>col10</th>\n",
              "      <th>col11</th>\n",
              "      <th>col12</th>\n",
              "      <th>col13</th>\n",
              "      <th>col14</th>\n",
              "      <th>col15</th>\n",
              "      <th>col16</th>\n",
              "      <th>col17</th>\n",
              "      <th>col18</th>\n",
              "      <th>col19</th>\n",
              "      <th>col20</th>\n",
              "      <th>col21</th>\n",
              "      <th>col22</th>\n",
              "      <th>col23</th>\n",
              "      <th>col24</th>\n",
              "      <th>col25</th>\n",
              "      <th>col26</th>\n",
              "      <th>col27</th>\n",
              "      <th>col28</th>\n",
              "      <th>col29</th>\n",
              "    </tr>\n",
              "  </thead>\n",
              "  <tbody>\n",
              "    <tr>\n",
              "      <th>0</th>\n",
              "      <td>18.0</td>\n",
              "      <td>10.38</td>\n",
              "      <td>122.80</td>\n",
              "      <td>1001.0</td>\n",
              "      <td>0.11840</td>\n",
              "      <td>0.27760</td>\n",
              "      <td>0.3001</td>\n",
              "      <td>0.14710</td>\n",
              "      <td>0.2419</td>\n",
              "      <td>0.07871</td>\n",
              "      <td>1.0950</td>\n",
              "      <td>0.9053</td>\n",
              "      <td>8.589</td>\n",
              "      <td>153.40</td>\n",
              "      <td>0.006399</td>\n",
              "      <td>0.04904</td>\n",
              "      <td>0.05373</td>\n",
              "      <td>0.01587</td>\n",
              "      <td>0.03003</td>\n",
              "      <td>0.006193</td>\n",
              "      <td>25.38</td>\n",
              "      <td>17.33</td>\n",
              "      <td>184.60</td>\n",
              "      <td>2019.0</td>\n",
              "      <td>0.1622</td>\n",
              "      <td>0.6656</td>\n",
              "      <td>0.7119</td>\n",
              "      <td>0.2654</td>\n",
              "      <td>0.4601</td>\n",
              "      <td>0.11890</td>\n",
              "    </tr>\n",
              "    <tr>\n",
              "      <th>1</th>\n",
              "      <td>21.0</td>\n",
              "      <td>17.77</td>\n",
              "      <td>132.90</td>\n",
              "      <td>1326.0</td>\n",
              "      <td>0.08474</td>\n",
              "      <td>0.07864</td>\n",
              "      <td>0.0869</td>\n",
              "      <td>0.07017</td>\n",
              "      <td>0.1812</td>\n",
              "      <td>0.05667</td>\n",
              "      <td>0.5435</td>\n",
              "      <td>0.7339</td>\n",
              "      <td>3.398</td>\n",
              "      <td>74.08</td>\n",
              "      <td>0.005225</td>\n",
              "      <td>0.01308</td>\n",
              "      <td>0.01860</td>\n",
              "      <td>0.01340</td>\n",
              "      <td>0.01389</td>\n",
              "      <td>0.003532</td>\n",
              "      <td>24.99</td>\n",
              "      <td>23.41</td>\n",
              "      <td>158.80</td>\n",
              "      <td>1956.0</td>\n",
              "      <td>0.1238</td>\n",
              "      <td>0.1866</td>\n",
              "      <td>0.2416</td>\n",
              "      <td>0.1860</td>\n",
              "      <td>0.2750</td>\n",
              "      <td>0.08902</td>\n",
              "    </tr>\n",
              "    <tr>\n",
              "      <th>2</th>\n",
              "      <td>20.0</td>\n",
              "      <td>21.25</td>\n",
              "      <td>130.00</td>\n",
              "      <td>1203.0</td>\n",
              "      <td>0.10960</td>\n",
              "      <td>0.15990</td>\n",
              "      <td>0.1974</td>\n",
              "      <td>0.12790</td>\n",
              "      <td>0.2069</td>\n",
              "      <td>0.05999</td>\n",
              "      <td>0.7456</td>\n",
              "      <td>0.7869</td>\n",
              "      <td>4.585</td>\n",
              "      <td>94.03</td>\n",
              "      <td>0.006150</td>\n",
              "      <td>0.04006</td>\n",
              "      <td>0.03832</td>\n",
              "      <td>0.02058</td>\n",
              "      <td>0.02250</td>\n",
              "      <td>0.004571</td>\n",
              "      <td>23.57</td>\n",
              "      <td>25.53</td>\n",
              "      <td>152.50</td>\n",
              "      <td>1709.0</td>\n",
              "      <td>0.1444</td>\n",
              "      <td>0.4245</td>\n",
              "      <td>0.4504</td>\n",
              "      <td>0.2430</td>\n",
              "      <td>0.3613</td>\n",
              "      <td>0.08758</td>\n",
              "    </tr>\n",
              "    <tr>\n",
              "      <th>3</th>\n",
              "      <td>11.0</td>\n",
              "      <td>20.38</td>\n",
              "      <td>77.58</td>\n",
              "      <td>386.1</td>\n",
              "      <td>0.14250</td>\n",
              "      <td>0.28390</td>\n",
              "      <td>0.2414</td>\n",
              "      <td>0.10520</td>\n",
              "      <td>0.2597</td>\n",
              "      <td>0.09744</td>\n",
              "      <td>0.4956</td>\n",
              "      <td>1.1560</td>\n",
              "      <td>3.445</td>\n",
              "      <td>27.23</td>\n",
              "      <td>0.009110</td>\n",
              "      <td>0.07458</td>\n",
              "      <td>0.05661</td>\n",
              "      <td>0.01867</td>\n",
              "      <td>0.05963</td>\n",
              "      <td>0.009208</td>\n",
              "      <td>14.91</td>\n",
              "      <td>26.50</td>\n",
              "      <td>98.87</td>\n",
              "      <td>567.7</td>\n",
              "      <td>0.2098</td>\n",
              "      <td>0.8663</td>\n",
              "      <td>0.6869</td>\n",
              "      <td>0.2575</td>\n",
              "      <td>0.6638</td>\n",
              "      <td>0.17300</td>\n",
              "    </tr>\n",
              "    <tr>\n",
              "      <th>4</th>\n",
              "      <td>20.0</td>\n",
              "      <td>14.34</td>\n",
              "      <td>135.10</td>\n",
              "      <td>1297.0</td>\n",
              "      <td>0.10030</td>\n",
              "      <td>0.13280</td>\n",
              "      <td>0.1980</td>\n",
              "      <td>0.10430</td>\n",
              "      <td>0.1809</td>\n",
              "      <td>0.05883</td>\n",
              "      <td>0.7572</td>\n",
              "      <td>0.7813</td>\n",
              "      <td>5.438</td>\n",
              "      <td>94.44</td>\n",
              "      <td>0.011490</td>\n",
              "      <td>0.02461</td>\n",
              "      <td>0.05688</td>\n",
              "      <td>0.01885</td>\n",
              "      <td>0.01756</td>\n",
              "      <td>0.005115</td>\n",
              "      <td>22.54</td>\n",
              "      <td>16.67</td>\n",
              "      <td>152.20</td>\n",
              "      <td>1575.0</td>\n",
              "      <td>0.1374</td>\n",
              "      <td>0.2050</td>\n",
              "      <td>0.4000</td>\n",
              "      <td>0.1625</td>\n",
              "      <td>0.2364</td>\n",
              "      <td>0.07678</td>\n",
              "    </tr>\n",
              "  </tbody>\n",
              "</table>\n",
              "</div>"
            ],
            "text/plain": [
              "   col0   col1    col2    col3  ...   col26   col27   col28    col29\n",
              "0  18.0  10.38  122.80  1001.0  ...  0.7119  0.2654  0.4601  0.11890\n",
              "1  21.0  17.77  132.90  1326.0  ...  0.2416  0.1860  0.2750  0.08902\n",
              "2  20.0  21.25  130.00  1203.0  ...  0.4504  0.2430  0.3613  0.08758\n",
              "3  11.0  20.38   77.58   386.1  ...  0.6869  0.2575  0.6638  0.17300\n",
              "4  20.0  14.34  135.10  1297.0  ...  0.4000  0.1625  0.2364  0.07678\n",
              "\n",
              "[5 rows x 30 columns]"
            ]
          },
          "metadata": {
            "tags": []
          },
          "execution_count": 28
        }
      ]
    },
    {
      "cell_type": "code",
      "metadata": {
        "id": "xB6wFkArdPWN",
        "colab_type": "code",
        "colab": {
          "base_uri": "https://localhost:8080/",
          "height": 995
        },
        "outputId": "ce3df154-bb2a-4aba-ebeb-f8e0f792ff91"
      },
      "source": [
        "model = cb.CatBoostClassifier(iterations=10, cat_features=['col0'])\n",
        "cv_score = cross_validate(model, Xdf, y, scoring='roc_auc', cv=5, return_train_score=True)"
      ],
      "execution_count": 29,
      "outputs": [
        {
          "output_type": "stream",
          "text": [
            "Learning rate set to 0.5\n",
            "0:\tlearn: 0.1914558\ttotal: 10.4ms\tremaining: 93.9ms\n",
            "1:\tlearn: 0.1156117\ttotal: 20.3ms\tremaining: 81.1ms\n",
            "2:\tlearn: 0.0817785\ttotal: 33ms\tremaining: 77ms\n",
            "3:\tlearn: 0.0636494\ttotal: 43ms\tremaining: 64.6ms\n",
            "4:\tlearn: 0.0519317\ttotal: 52.9ms\tremaining: 52.9ms\n",
            "5:\tlearn: 0.0443425\ttotal: 62.7ms\tremaining: 41.8ms\n",
            "6:\tlearn: 0.0383904\ttotal: 72.9ms\tremaining: 31.2ms\n",
            "7:\tlearn: 0.0359475\ttotal: 83.4ms\tremaining: 20.9ms\n",
            "8:\tlearn: 0.0318494\ttotal: 93.9ms\tremaining: 10.4ms\n",
            "9:\tlearn: 0.0263374\ttotal: 104ms\tremaining: 0us\n",
            "Learning rate set to 0.5\n",
            "0:\tlearn: 0.2252373\ttotal: 10.2ms\tremaining: 91.9ms\n",
            "1:\tlearn: 0.1568459\ttotal: 20.2ms\tremaining: 81ms\n",
            "2:\tlearn: 0.1001634\ttotal: 30.8ms\tremaining: 71.8ms\n",
            "3:\tlearn: 0.0863817\ttotal: 41.8ms\tremaining: 62.7ms\n",
            "4:\tlearn: 0.0702203\ttotal: 51.8ms\tremaining: 51.8ms\n",
            "5:\tlearn: 0.0544622\ttotal: 64.4ms\tremaining: 43ms\n",
            "6:\tlearn: 0.0457246\ttotal: 74.5ms\tremaining: 31.9ms\n",
            "7:\tlearn: 0.0366338\ttotal: 84.3ms\tremaining: 21.1ms\n",
            "8:\tlearn: 0.0315610\ttotal: 94.4ms\tremaining: 10.5ms\n",
            "9:\tlearn: 0.0240627\ttotal: 104ms\tremaining: 0us\n",
            "Learning rate set to 0.5\n",
            "0:\tlearn: 0.2108157\ttotal: 10.5ms\tremaining: 94.2ms\n",
            "1:\tlearn: 0.1492099\ttotal: 20.3ms\tremaining: 81.4ms\n",
            "2:\tlearn: 0.1207056\ttotal: 30.1ms\tremaining: 70.3ms\n",
            "3:\tlearn: 0.0971041\ttotal: 39.6ms\tremaining: 59.5ms\n",
            "4:\tlearn: 0.0864199\ttotal: 49.9ms\tremaining: 49.9ms\n",
            "5:\tlearn: 0.0768932\ttotal: 60.2ms\tremaining: 40.2ms\n",
            "6:\tlearn: 0.0703430\ttotal: 70.4ms\tremaining: 30.2ms\n",
            "7:\tlearn: 0.0589252\ttotal: 81.1ms\tremaining: 20.3ms\n",
            "8:\tlearn: 0.0567386\ttotal: 90.8ms\tremaining: 10.1ms\n",
            "9:\tlearn: 0.0545983\ttotal: 101ms\tremaining: 0us\n",
            "Learning rate set to 0.5\n",
            "0:\tlearn: 0.2234299\ttotal: 10.5ms\tremaining: 94.2ms\n",
            "1:\tlearn: 0.1389918\ttotal: 20.8ms\tremaining: 83.2ms\n",
            "2:\tlearn: 0.0905066\ttotal: 30.9ms\tremaining: 72.2ms\n",
            "3:\tlearn: 0.0653036\ttotal: 41.3ms\tremaining: 62ms\n",
            "4:\tlearn: 0.0598978\ttotal: 51.8ms\tremaining: 51.8ms\n",
            "5:\tlearn: 0.0490944\ttotal: 61.6ms\tremaining: 41.1ms\n",
            "6:\tlearn: 0.0446484\ttotal: 71.4ms\tremaining: 30.6ms\n",
            "7:\tlearn: 0.0388515\ttotal: 81.6ms\tremaining: 20.4ms\n",
            "8:\tlearn: 0.0339241\ttotal: 91.8ms\tremaining: 10.2ms\n",
            "9:\tlearn: 0.0304242\ttotal: 101ms\tremaining: 0us\n",
            "Learning rate set to 0.5\n",
            "0:\tlearn: 0.2186943\ttotal: 13.8ms\tremaining: 125ms\n",
            "1:\tlearn: 0.1407879\ttotal: 24.1ms\tremaining: 96.4ms\n",
            "2:\tlearn: 0.1008451\ttotal: 33.9ms\tremaining: 79.2ms\n",
            "3:\tlearn: 0.0750466\ttotal: 43.5ms\tremaining: 65.2ms\n",
            "4:\tlearn: 0.0666680\ttotal: 53.1ms\tremaining: 53.1ms\n",
            "5:\tlearn: 0.0511052\ttotal: 65ms\tremaining: 43.3ms\n",
            "6:\tlearn: 0.0468835\ttotal: 77.2ms\tremaining: 33.1ms\n",
            "7:\tlearn: 0.0428472\ttotal: 87.5ms\tremaining: 21.9ms\n",
            "8:\tlearn: 0.0353353\ttotal: 96.9ms\tremaining: 10.8ms\n",
            "9:\tlearn: 0.0317551\ttotal: 106ms\tremaining: 0us\n"
          ],
          "name": "stdout"
        }
      ]
    },
    {
      "cell_type": "code",
      "metadata": {
        "id": "gOW_TBwsdjKg",
        "colab_type": "code",
        "colab": {}
      },
      "source": [
        ""
      ],
      "execution_count": 0,
      "outputs": []
    }
  ]
}