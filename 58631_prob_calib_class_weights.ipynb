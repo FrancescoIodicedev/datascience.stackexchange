{
  "nbformat": 4,
  "nbformat_minor": 0,
  "metadata": {
    "colab": {
      "name": "58631-prob_calib_class_weights.ipynb",
      "version": "0.3.2",
      "provenance": [],
      "collapsed_sections": [],
      "include_colab_link": true
    },
    "kernelspec": {
      "name": "python3",
      "display_name": "Python 3"
    }
  },
  "cells": [
    {
      "cell_type": "markdown",
      "metadata": {
        "id": "view-in-github",
        "colab_type": "text"
      },
      "source": [
        "<a href=\"https://colab.research.google.com/github/bmreiniger/datascience.stackexchange/blob/master/58631_prob_calib_class_weights.ipynb\" target=\"_parent\"><img src=\"https://colab.research.google.com/assets/colab-badge.svg\" alt=\"Open In Colab\"/></a>"
      ]
    },
    {
      "cell_type": "code",
      "metadata": {
        "id": "LL5dlayOURkH",
        "colab_type": "code",
        "colab": {}
      },
      "source": [
        "from sklearn.datasets import make_classification\n",
        "from sklearn.linear_model import LogisticRegression\n",
        "from sklearn.model_selection import train_test_split\n",
        "from sklearn.calibration import calibration_curve\n",
        "import matplotlib.pyplot as plt"
      ],
      "execution_count": 0,
      "outputs": []
    },
    {
      "cell_type": "code",
      "metadata": {
        "id": "E8OyrBYIVI61",
        "colab_type": "code",
        "outputId": "7882d52c-3c5d-4344-fc8a-f3bb8a570568",
        "colab": {
          "base_uri": "https://localhost:8080/",
          "height": 156
        }
      },
      "source": [
        "prop_class_1 = 0.01\n",
        "X, y = make_classification(n_samples=100000, weights=[1-prop_class_1, prop_class_1],\n",
        "                           n_features=20, n_informative=10,\n",
        "                           random_state=314)\n",
        "X_train, X_test, y_train, y_test = train_test_split(X, y, stratify=y)\n",
        "lr = LogisticRegression(class_weight={0: 1/(1-prop_class_1), 1: 1/prop_class_1})\n",
        "lr.fit(X_train, y_train)"
      ],
      "execution_count": 2,
      "outputs": [
        {
          "output_type": "stream",
          "text": [
            "/usr/local/lib/python3.6/dist-packages/sklearn/linear_model/logistic.py:432: FutureWarning: Default solver will be changed to 'lbfgs' in 0.22. Specify a solver to silence this warning.\n",
            "  FutureWarning)\n"
          ],
          "name": "stderr"
        },
        {
          "output_type": "execute_result",
          "data": {
            "text/plain": [
              "LogisticRegression(C=1.0, class_weight={0: 1.0101010101010102, 1: 100.0},\n",
              "                   dual=False, fit_intercept=True, intercept_scaling=1,\n",
              "                   l1_ratio=None, max_iter=100, multi_class='warn', n_jobs=None,\n",
              "                   penalty='l2', random_state=None, solver='warn', tol=0.0001,\n",
              "                   verbose=0, warm_start=False)"
            ]
          },
          "metadata": {
            "tags": []
          },
          "execution_count": 2
        }
      ]
    },
    {
      "cell_type": "code",
      "metadata": {
        "id": "QmilheMUV5mK",
        "colab_type": "code",
        "outputId": "319b1088-766d-427a-c91b-f7e4d48a9ea6",
        "colab": {
          "base_uri": "https://localhost:8080/",
          "height": 51
        }
      },
      "source": [
        "y_pred = lr.predict_proba(X_test)[:,1]\n",
        "print(y_pred.mean())\n",
        "print(y_test.mean())"
      ],
      "execution_count": 3,
      "outputs": [
        {
          "output_type": "stream",
          "text": [
            "0.49542420945640725\n",
            "0.01516\n"
          ],
          "name": "stdout"
        }
      ]
    },
    {
      "cell_type": "markdown",
      "metadata": {
        "id": "OzUhOVSF4E90",
        "colab_type": "text"
      },
      "source": [
        "As expected, the model trained with class weights for balance produces balanced predictions."
      ]
    },
    {
      "cell_type": "code",
      "metadata": {
        "id": "REfCtsXDWy5f",
        "colab_type": "code",
        "colab": {}
      },
      "source": [
        "y_pred_odds = 1/((1/y_pred)-1)\n",
        "y_adj_odds = y_pred_odds * (prop_class_1 / (1-prop_class_1))\n",
        "y_adj_probs = 1/ (1+ 1/y_adj_odds)"
      ],
      "execution_count": 0,
      "outputs": []
    },
    {
      "cell_type": "code",
      "metadata": {
        "id": "VpWZ8SnsYvH5",
        "colab_type": "code",
        "outputId": "b7a31562-c2ca-4284-ce7e-7bde9c315818",
        "colab": {
          "base_uri": "https://localhost:8080/",
          "height": 34
        }
      },
      "source": [
        "print(y_adj_probs.mean())"
      ],
      "execution_count": 5,
      "outputs": [
        {
          "output_type": "stream",
          "text": [
            "0.014732435648352507\n"
          ],
          "name": "stdout"
        }
      ]
    },
    {
      "cell_type": "markdown",
      "metadata": {
        "id": "Kq7uKd-I4S0q",
        "colab_type": "text"
      },
      "source": [
        "The proposed adjustment have brought the predictions back into the range of the original population."
      ]
    },
    {
      "cell_type": "code",
      "metadata": {
        "id": "BFfVhOZIY1e_",
        "colab_type": "code",
        "outputId": "9ffa9570-6cf6-47c6-fae9-3dd351961fbd",
        "colab": {
          "base_uri": "https://localhost:8080/",
          "height": 269
        }
      },
      "source": [
        "plot_true, plot_pred = calibration_curve(y_test, y_adj_probs, strategy='quantile', n_bins=10)\n",
        "plt.plot(plot_pred, plot_true)\n",
        "xmin = min(plot_pred.min(), plot_true.min())\n",
        "xmax = max(plot_pred.max(), plot_true.max())\n",
        "plt.plot([xmin,xmax],[xmin,xmax], '--')\n",
        "plt.show()"
      ],
      "execution_count": 6,
      "outputs": [
        {
          "output_type": "display_data",
          "data": {
            "image/png": "[encoded data removed]",
            "text/plain": [
              "<Figure size 432x288 with 1 Axes>"
            ]
          },
          "metadata": {
            "tags": []
          }
        }
      ]
    },
    {
      "cell_type": "markdown",
      "metadata": {
        "id": "3mXh7vF54jmb",
        "colab_type": "text"
      },
      "source": [
        "Calibration looks pretty good."
      ]
    },
    {
      "cell_type": "markdown",
      "metadata": {
        "id": "4ZINgpaf4l6K",
        "colab_type": "text"
      },
      "source": [
        "\n",
        "---\n",
        "\n",
        "Finally, let's try without the class weights:\n"
      ]
    },
    {
      "cell_type": "code",
      "metadata": {
        "id": "PdsapIgFa_XB",
        "colab_type": "code",
        "outputId": "6b63a0d9-9e2f-4785-f0aa-1b895cedeb94",
        "colab": {
          "base_uri": "https://localhost:8080/",
          "height": 323
        }
      },
      "source": [
        "lr2 = LogisticRegression()\n",
        "lr2.fit(X_train, y_train)\n",
        "y_pred2 = lr2.predict_proba(X_test)[:,1]\n",
        "plot_true, plot_pred = calibration_curve(y_test, y_pred2, strategy='quantile', n_bins=10)\n",
        "plt.plot(plot_pred, plot_true)\n",
        "xmin = min(plot_pred.min(), plot_true.min())\n",
        "xmax = max(plot_pred.max(), plot_true.max())\n",
        "plt.plot([xmin,xmax],[xmin,xmax], '--')\n",
        "plt.show()"
      ],
      "execution_count": 7,
      "outputs": [
        {
          "output_type": "stream",
          "text": [
            "/usr/local/lib/python3.6/dist-packages/sklearn/linear_model/logistic.py:432: FutureWarning: Default solver will be changed to 'lbfgs' in 0.22. Specify a solver to silence this warning.\n",
            "  FutureWarning)\n"
          ],
          "name": "stderr"
        },
        {
          "output_type": "display_data",
          "data": {
            "image/png": "[encoded data removed]",
            "text/plain": [
              "<Figure size 432x288 with 1 Axes>"
            ]
          },
          "metadata": {
            "tags": []
          }
        }
      ]
    },
    {
      "cell_type": "markdown",
      "metadata": {
        "id": "GjKv1uoo7FZa",
        "colab_type": "text"
      },
      "source": [
        "---\n",
        "\n",
        "Bonus content (should be explored more): how do the weighted and unweighted models compare???\n"
      ]
    },
    {
      "cell_type": "code",
      "metadata": {
        "id": "PvU2h_QGbj5B",
        "colab_type": "code",
        "outputId": "5f815591-2c23-43f8-a977-844bcd4cfcd4",
        "colab": {
          "base_uri": "https://localhost:8080/",
          "height": 51
        }
      },
      "source": [
        "from sklearn.metrics import roc_auc_score\n",
        "print(roc_auc_score(y_test, y_pred))\n",
        "print(roc_auc_score(y_test, y_pred2))\n"
      ],
      "execution_count": 8,
      "outputs": [
        {
          "output_type": "stream",
          "text": [
            "0.7653556143322746\n",
            "0.7443578154050231\n"
          ],
          "name": "stdout"
        }
      ]
    },
    {
      "cell_type": "markdown",
      "metadata": {
        "id": "V3aVTpmU4qoz",
        "colab_type": "text"
      },
      "source": [
        "The unweighted model does pretty well too!"
      ]
    },
    {
      "cell_type": "code",
      "metadata": {
        "id": "RxhKL6jAbzJS",
        "colab_type": "code",
        "colab": {
          "base_uri": "https://localhost:8080/",
          "height": 51
        },
        "outputId": "8b0030f9-5cb2-4506-e0c5-1cc55be5eb2e"
      },
      "source": [
        "from sklearn.metrics import average_precision_score\n",
        "print(average_precision_score(y_test, y_pred))\n",
        "print(average_precision_score(y_test, y_pred2))"
      ],
      "execution_count": 9,
      "outputs": [
        {
          "output_type": "stream",
          "text": [
            "0.058349810410396996\n",
            "0.08588902072602063\n"
          ],
          "name": "stdout"
        }
      ]
    },
    {
      "cell_type": "code",
      "metadata": {
        "id": "G4BN60mF0Z7Q",
        "colab_type": "code",
        "colab": {
          "base_uri": "https://localhost:8080/",
          "height": 68
        },
        "outputId": "2bfc6d71-2f1e-427d-b545-7847f9fe8799"
      },
      "source": [
        "from sklearn.metrics import precision_score\n",
        "threshold = 0.5\n",
        "thresh_odds = 1/(1/threshold-1)\n",
        "adj_odds = thresh_odds * prop_class_1/(1-prop_class_1)\n",
        "adj_thresh = 1/(1+1/adj_odds)\n",
        "print(precision_score(y_test, lr.predict(X_test)))\n",
        "print(precision_score(y_test, y_pred>threshold))\n",
        "print(precision_score(y_test, y_pred2>adj_thresh))"
      ],
      "execution_count": 21,
      "outputs": [
        {
          "output_type": "stream",
          "text": [
            "0.026106119681301915\n",
            "0.026106119681301915\n",
            "0.025126903553299492\n"
          ],
          "name": "stdout"
        }
      ]
    },
    {
      "cell_type": "code",
      "metadata": {
        "id": "7qyNN3173j_0",
        "colab_type": "code",
        "colab": {}
      },
      "source": [
        ""
      ],
      "execution_count": 0,
      "outputs": []
    }
  ]
}