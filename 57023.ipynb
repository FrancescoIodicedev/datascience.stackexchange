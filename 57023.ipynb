{
  "nbformat": 4,
  "nbformat_minor": 0,
  "metadata": {
    "colab": {
      "name": "57023.ipynb",
      "version": "0.3.2",
      "provenance": [],
      "collapsed_sections": [],
      "include_colab_link": true
    },
    "kernelspec": {
      "name": "python3",
      "display_name": "Python 3"
    }
  },
  "cells": [
    {
      "cell_type": "markdown",
      "metadata": {
        "id": "view-in-github",
        "colab_type": "text"
      },
      "source": [
        "<a href=\"https://colab.research.google.com/github/bmreiniger/datascience.stackexchange/blob/master/57023.ipynb\" target=\"_parent\"><img src=\"https://colab.research.google.com/assets/colab-badge.svg\" alt=\"Open In Colab\"/></a>"
      ]
    },
    {
      "cell_type": "code",
      "metadata": {
        "id": "SnUJ8azyRa-d",
        "colab_type": "code",
        "colab": {}
      },
      "source": [
        "import xgboost as xgb\n",
        "import numpy as np\n",
        "\n",
        "X = np.random.rand(500).reshape(50,10)\n",
        "y = np.array([xs.mean() for xs in X])\n",
        "\n",
        "X_test = np.random.rand(100).reshape(10,10)\n",
        "y_test = np.array([xs.mean() for xs in X_test])"
      ],
      "execution_count": 0,
      "outputs": []
    },
    {
      "cell_type": "code",
      "metadata": {
        "id": "AL9YLeRaRrgm",
        "colab_type": "code",
        "outputId": "c6d4e195-34a0-4359-dc3e-d7f451de78d2",
        "colab": {
          "base_uri": "https://localhost:8080/",
          "height": 176
        }
      },
      "source": [
        "model = xgb.train(params={'objective': 'reg:logistic'},\n",
        "                  num_boost_round=5,\n",
        "                  dtrain=xgb.DMatrix(X, y),\n",
        "                  evals=[(xgb.DMatrix(X_test, y_test), 'test')])\n",
        "print(y_test)\n",
        "print(model.predict(xgb.DMatrix(X_test)))"
      ],
      "execution_count": 37,
      "outputs": [
        {
          "output_type": "stream",
          "text": [
            "[0]\ttest-rmse:0.100296\n",
            "[1]\ttest-rmse:0.100444\n",
            "[2]\ttest-rmse:0.095033\n",
            "[3]\ttest-rmse:0.093\n",
            "[4]\ttest-rmse:0.088013\n",
            "[0.49469734 0.33609217 0.47616206 0.47180473 0.43584796 0.76138204\n",
            " 0.56777767 0.57500507 0.52263958 0.58865838]\n",
            "[0.46046695 0.45862204 0.4941409  0.49458915 0.50130796 0.5664911\n",
            " 0.5121671  0.52104986 0.4407682  0.5147551 ]\n"
          ],
          "name": "stdout"
        }
      ]
    },
    {
      "cell_type": "code",
      "metadata": {
        "id": "2tEvcCxuSNJk",
        "colab_type": "code",
        "outputId": "af3229e6-4f3f-4dcf-c596-23acc6921b25",
        "colab": {
          "base_uri": "https://localhost:8080/",
          "height": 176
        }
      },
      "source": [
        "model = xgb.train(params={'objective': 'binary:logistic'},\n",
        "                  num_boost_round=5,\n",
        "                  dtrain=xgb.DMatrix(X, y),\n",
        "                  evals=[(xgb.DMatrix(X_test, y_test), 'test')])\n",
        "print(y_test)\n",
        "print(model.predict(xgb.DMatrix(X_test)))"
      ],
      "execution_count": 38,
      "outputs": [
        {
          "output_type": "stream",
          "text": [
            "[0]\ttest-error:0.465411\n",
            "[1]\ttest-error:0.447679\n",
            "[2]\ttest-error:0.447679\n",
            "[3]\ttest-error:0.447679\n",
            "[4]\ttest-error:0.437272\n",
            "[0.49469734 0.33609217 0.47616206 0.47180473 0.43584796 0.76138204\n",
            " 0.56777767 0.57500507 0.52263958 0.58865838]\n",
            "[0.46046695 0.45862204 0.4941409  0.49458915 0.50130796 0.5664911\n",
            " 0.5121671  0.52104986 0.4407682  0.5147551 ]\n"
          ],
          "name": "stdout"
        }
      ]
    },
    {
      "cell_type": "code",
      "metadata": {
        "id": "IxcOHAmsSU9V",
        "colab_type": "code",
        "colab": {}
      },
      "source": [
        ""
      ],
      "execution_count": 0,
      "outputs": []
    }
  ]
}