{
  "nbformat": 4,
  "nbformat_minor": 0,
  "metadata": {
    "colab": {
      "name": "GridSearchNoCV_oob.ipynb",
      "provenance": [],
      "authorship_tag": "ABX9TyMvW/CKL20B3sMbQhGdaVsA",
      "include_colab_link": true
    },
    "kernelspec": {
      "name": "python3",
      "display_name": "Python 3"
    }
  },
  "cells": [
    {
      "cell_type": "markdown",
      "metadata": {
        "id": "view-in-github",
        "colab_type": "text"
      },
      "source": [
        "<a href=\"https://colab.research.google.com/github/bmreiniger/datascience.stackexchange/blob/master/GridSearchNoCV_oob.ipynb\" target=\"_parent\"><img src=\"https://colab.research.google.com/assets/colab-badge.svg\" alt=\"Open In Colab\"/></a>"
      ]
    },
    {
      "cell_type": "code",
      "metadata": {
        "id": "7wNNbgQJB05W",
        "colab_type": "code",
        "colab": {}
      },
      "source": [
        "from sklearn.model_selection import GridSearchCV, PredefinedSplit\n",
        "from sklearn.ensemble import RandomForestClassifier \n",
        "from sklearn.datasets import load_iris\n",
        "import numpy as np\n",
        "import pandas as pd"
      ],
      "execution_count": 0,
      "outputs": []
    },
    {
      "cell_type": "code",
      "metadata": {
        "id": "gs7DQjhMF712",
        "colab_type": "code",
        "colab": {}
      },
      "source": [
        "def oob_scorer(estimator, X, y):\n",
        "    return estimator.oob_score_\n",
        "\n",
        "X, y = load_iris(return_X_y=True)\n",
        "y = np.abs(y-1)  # convert classes 0,1,2 to 1,0,1; I dunno, binary is nice"
      ],
      "execution_count": 0,
      "outputs": []
    },
    {
      "cell_type": "code",
      "metadata": {
        "id": "eaYOgBLuDU7S",
        "colab_type": "code",
        "colab": {
          "base_uri": "https://localhost:8080/",
          "height": 35
        },
        "outputId": "0c13cae7-50ba-43a5-cc7c-a69095f64dfa"
      },
      "source": [
        "cv = PredefinedSplit([-1]*(X.shape[0]-1) + [0])\n",
        "for (train, test) in cv.split(X,y):\n",
        "  print(len(train), len(test))"
      ],
      "execution_count": 3,
      "outputs": [
        {
          "output_type": "stream",
          "text": [
            "149 1\n"
          ],
          "name": "stdout"
        }
      ]
    },
    {
      "cell_type": "code",
      "metadata": {
        "id": "v4STNpgMB3ME",
        "colab_type": "code",
        "colab": {}
      },
      "source": [
        "forest = RandomForestClassifier(n_estimators = 100,\n",
        "                                oob_score = True,\n",
        "                                random_state=42)\n",
        "\n",
        "model = GridSearchCV(estimator=forest,\n",
        "                     param_grid={'max_depth': [1,2,3], 'max_features': ['sqrt', 0.1, 0.2]},\n",
        "                     scoring=oob_scorer,\n",
        "                     cv=cv\n",
        "                     )\n"
      ],
      "execution_count": 0,
      "outputs": []
    },
    {
      "cell_type": "code",
      "metadata": {
        "id": "BMSn4191C78Y",
        "colab_type": "code",
        "colab": {
          "base_uri": "https://localhost:8080/",
          "height": 390
        },
        "outputId": "45a0396c-28e1-4c51-a02f-fc645da7f1ba"
      },
      "source": [
        "model.fit(X,y)"
      ],
      "execution_count": 5,
      "outputs": [
        {
          "output_type": "execute_result",
          "data": {
            "text/plain": [
              "GridSearchCV(cv=PredefinedSplit(test_fold=array([-1, -1, ..., -1,  0])),\n",
              "             error_score=nan,\n",
              "             estimator=RandomForestClassifier(bootstrap=True, ccp_alpha=0.0,\n",
              "                                              class_weight=None,\n",
              "                                              criterion='gini', max_depth=None,\n",
              "                                              max_features='auto',\n",
              "                                              max_leaf_nodes=None,\n",
              "                                              max_samples=None,\n",
              "                                              min_impurity_decrease=0.0,\n",
              "                                              min_impurity_split=None,\n",
              "                                              min_samples_leaf=1,\n",
              "                                              min_samples_split=2,\n",
              "                                              min_weight_fraction_leaf=0.0,\n",
              "                                              n_estimators=100, n_jobs=None,\n",
              "                                              oob_score=True, random_state=42,\n",
              "                                              verbose=0, warm_start=False),\n",
              "             iid='deprecated', n_jobs=None,\n",
              "             param_grid={'max_depth': [1, 2, 3],\n",
              "                         'max_features': ['sqrt', 0.1, 0.2]},\n",
              "             pre_dispatch='2*n_jobs', refit=True, return_train_score=False,\n",
              "             scoring=<function oob_scorer at 0x7f4047750950>, verbose=0)"
            ]
          },
          "metadata": {
            "tags": []
          },
          "execution_count": 5
        }
      ]
    },
    {
      "cell_type": "code",
      "metadata": {
        "id": "9uPrfs0IECbd",
        "colab_type": "code",
        "colab": {
          "base_uri": "https://localhost:8080/",
          "height": 801
        },
        "outputId": "fd66d58d-534b-4efa-eee0-21ca18c84270"
      },
      "source": [
        "pd.DataFrame(model.cv_results_)"
      ],
      "execution_count": 6,
      "outputs": [
        {
          "output_type": "execute_result",
          "data": {
            "text/html": [
              "<div>\n",
              "<style scoped>\n",
              "    .dataframe tbody tr th:only-of-type {\n",
              "        vertical-align: middle;\n",
              "    }\n",
              "\n",
              "    .dataframe tbody tr th {\n",
              "        vertical-align: top;\n",
              "    }\n",
              "\n",
              "    .dataframe thead th {\n",
              "        text-align: right;\n",
              "    }\n",
              "</style>\n",
              "<table border=\"1\" class=\"dataframe\">\n",
              "  <thead>\n",
              "    <tr style=\"text-align: right;\">\n",
              "      <th></th>\n",
              "      <th>mean_fit_time</th>\n",
              "      <th>std_fit_time</th>\n",
              "      <th>mean_score_time</th>\n",
              "      <th>std_score_time</th>\n",
              "      <th>param_max_depth</th>\n",
              "      <th>param_max_features</th>\n",
              "      <th>params</th>\n",
              "      <th>split0_test_score</th>\n",
              "      <th>mean_test_score</th>\n",
              "      <th>std_test_score</th>\n",
              "      <th>rank_test_score</th>\n",
              "    </tr>\n",
              "  </thead>\n",
              "  <tbody>\n",
              "    <tr>\n",
              "      <th>0</th>\n",
              "      <td>0.159788</td>\n",
              "      <td>0.0</td>\n",
              "      <td>0.000088</td>\n",
              "      <td>0.0</td>\n",
              "      <td>1</td>\n",
              "      <td>sqrt</td>\n",
              "      <td>{'max_depth': 1, 'max_features': 'sqrt'}</td>\n",
              "      <td>0.798658</td>\n",
              "      <td>0.798658</td>\n",
              "      <td>0.0</td>\n",
              "      <td>7</td>\n",
              "    </tr>\n",
              "    <tr>\n",
              "      <th>1</th>\n",
              "      <td>0.153390</td>\n",
              "      <td>0.0</td>\n",
              "      <td>0.000032</td>\n",
              "      <td>0.0</td>\n",
              "      <td>1</td>\n",
              "      <td>0.1</td>\n",
              "      <td>{'max_depth': 1, 'max_features': 0.1}</td>\n",
              "      <td>0.718121</td>\n",
              "      <td>0.718121</td>\n",
              "      <td>0.0</td>\n",
              "      <td>8</td>\n",
              "    </tr>\n",
              "    <tr>\n",
              "      <th>2</th>\n",
              "      <td>0.159883</td>\n",
              "      <td>0.0</td>\n",
              "      <td>0.000034</td>\n",
              "      <td>0.0</td>\n",
              "      <td>1</td>\n",
              "      <td>0.2</td>\n",
              "      <td>{'max_depth': 1, 'max_features': 0.2}</td>\n",
              "      <td>0.718121</td>\n",
              "      <td>0.718121</td>\n",
              "      <td>0.0</td>\n",
              "      <td>8</td>\n",
              "    </tr>\n",
              "    <tr>\n",
              "      <th>3</th>\n",
              "      <td>0.160783</td>\n",
              "      <td>0.0</td>\n",
              "      <td>0.000035</td>\n",
              "      <td>0.0</td>\n",
              "      <td>2</td>\n",
              "      <td>sqrt</td>\n",
              "      <td>{'max_depth': 2, 'max_features': 'sqrt'}</td>\n",
              "      <td>0.939597</td>\n",
              "      <td>0.939597</td>\n",
              "      <td>0.0</td>\n",
              "      <td>2</td>\n",
              "    </tr>\n",
              "    <tr>\n",
              "      <th>4</th>\n",
              "      <td>0.156549</td>\n",
              "      <td>0.0</td>\n",
              "      <td>0.000036</td>\n",
              "      <td>0.0</td>\n",
              "      <td>2</td>\n",
              "      <td>0.1</td>\n",
              "      <td>{'max_depth': 2, 'max_features': 0.1}</td>\n",
              "      <td>0.919463</td>\n",
              "      <td>0.919463</td>\n",
              "      <td>0.0</td>\n",
              "      <td>5</td>\n",
              "    </tr>\n",
              "    <tr>\n",
              "      <th>5</th>\n",
              "      <td>0.155305</td>\n",
              "      <td>0.0</td>\n",
              "      <td>0.000033</td>\n",
              "      <td>0.0</td>\n",
              "      <td>2</td>\n",
              "      <td>0.2</td>\n",
              "      <td>{'max_depth': 2, 'max_features': 0.2}</td>\n",
              "      <td>0.919463</td>\n",
              "      <td>0.919463</td>\n",
              "      <td>0.0</td>\n",
              "      <td>5</td>\n",
              "    </tr>\n",
              "    <tr>\n",
              "      <th>6</th>\n",
              "      <td>0.154934</td>\n",
              "      <td>0.0</td>\n",
              "      <td>0.000032</td>\n",
              "      <td>0.0</td>\n",
              "      <td>3</td>\n",
              "      <td>sqrt</td>\n",
              "      <td>{'max_depth': 3, 'max_features': 'sqrt'}</td>\n",
              "      <td>0.959732</td>\n",
              "      <td>0.959732</td>\n",
              "      <td>0.0</td>\n",
              "      <td>1</td>\n",
              "    </tr>\n",
              "    <tr>\n",
              "      <th>7</th>\n",
              "      <td>0.151243</td>\n",
              "      <td>0.0</td>\n",
              "      <td>0.000031</td>\n",
              "      <td>0.0</td>\n",
              "      <td>3</td>\n",
              "      <td>0.1</td>\n",
              "      <td>{'max_depth': 3, 'max_features': 0.1}</td>\n",
              "      <td>0.939597</td>\n",
              "      <td>0.939597</td>\n",
              "      <td>0.0</td>\n",
              "      <td>2</td>\n",
              "    </tr>\n",
              "    <tr>\n",
              "      <th>8</th>\n",
              "      <td>0.149167</td>\n",
              "      <td>0.0</td>\n",
              "      <td>0.000032</td>\n",
              "      <td>0.0</td>\n",
              "      <td>3</td>\n",
              "      <td>0.2</td>\n",
              "      <td>{'max_depth': 3, 'max_features': 0.2}</td>\n",
              "      <td>0.939597</td>\n",
              "      <td>0.939597</td>\n",
              "      <td>0.0</td>\n",
              "      <td>2</td>\n",
              "    </tr>\n",
              "  </tbody>\n",
              "</table>\n",
              "</div>"
            ],
            "text/plain": [
              "   mean_fit_time  std_fit_time  ...  std_test_score  rank_test_score\n",
              "0       0.159788           0.0  ...             0.0                7\n",
              "1       0.153390           0.0  ...             0.0                8\n",
              "2       0.159883           0.0  ...             0.0                8\n",
              "3       0.160783           0.0  ...             0.0                2\n",
              "4       0.156549           0.0  ...             0.0                5\n",
              "5       0.155305           0.0  ...             0.0                5\n",
              "6       0.154934           0.0  ...             0.0                1\n",
              "7       0.151243           0.0  ...             0.0                2\n",
              "8       0.149167           0.0  ...             0.0                2\n",
              "\n",
              "[9 rows x 11 columns]"
            ]
          },
          "metadata": {
            "tags": []
          },
          "execution_count": 6
        }
      ]
    },
    {
      "cell_type": "code",
      "metadata": {
        "id": "jlWkCfVwEzkA",
        "colab_type": "code",
        "colab": {
          "base_uri": "https://localhost:8080/",
          "height": 35
        },
        "outputId": "0395c05a-5c06-4b40-9f8b-2fe9e0df9388"
      },
      "source": [
        "forest.set_params(**{'max_depth': 3, 'max_features': 0.2})\n",
        "forest.fit(X[:-1,:], y[:-1])\n",
        "forest.oob_score_"
      ],
      "execution_count": 7,
      "outputs": [
        {
          "output_type": "execute_result",
          "data": {
            "text/plain": [
              "0.9395973154362416"
            ]
          },
          "metadata": {
            "tags": []
          },
          "execution_count": 7
        }
      ]
    },
    {
      "cell_type": "code",
      "metadata": {
        "id": "UOphFuHvFtEA",
        "colab_type": "code",
        "colab": {}
      },
      "source": [
        ""
      ],
      "execution_count": 0,
      "outputs": []
    }
  ]
}